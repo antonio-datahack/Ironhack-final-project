{
 "cells": [
  {
   "cell_type": "code",
   "execution_count": 36,
   "id": "apparent-explosion",
   "metadata": {},
   "outputs": [
    {
     "name": "stderr",
     "output_type": "stream",
     "text": [
      "[nltk_data] Downloading package stopwords to /Users/kilo/nltk_data...\n",
      "[nltk_data]   Package stopwords is already up-to-date!\n"
     ]
    }
   ],
   "source": [
    "import numpy as np\n",
    "import pandas as pd\n",
    "\n",
    "import nltk\n",
    "nltk.download('stopwords')\n",
    "from nltk.corpus import stopwords\n",
    "from nltk.util import bigrams\n",
    "from nltk.stem import PorterStemmer\n",
    "\n",
    "import re\n",
    "import datetime"
   ]
  },
  {
   "cell_type": "markdown",
   "id": "secure-citizenship",
   "metadata": {},
   "source": [
    "### <span style=\"color:#003049\">1. Get data </span>\n",
    "[data source](https://www.kaggle.com/clmentbisaillon/fake-and-real-news-dataset) "
   ]
  },
  {
   "cell_type": "code",
   "execution_count": 38,
   "id": "collected-router",
   "metadata": {},
   "outputs": [],
   "source": [
    "df_0 = pd.read_csv(\"../data/Fake.csv\")\n",
    "df_1 = pd.read_csv(\"../data/True.csv\")"
   ]
  },
  {
   "cell_type": "markdown",
   "id": "american-nigeria",
   "metadata": {},
   "source": [
    "### <span style=\"color:#003049\">2. EDA</span> "
   ]
  },
  {
   "cell_type": "markdown",
   "id": "meaning-highway",
   "metadata": {},
   "source": [
    "<img src=\"../images/Screenshot 2021-05-17 at 16.24.54.png\n",
    "\" width=\"300\" height=\"50\" />"
   ]
  },
  {
   "cell_type": "code",
   "execution_count": 39,
   "id": "developed-investing",
   "metadata": {},
   "outputs": [
    {
     "data": {
      "text/html": [
       "<div>\n",
       "<style scoped>\n",
       "    .dataframe tbody tr th:only-of-type {\n",
       "        vertical-align: middle;\n",
       "    }\n",
       "\n",
       "    .dataframe tbody tr th {\n",
       "        vertical-align: top;\n",
       "    }\n",
       "\n",
       "    .dataframe thead th {\n",
       "        text-align: right;\n",
       "    }\n",
       "</style>\n",
       "<table border=\"1\" class=\"dataframe\">\n",
       "  <thead>\n",
       "    <tr style=\"text-align: right;\">\n",
       "      <th></th>\n",
       "      <th>title</th>\n",
       "      <th>text</th>\n",
       "      <th>subject</th>\n",
       "      <th>date</th>\n",
       "    </tr>\n",
       "  </thead>\n",
       "  <tbody>\n",
       "    <tr>\n",
       "      <th>0</th>\n",
       "      <td>Donald Trump Sends Out Embarrassing New Year’...</td>\n",
       "      <td>Donald Trump just couldn t wish all Americans ...</td>\n",
       "      <td>News</td>\n",
       "      <td>December 31, 2017</td>\n",
       "    </tr>\n",
       "    <tr>\n",
       "      <th>1</th>\n",
       "      <td>Drunk Bragging Trump Staffer Started Russian ...</td>\n",
       "      <td>House Intelligence Committee Chairman Devin Nu...</td>\n",
       "      <td>News</td>\n",
       "      <td>December 31, 2017</td>\n",
       "    </tr>\n",
       "    <tr>\n",
       "      <th>2</th>\n",
       "      <td>Sheriff David Clarke Becomes An Internet Joke...</td>\n",
       "      <td>On Friday, it was revealed that former Milwauk...</td>\n",
       "      <td>News</td>\n",
       "      <td>December 30, 2017</td>\n",
       "    </tr>\n",
       "    <tr>\n",
       "      <th>3</th>\n",
       "      <td>Trump Is So Obsessed He Even Has Obama’s Name...</td>\n",
       "      <td>On Christmas day, Donald Trump announced that ...</td>\n",
       "      <td>News</td>\n",
       "      <td>December 29, 2017</td>\n",
       "    </tr>\n",
       "    <tr>\n",
       "      <th>4</th>\n",
       "      <td>Pope Francis Just Called Out Donald Trump Dur...</td>\n",
       "      <td>Pope Francis used his annual Christmas Day mes...</td>\n",
       "      <td>News</td>\n",
       "      <td>December 25, 2017</td>\n",
       "    </tr>\n",
       "  </tbody>\n",
       "</table>\n",
       "</div>"
      ],
      "text/plain": [
       "                                               title  \\\n",
       "0   Donald Trump Sends Out Embarrassing New Year’...   \n",
       "1   Drunk Bragging Trump Staffer Started Russian ...   \n",
       "2   Sheriff David Clarke Becomes An Internet Joke...   \n",
       "3   Trump Is So Obsessed He Even Has Obama’s Name...   \n",
       "4   Pope Francis Just Called Out Donald Trump Dur...   \n",
       "\n",
       "                                                text subject  \\\n",
       "0  Donald Trump just couldn t wish all Americans ...    News   \n",
       "1  House Intelligence Committee Chairman Devin Nu...    News   \n",
       "2  On Friday, it was revealed that former Milwauk...    News   \n",
       "3  On Christmas day, Donald Trump announced that ...    News   \n",
       "4  Pope Francis used his annual Christmas Day mes...    News   \n",
       "\n",
       "                date  \n",
       "0  December 31, 2017  \n",
       "1  December 31, 2017  \n",
       "2  December 30, 2017  \n",
       "3  December 29, 2017  \n",
       "4  December 25, 2017  "
      ]
     },
     "execution_count": 39,
     "metadata": {},
     "output_type": "execute_result"
    }
   ],
   "source": [
    "df_0.head()"
   ]
  },
  {
   "cell_type": "code",
   "execution_count": 40,
   "id": "separate-baseline",
   "metadata": {},
   "outputs": [
    {
     "data": {
      "text/html": [
       "<div>\n",
       "<style scoped>\n",
       "    .dataframe tbody tr th:only-of-type {\n",
       "        vertical-align: middle;\n",
       "    }\n",
       "\n",
       "    .dataframe tbody tr th {\n",
       "        vertical-align: top;\n",
       "    }\n",
       "\n",
       "    .dataframe thead th {\n",
       "        text-align: right;\n",
       "    }\n",
       "</style>\n",
       "<table border=\"1\" class=\"dataframe\">\n",
       "  <thead>\n",
       "    <tr style=\"text-align: right;\">\n",
       "      <th></th>\n",
       "      <th>title</th>\n",
       "      <th>text</th>\n",
       "      <th>subject</th>\n",
       "      <th>date</th>\n",
       "    </tr>\n",
       "  </thead>\n",
       "  <tbody>\n",
       "    <tr>\n",
       "      <th>21412</th>\n",
       "      <td>'Fully committed' NATO backs new U.S. approach...</td>\n",
       "      <td>BRUSSELS (Reuters) - NATO allies on Tuesday we...</td>\n",
       "      <td>worldnews</td>\n",
       "      <td>August 22, 2017</td>\n",
       "    </tr>\n",
       "    <tr>\n",
       "      <th>21413</th>\n",
       "      <td>LexisNexis withdrew two products from Chinese ...</td>\n",
       "      <td>LONDON (Reuters) - LexisNexis, a provider of l...</td>\n",
       "      <td>worldnews</td>\n",
       "      <td>August 22, 2017</td>\n",
       "    </tr>\n",
       "    <tr>\n",
       "      <th>21414</th>\n",
       "      <td>Minsk cultural hub becomes haven from authorities</td>\n",
       "      <td>MINSK (Reuters) - In the shadow of disused Sov...</td>\n",
       "      <td>worldnews</td>\n",
       "      <td>August 22, 2017</td>\n",
       "    </tr>\n",
       "    <tr>\n",
       "      <th>21415</th>\n",
       "      <td>Vatican upbeat on possibility of Pope Francis ...</td>\n",
       "      <td>MOSCOW (Reuters) - Vatican Secretary of State ...</td>\n",
       "      <td>worldnews</td>\n",
       "      <td>August 22, 2017</td>\n",
       "    </tr>\n",
       "    <tr>\n",
       "      <th>21416</th>\n",
       "      <td>Indonesia to buy $1.14 billion worth of Russia...</td>\n",
       "      <td>JAKARTA (Reuters) - Indonesia will buy 11 Sukh...</td>\n",
       "      <td>worldnews</td>\n",
       "      <td>August 22, 2017</td>\n",
       "    </tr>\n",
       "  </tbody>\n",
       "</table>\n",
       "</div>"
      ],
      "text/plain": [
       "                                                   title  \\\n",
       "21412  'Fully committed' NATO backs new U.S. approach...   \n",
       "21413  LexisNexis withdrew two products from Chinese ...   \n",
       "21414  Minsk cultural hub becomes haven from authorities   \n",
       "21415  Vatican upbeat on possibility of Pope Francis ...   \n",
       "21416  Indonesia to buy $1.14 billion worth of Russia...   \n",
       "\n",
       "                                                    text    subject  \\\n",
       "21412  BRUSSELS (Reuters) - NATO allies on Tuesday we...  worldnews   \n",
       "21413  LONDON (Reuters) - LexisNexis, a provider of l...  worldnews   \n",
       "21414  MINSK (Reuters) - In the shadow of disused Sov...  worldnews   \n",
       "21415  MOSCOW (Reuters) - Vatican Secretary of State ...  worldnews   \n",
       "21416  JAKARTA (Reuters) - Indonesia will buy 11 Sukh...  worldnews   \n",
       "\n",
       "                   date  \n",
       "21412  August 22, 2017   \n",
       "21413  August 22, 2017   \n",
       "21414  August 22, 2017   \n",
       "21415  August 22, 2017   \n",
       "21416  August 22, 2017   "
      ]
     },
     "execution_count": 40,
     "metadata": {},
     "output_type": "execute_result"
    }
   ],
   "source": [
    "df_1.tail()"
   ]
  },
  {
   "cell_type": "code",
   "execution_count": 41,
   "id": "assigned-disco",
   "metadata": {},
   "outputs": [],
   "source": [
    "# adding category 0 to fake news and category 1 to true news\n",
    "df_0[\"category\"] = 0\n",
    "df_1[\"category\"] = 1"
   ]
  },
  {
   "cell_type": "code",
   "execution_count": 42,
   "id": "loving-history",
   "metadata": {},
   "outputs": [
    {
     "data": {
      "text/html": [
       "<div>\n",
       "<style scoped>\n",
       "    .dataframe tbody tr th:only-of-type {\n",
       "        vertical-align: middle;\n",
       "    }\n",
       "\n",
       "    .dataframe tbody tr th {\n",
       "        vertical-align: top;\n",
       "    }\n",
       "\n",
       "    .dataframe thead th {\n",
       "        text-align: right;\n",
       "    }\n",
       "</style>\n",
       "<table border=\"1\" class=\"dataframe\">\n",
       "  <thead>\n",
       "    <tr style=\"text-align: right;\">\n",
       "      <th></th>\n",
       "      <th>title</th>\n",
       "      <th>text</th>\n",
       "      <th>subject</th>\n",
       "      <th>date</th>\n",
       "      <th>category</th>\n",
       "    </tr>\n",
       "  </thead>\n",
       "  <tbody>\n",
       "    <tr>\n",
       "      <th>0</th>\n",
       "      <td>Donald Trump Sends Out Embarrassing New Year’...</td>\n",
       "      <td>Donald Trump just couldn t wish all Americans ...</td>\n",
       "      <td>News</td>\n",
       "      <td>December 31, 2017</td>\n",
       "      <td>0</td>\n",
       "    </tr>\n",
       "    <tr>\n",
       "      <th>1</th>\n",
       "      <td>Drunk Bragging Trump Staffer Started Russian ...</td>\n",
       "      <td>House Intelligence Committee Chairman Devin Nu...</td>\n",
       "      <td>News</td>\n",
       "      <td>December 31, 2017</td>\n",
       "      <td>0</td>\n",
       "    </tr>\n",
       "    <tr>\n",
       "      <th>2</th>\n",
       "      <td>Sheriff David Clarke Becomes An Internet Joke...</td>\n",
       "      <td>On Friday, it was revealed that former Milwauk...</td>\n",
       "      <td>News</td>\n",
       "      <td>December 30, 2017</td>\n",
       "      <td>0</td>\n",
       "    </tr>\n",
       "    <tr>\n",
       "      <th>3</th>\n",
       "      <td>Trump Is So Obsessed He Even Has Obama’s Name...</td>\n",
       "      <td>On Christmas day, Donald Trump announced that ...</td>\n",
       "      <td>News</td>\n",
       "      <td>December 29, 2017</td>\n",
       "      <td>0</td>\n",
       "    </tr>\n",
       "    <tr>\n",
       "      <th>4</th>\n",
       "      <td>Pope Francis Just Called Out Donald Trump Dur...</td>\n",
       "      <td>Pope Francis used his annual Christmas Day mes...</td>\n",
       "      <td>News</td>\n",
       "      <td>December 25, 2017</td>\n",
       "      <td>0</td>\n",
       "    </tr>\n",
       "    <tr>\n",
       "      <th>...</th>\n",
       "      <td>...</td>\n",
       "      <td>...</td>\n",
       "      <td>...</td>\n",
       "      <td>...</td>\n",
       "      <td>...</td>\n",
       "    </tr>\n",
       "    <tr>\n",
       "      <th>44893</th>\n",
       "      <td>'Fully committed' NATO backs new U.S. approach...</td>\n",
       "      <td>BRUSSELS (Reuters) - NATO allies on Tuesday we...</td>\n",
       "      <td>worldnews</td>\n",
       "      <td>August 22, 2017</td>\n",
       "      <td>1</td>\n",
       "    </tr>\n",
       "    <tr>\n",
       "      <th>44894</th>\n",
       "      <td>LexisNexis withdrew two products from Chinese ...</td>\n",
       "      <td>LONDON (Reuters) - LexisNexis, a provider of l...</td>\n",
       "      <td>worldnews</td>\n",
       "      <td>August 22, 2017</td>\n",
       "      <td>1</td>\n",
       "    </tr>\n",
       "    <tr>\n",
       "      <th>44895</th>\n",
       "      <td>Minsk cultural hub becomes haven from authorities</td>\n",
       "      <td>MINSK (Reuters) - In the shadow of disused Sov...</td>\n",
       "      <td>worldnews</td>\n",
       "      <td>August 22, 2017</td>\n",
       "      <td>1</td>\n",
       "    </tr>\n",
       "    <tr>\n",
       "      <th>44896</th>\n",
       "      <td>Vatican upbeat on possibility of Pope Francis ...</td>\n",
       "      <td>MOSCOW (Reuters) - Vatican Secretary of State ...</td>\n",
       "      <td>worldnews</td>\n",
       "      <td>August 22, 2017</td>\n",
       "      <td>1</td>\n",
       "    </tr>\n",
       "    <tr>\n",
       "      <th>44897</th>\n",
       "      <td>Indonesia to buy $1.14 billion worth of Russia...</td>\n",
       "      <td>JAKARTA (Reuters) - Indonesia will buy 11 Sukh...</td>\n",
       "      <td>worldnews</td>\n",
       "      <td>August 22, 2017</td>\n",
       "      <td>1</td>\n",
       "    </tr>\n",
       "  </tbody>\n",
       "</table>\n",
       "<p>44898 rows × 5 columns</p>\n",
       "</div>"
      ],
      "text/plain": [
       "                                                   title  \\\n",
       "0       Donald Trump Sends Out Embarrassing New Year’...   \n",
       "1       Drunk Bragging Trump Staffer Started Russian ...   \n",
       "2       Sheriff David Clarke Becomes An Internet Joke...   \n",
       "3       Trump Is So Obsessed He Even Has Obama’s Name...   \n",
       "4       Pope Francis Just Called Out Donald Trump Dur...   \n",
       "...                                                  ...   \n",
       "44893  'Fully committed' NATO backs new U.S. approach...   \n",
       "44894  LexisNexis withdrew two products from Chinese ...   \n",
       "44895  Minsk cultural hub becomes haven from authorities   \n",
       "44896  Vatican upbeat on possibility of Pope Francis ...   \n",
       "44897  Indonesia to buy $1.14 billion worth of Russia...   \n",
       "\n",
       "                                                    text    subject  \\\n",
       "0      Donald Trump just couldn t wish all Americans ...       News   \n",
       "1      House Intelligence Committee Chairman Devin Nu...       News   \n",
       "2      On Friday, it was revealed that former Milwauk...       News   \n",
       "3      On Christmas day, Donald Trump announced that ...       News   \n",
       "4      Pope Francis used his annual Christmas Day mes...       News   \n",
       "...                                                  ...        ...   \n",
       "44893  BRUSSELS (Reuters) - NATO allies on Tuesday we...  worldnews   \n",
       "44894  LONDON (Reuters) - LexisNexis, a provider of l...  worldnews   \n",
       "44895  MINSK (Reuters) - In the shadow of disused Sov...  worldnews   \n",
       "44896  MOSCOW (Reuters) - Vatican Secretary of State ...  worldnews   \n",
       "44897  JAKARTA (Reuters) - Indonesia will buy 11 Sukh...  worldnews   \n",
       "\n",
       "                    date  category  \n",
       "0      December 31, 2017         0  \n",
       "1      December 31, 2017         0  \n",
       "2      December 30, 2017         0  \n",
       "3      December 29, 2017         0  \n",
       "4      December 25, 2017         0  \n",
       "...                  ...       ...  \n",
       "44893   August 22, 2017          1  \n",
       "44894   August 22, 2017          1  \n",
       "44895   August 22, 2017          1  \n",
       "44896   August 22, 2017          1  \n",
       "44897   August 22, 2017          1  \n",
       "\n",
       "[44898 rows x 5 columns]"
      ]
     },
     "execution_count": 42,
     "metadata": {},
     "output_type": "execute_result"
    }
   ],
   "source": [
    "# concatenating dataframes\n",
    "df = pd.concat([df_0, df_1],axis=0)\n",
    "df = df.reset_index()\n",
    "df = df.drop(['index'], axis=1)\n",
    "df"
   ]
  },
  {
   "cell_type": "code",
   "execution_count": 7,
   "id": "western-corps",
   "metadata": {},
   "outputs": [],
   "source": [
    "# saving dataframe as CSV\n",
    "df.to_csv(f'../data/fake_news_merge.csv', index=False)"
   ]
  },
  {
   "cell_type": "code",
   "execution_count": 8,
   "id": "seven-absence",
   "metadata": {},
   "outputs": [
    {
     "name": "stdout",
     "output_type": "stream",
     "text": [
      "<class 'pandas.core.frame.DataFrame'>\n",
      "RangeIndex: 44898 entries, 0 to 44897\n",
      "Data columns (total 5 columns):\n",
      " #   Column    Non-Null Count  Dtype \n",
      "---  ------    --------------  ----- \n",
      " 0   title     44898 non-null  object\n",
      " 1   text      44898 non-null  object\n",
      " 2   subject   44898 non-null  object\n",
      " 3   date      44898 non-null  object\n",
      " 4   category  44898 non-null  int64 \n",
      "dtypes: int64(1), object(4)\n",
      "memory usage: 1.7+ MB\n"
     ]
    }
   ],
   "source": [
    "# quick overview of the new dataset\n",
    "df.info()"
   ]
  },
  {
   "cell_type": "code",
   "execution_count": 9,
   "id": "surgical-serum",
   "metadata": {},
   "outputs": [
    {
     "data": {
      "text/plain": [
       "title       0\n",
       "text        0\n",
       "subject     0\n",
       "date        0\n",
       "category    0\n",
       "dtype: int64"
      ]
     },
     "execution_count": 9,
     "metadata": {},
     "output_type": "execute_result"
    }
   ],
   "source": [
    "# Return the number of missing values in each column\n",
    "df.isnull( ).sum( )"
   ]
  },
  {
   "cell_type": "code",
   "execution_count": 10,
   "id": "backed-parcel",
   "metadata": {},
   "outputs": [
    {
     "data": {
      "text/plain": [
       "array(['News', 'politics', 'Government News', 'left-news', 'US_News',\n",
       "       'Middle-east', 'politicsNews', 'worldnews'], dtype=object)"
      ]
     },
     "execution_count": 10,
     "metadata": {},
     "output_type": "execute_result"
    }
   ],
   "source": [
    "# Number of unique elements in \"subjetc\" column\n",
    "df[\"subject\"].unique()"
   ]
  },
  {
   "cell_type": "code",
   "execution_count": 11,
   "id": "descending-costa",
   "metadata": {},
   "outputs": [
    {
     "data": {
      "text/html": [
       "<div>\n",
       "<style scoped>\n",
       "    .dataframe tbody tr th:only-of-type {\n",
       "        vertical-align: middle;\n",
       "    }\n",
       "\n",
       "    .dataframe tbody tr th {\n",
       "        vertical-align: top;\n",
       "    }\n",
       "\n",
       "    .dataframe thead th {\n",
       "        text-align: right;\n",
       "    }\n",
       "</style>\n",
       "<table border=\"1\" class=\"dataframe\">\n",
       "  <thead>\n",
       "    <tr style=\"text-align: right;\">\n",
       "      <th></th>\n",
       "      <th>category</th>\n",
       "    </tr>\n",
       "  </thead>\n",
       "  <tbody>\n",
       "    <tr>\n",
       "      <th>count</th>\n",
       "      <td>44898.000000</td>\n",
       "    </tr>\n",
       "    <tr>\n",
       "      <th>mean</th>\n",
       "      <td>0.477015</td>\n",
       "    </tr>\n",
       "    <tr>\n",
       "      <th>std</th>\n",
       "      <td>0.499477</td>\n",
       "    </tr>\n",
       "    <tr>\n",
       "      <th>min</th>\n",
       "      <td>0.000000</td>\n",
       "    </tr>\n",
       "    <tr>\n",
       "      <th>25%</th>\n",
       "      <td>0.000000</td>\n",
       "    </tr>\n",
       "    <tr>\n",
       "      <th>50%</th>\n",
       "      <td>0.000000</td>\n",
       "    </tr>\n",
       "    <tr>\n",
       "      <th>75%</th>\n",
       "      <td>1.000000</td>\n",
       "    </tr>\n",
       "    <tr>\n",
       "      <th>max</th>\n",
       "      <td>1.000000</td>\n",
       "    </tr>\n",
       "  </tbody>\n",
       "</table>\n",
       "</div>"
      ],
      "text/plain": [
       "           category\n",
       "count  44898.000000\n",
       "mean       0.477015\n",
       "std        0.499477\n",
       "min        0.000000\n",
       "25%        0.000000\n",
       "50%        0.000000\n",
       "75%        1.000000\n",
       "max        1.000000"
      ]
     },
     "execution_count": 11,
     "metadata": {},
     "output_type": "execute_result"
    }
   ],
   "source": [
    "# Statistical summary for numerical columns present in the dataset. \n",
    "# Not to much sense on this dataframe\n",
    "df.describe()"
   ]
  },
  {
   "cell_type": "code",
   "execution_count": 12,
   "id": "quality-creator",
   "metadata": {},
   "outputs": [
    {
     "data": {
      "text/plain": [
       "(44898, 5)"
      ]
     },
     "execution_count": 12,
     "metadata": {},
     "output_type": "execute_result"
    }
   ],
   "source": [
    "# getting number of dimensions as well as the size in each dimension\n",
    "df.shape"
   ]
  },
  {
   "cell_type": "markdown",
   "id": "republican-rabbit",
   "metadata": {},
   "source": [
    "### <span style=\"color:#003049\">3. Data Cleaning</span> "
   ]
  },
  {
   "cell_type": "markdown",
   "id": "weighted-seafood",
   "metadata": {},
   "source": [
    "<img src=\"../images/data_cleaning.jpeg\" width=\"300\" height=\"50\" />"
   ]
  },
  {
   "cell_type": "code",
   "execution_count": 13,
   "id": "mental-impact",
   "metadata": {},
   "outputs": [],
   "source": [
    "# removing a row that has a NaN or missing values in it.\n",
    "df.dropna(inplace=True)"
   ]
  },
  {
   "cell_type": "code",
   "execution_count": 14,
   "id": "involved-artwork",
   "metadata": {},
   "outputs": [
    {
     "data": {
      "text/plain": [
       "209"
      ]
     },
     "execution_count": 14,
     "metadata": {},
     "output_type": "execute_result"
    }
   ],
   "source": [
    "# analyzing duplicated values\n",
    "df.duplicated().sum()"
   ]
  },
  {
   "cell_type": "code",
   "execution_count": 15,
   "id": "blank-applicant",
   "metadata": {},
   "outputs": [],
   "source": [
    "# drop duplicates\n",
    "df = df.drop_duplicates()"
   ]
  },
  {
   "cell_type": "code",
   "execution_count": 16,
   "id": "logical-geneva",
   "metadata": {},
   "outputs": [
    {
     "data": {
      "text/plain": [
       "5960"
      ]
     },
     "execution_count": 16,
     "metadata": {},
     "output_type": "execute_result"
    }
   ],
   "source": [
    "# counting duplicated rows in \"title\" column\n",
    "df[\"title\"].duplicated().sum()"
   ]
  },
  {
   "cell_type": "code",
   "execution_count": 17,
   "id": "preceding-compensation",
   "metadata": {},
   "outputs": [
    {
     "data": {
      "text/plain": [
       "6043"
      ]
     },
     "execution_count": 17,
     "metadata": {},
     "output_type": "execute_result"
    }
   ],
   "source": [
    "df[\"text\"].duplicated().sum()"
   ]
  },
  {
   "cell_type": "code",
   "execution_count": 18,
   "id": "adopted-destruction",
   "metadata": {},
   "outputs": [],
   "source": [
    "# drop duplicated rows on \"text\" column\n",
    "df = df.drop_duplicates(subset=['text'])"
   ]
  },
  {
   "cell_type": "code",
   "execution_count": 19,
   "id": "great-blowing",
   "metadata": {},
   "outputs": [],
   "source": [
    "# drop duplicated rows on \"title\" column\n",
    "df = df.drop_duplicates(subset=['title'])"
   ]
  },
  {
   "cell_type": "code",
   "execution_count": 20,
   "id": "convertible-monkey",
   "metadata": {},
   "outputs": [
    {
     "name": "stdout",
     "output_type": "stream",
     "text": [
      "<class 'pandas.core.frame.DataFrame'>\n",
      "Int64Index: 38270 entries, 0 to 44897\n",
      "Data columns (total 5 columns):\n",
      " #   Column    Non-Null Count  Dtype \n",
      "---  ------    --------------  ----- \n",
      " 0   title     38270 non-null  object\n",
      " 1   text      38270 non-null  object\n",
      " 2   subject   38270 non-null  object\n",
      " 3   date      38270 non-null  object\n",
      " 4   category  38270 non-null  int64 \n",
      "dtypes: int64(1), object(4)\n",
      "memory usage: 1.8+ MB\n"
     ]
    }
   ],
   "source": [
    "df.info()"
   ]
  },
  {
   "cell_type": "code",
   "execution_count": 33,
   "id": "consolidated-olympus",
   "metadata": {},
   "outputs": [
    {
     "data": {
      "text/html": [
       "<div>\n",
       "<style scoped>\n",
       "    .dataframe tbody tr th:only-of-type {\n",
       "        vertical-align: middle;\n",
       "    }\n",
       "\n",
       "    .dataframe tbody tr th {\n",
       "        vertical-align: top;\n",
       "    }\n",
       "\n",
       "    .dataframe thead th {\n",
       "        text-align: right;\n",
       "    }\n",
       "</style>\n",
       "<table border=\"1\" class=\"dataframe\">\n",
       "  <thead>\n",
       "    <tr style=\"text-align: right;\">\n",
       "      <th></th>\n",
       "      <th>title</th>\n",
       "      <th>text</th>\n",
       "      <th>subject</th>\n",
       "      <th>date</th>\n",
       "      <th>category</th>\n",
       "    </tr>\n",
       "  </thead>\n",
       "  <tbody>\n",
       "    <tr>\n",
       "      <th>25307</th>\n",
       "      <td>Factbox: Trump on Twitter (September 7) - Shei...</td>\n",
       "      <td>The following statements were posted to the ve...</td>\n",
       "      <td>politicsNews</td>\n",
       "      <td>September 8, 2017</td>\n",
       "      <td>1</td>\n",
       "    </tr>\n",
       "    <tr>\n",
       "      <th>17129</th>\n",
       "      <td>ULTIMATE DISRESPECT: VA Sent Mail Related To D...</td>\n",
       "      <td>Our current government can t be bothered with ...</td>\n",
       "      <td>Government News</td>\n",
       "      <td>Aug 20, 2015</td>\n",
       "      <td>0</td>\n",
       "    </tr>\n",
       "    <tr>\n",
       "      <th>26314</th>\n",
       "      <td>Senate intel committee Democrat wants to speak...</td>\n",
       "      <td>WASHINGTON (Reuters) - The Senate intelligence...</td>\n",
       "      <td>politicsNews</td>\n",
       "      <td>July 10, 2017</td>\n",
       "      <td>1</td>\n",
       "    </tr>\n",
       "    <tr>\n",
       "      <th>21003</th>\n",
       "      <td>UNHINGED LEFTIST Apologizes To “Refugees” Who ...</td>\n",
       "      <td>Why stop there? Using liberal logic, shouldn t...</td>\n",
       "      <td>left-news</td>\n",
       "      <td>Feb 13, 2016</td>\n",
       "      <td>0</td>\n",
       "    </tr>\n",
       "    <tr>\n",
       "      <th>7661</th>\n",
       "      <td>Fox News Humiliates Mitt Romney For Flip-Flop...</td>\n",
       "      <td>Mitt Romney looked like a defeated man too emb...</td>\n",
       "      <td>News</td>\n",
       "      <td>March 6, 2016</td>\n",
       "      <td>0</td>\n",
       "    </tr>\n",
       "    <tr>\n",
       "      <th>...</th>\n",
       "      <td>...</td>\n",
       "      <td>...</td>\n",
       "      <td>...</td>\n",
       "      <td>...</td>\n",
       "      <td>...</td>\n",
       "    </tr>\n",
       "    <tr>\n",
       "      <th>40324</th>\n",
       "      <td>Iraqi forces complete Kirkuk province takeover...</td>\n",
       "      <td>BAGHDAD/ERBIL, Iraq (Reuters) - Iraqi forces o...</td>\n",
       "      <td>worldnews</td>\n",
       "      <td>October 20, 2017</td>\n",
       "      <td>1</td>\n",
       "    </tr>\n",
       "    <tr>\n",
       "      <th>10620</th>\n",
       "      <td>Candidate Handel’s Excellent Response to Alexa...</td>\n",
       "      <td>We should not allow our political differences...</td>\n",
       "      <td>politics</td>\n",
       "      <td>Jun 14, 2017</td>\n",
       "      <td>0</td>\n",
       "    </tr>\n",
       "    <tr>\n",
       "      <th>42813</th>\n",
       "      <td>Instant View: UK's May calls for two-year tran...</td>\n",
       "      <td>LONDON (Reuters) - Prime Minister Theresa May ...</td>\n",
       "      <td>worldnews</td>\n",
       "      <td>September 22, 2017</td>\n",
       "      <td>1</td>\n",
       "    </tr>\n",
       "    <tr>\n",
       "      <th>10836</th>\n",
       "      <td>Deputy Attorney General Doubles Down On Comey ...</td>\n",
       "      <td>Deputy Attorney General Rod Rosenstein doubled...</td>\n",
       "      <td>politics</td>\n",
       "      <td>May 19, 2017</td>\n",
       "      <td>0</td>\n",
       "    </tr>\n",
       "    <tr>\n",
       "      <th>16494</th>\n",
       "      <td>FBI AND CIA Host Job Fair In U.S. City With 40...</td>\n",
       "      <td>Who better to help root out terror than a pers...</td>\n",
       "      <td>Government News</td>\n",
       "      <td>Jul 16, 2016</td>\n",
       "      <td>0</td>\n",
       "    </tr>\n",
       "  </tbody>\n",
       "</table>\n",
       "<p>100 rows × 5 columns</p>\n",
       "</div>"
      ],
      "text/plain": [
       "                                                   title  \\\n",
       "25307  Factbox: Trump on Twitter (September 7) - Shei...   \n",
       "17129  ULTIMATE DISRESPECT: VA Sent Mail Related To D...   \n",
       "26314  Senate intel committee Democrat wants to speak...   \n",
       "21003  UNHINGED LEFTIST Apologizes To “Refugees” Who ...   \n",
       "7661    Fox News Humiliates Mitt Romney For Flip-Flop...   \n",
       "...                                                  ...   \n",
       "40324  Iraqi forces complete Kirkuk province takeover...   \n",
       "10620  Candidate Handel’s Excellent Response to Alexa...   \n",
       "42813  Instant View: UK's May calls for two-year tran...   \n",
       "10836  Deputy Attorney General Doubles Down On Comey ...   \n",
       "16494  FBI AND CIA Host Job Fair In U.S. City With 40...   \n",
       "\n",
       "                                                    text          subject  \\\n",
       "25307  The following statements were posted to the ve...     politicsNews   \n",
       "17129  Our current government can t be bothered with ...  Government News   \n",
       "26314  WASHINGTON (Reuters) - The Senate intelligence...     politicsNews   \n",
       "21003  Why stop there? Using liberal logic, shouldn t...        left-news   \n",
       "7661   Mitt Romney looked like a defeated man too emb...             News   \n",
       "...                                                  ...              ...   \n",
       "40324  BAGHDAD/ERBIL, Iraq (Reuters) - Iraqi forces o...        worldnews   \n",
       "10620   We should not allow our political differences...         politics   \n",
       "42813  LONDON (Reuters) - Prime Minister Theresa May ...        worldnews   \n",
       "10836  Deputy Attorney General Rod Rosenstein doubled...         politics   \n",
       "16494  Who better to help root out terror than a pers...  Government News   \n",
       "\n",
       "                      date  category  \n",
       "25307   September 8, 2017          1  \n",
       "17129         Aug 20, 2015         0  \n",
       "26314       July 10, 2017          1  \n",
       "21003         Feb 13, 2016         0  \n",
       "7661         March 6, 2016         0  \n",
       "...                    ...       ...  \n",
       "40324    October 20, 2017          1  \n",
       "10620         Jun 14, 2017         0  \n",
       "42813  September 22, 2017          1  \n",
       "10836         May 19, 2017         0  \n",
       "16494         Jul 16, 2016         0  \n",
       "\n",
       "[100 rows x 5 columns]"
      ]
     },
     "execution_count": 33,
     "metadata": {},
     "output_type": "execute_result"
    }
   ],
   "source": [
    "# preparing a sample to work on it better than working whit the whole dataframe\n",
    "df_sample = df.sample(100)\n",
    "df_sample"
   ]
  },
  {
   "cell_type": "markdown",
   "id": "immune-shaft",
   "metadata": {},
   "source": [
    "### <span style=\"color:#003049\">3. Preprocessing </span> "
   ]
  },
  {
   "cell_type": "markdown",
   "id": "painful-candy",
   "metadata": {},
   "source": [
    "<img src=\"../images/Python-data-preprocessing.png\" width=\"300\" height=\"50\" />"
   ]
  },
  {
   "cell_type": "code",
   "execution_count": 34,
   "id": "arctic-kitchen",
   "metadata": {},
   "outputs": [],
   "source": [
    "# Setting up the function to work on the sample and later work with the whole dataframe.\n",
    "from nltk.corpus import stopwords\n",
    "ps = PorterStemmer()\n",
    "en_stops = stopwords.words('english')\n",
    "us_stops = stopwords.words('english')\n",
    "us_stops.append(\"us\")\n",
    "us_stops.append(\"would\")\n",
    "pattern = '[0-9]'\n",
    "pattern2 = \"[_]\"\n",
    "    \n",
    "def stopwords(news):\n",
    "    new_news = []\n",
    "    news = news.lower().split()\n",
    "    news = [word for word in news if not word in us_stops]\n",
    "    news = \" \".join(str(i) for i in news)\n",
    "    news = re.sub(r'\\$[^\\s]+', 'dollar', news) # Changing $ symbol to the word \"dollar\"\n",
    "    news = re.sub('https?://\\S+|www\\.\\S+', '', news) # Removing link of web page from string\n",
    "    news = re.sub(r'[^\\w\\s]+',\"\",news) # Removing characters\n",
    "    news = re.sub(\" \\d+\", \" \", news) # Removing digits\n",
    "    news = re.sub(r'(?:^| )\\w(?:$| )', ' ', news) # Removing any single letter on a string \n",
    "    news = re.sub(\"reuters\",\"\", news) \n",
    "    news = news.split((\" \"))\n",
    "    news = [re.sub(pattern, '', i) for i in news]\n",
    "    news = [re.sub(pattern2, '', i) for i in news]\n",
    "    news = list(map(lambda x: ps.stem(x),news)) # Using PorterStemmer to get the standard version of some words (example: working= work, worked= work)\n",
    "    news = [word for word in news if not word in en_stops]\n",
    "    news = \" \".join(str(i) for i in news)\n",
    "    return news"
   ]
  },
  {
   "cell_type": "code",
   "execution_count": 35,
   "id": "extended-friendship",
   "metadata": {
    "scrolled": true
   },
   "outputs": [
    {
     "data": {
      "text/html": [
       "<div>\n",
       "<style scoped>\n",
       "    .dataframe tbody tr th:only-of-type {\n",
       "        vertical-align: middle;\n",
       "    }\n",
       "\n",
       "    .dataframe tbody tr th {\n",
       "        vertical-align: top;\n",
       "    }\n",
       "\n",
       "    .dataframe thead th {\n",
       "        text-align: right;\n",
       "    }\n",
       "</style>\n",
       "<table border=\"1\" class=\"dataframe\">\n",
       "  <thead>\n",
       "    <tr style=\"text-align: right;\">\n",
       "      <th></th>\n",
       "      <th>title</th>\n",
       "      <th>text</th>\n",
       "      <th>subject</th>\n",
       "      <th>date</th>\n",
       "      <th>category</th>\n",
       "    </tr>\n",
       "  </thead>\n",
       "  <tbody>\n",
       "    <tr>\n",
       "      <th>25307</th>\n",
       "      <td>factbox trump twitter septemb   sheikh sabah h...</td>\n",
       "      <td>follow statement post verifi twitter account u...</td>\n",
       "      <td>politicsNews</td>\n",
       "      <td>September 8, 2017</td>\n",
       "      <td>1</td>\n",
       "    </tr>\n",
       "    <tr>\n",
       "      <th>17129</th>\n",
       "      <td>ultim disrespect va sent mail relat disabl cla...</td>\n",
       "      <td>current govern bother resolv heinou act vetera...</td>\n",
       "      <td>Government News</td>\n",
       "      <td>Aug 20, 2015</td>\n",
       "      <td>0</td>\n",
       "    </tr>\n",
       "    <tr>\n",
       "      <th>26314</th>\n",
       "      <td>senat intel committe democrat want speak trump...</td>\n",
       "      <td>washington   senat intellig committe top democ...</td>\n",
       "      <td>politicsNews</td>\n",
       "      <td>July 10, 2017</td>\n",
       "      <td>1</td>\n",
       "    </tr>\n",
       "    <tr>\n",
       "      <th>21003</th>\n",
       "      <td>unhing leftist apolog refuge gang rape</td>\n",
       "      <td>stop use liber logic  year old girl rape refug...</td>\n",
       "      <td>left-news</td>\n",
       "      <td>Feb 13, 2016</td>\n",
       "      <td>0</td>\n",
       "    </tr>\n",
       "    <tr>\n",
       "      <th>7661</th>\n",
       "      <td>fox news humili mitt romney flipflop donald tr...</td>\n",
       "      <td>mitt romney look like defeat man embarrass adm...</td>\n",
       "      <td>News</td>\n",
       "      <td>March 6, 2016</td>\n",
       "      <td>0</td>\n",
       "    </tr>\n",
       "    <tr>\n",
       "      <th>...</th>\n",
       "      <td>...</td>\n",
       "      <td>...</td>\n",
       "      <td>...</td>\n",
       "      <td>...</td>\n",
       "      <td>...</td>\n",
       "    </tr>\n",
       "    <tr>\n",
       "      <th>40324</th>\n",
       "      <td>iraqi forc complet kirkuk provinc takeov clash...</td>\n",
       "      <td>baghdaderbil iraq   iraqi forc friday took con...</td>\n",
       "      <td>worldnews</td>\n",
       "      <td>October 20, 2017</td>\n",
       "      <td>1</td>\n",
       "    </tr>\n",
       "    <tr>\n",
       "      <th>10620</th>\n",
       "      <td>candid handel excel respons alexandria shooter...</td>\n",
       "      <td>allow polit differ escal violent attack must r...</td>\n",
       "      <td>politics</td>\n",
       "      <td>Jun 14, 2017</td>\n",
       "      <td>0</td>\n",
       "    </tr>\n",
       "    <tr>\n",
       "      <th>42813</th>\n",
       "      <td>instant view uk may call twoyear transit brexit</td>\n",
       "      <td>london   prime minist theresa may call friday ...</td>\n",
       "      <td>worldnews</td>\n",
       "      <td>September 22, 2017</td>\n",
       "      <td>1</td>\n",
       "    </tr>\n",
       "    <tr>\n",
       "      <th>10836</th>\n",
       "      <td>deputi attorney gener doubl comey memo wrote b...</td>\n",
       "      <td>deputi attorney gener rod rosenstein doubl tod...</td>\n",
       "      <td>politics</td>\n",
       "      <td>May 19, 2017</td>\n",
       "      <td>0</td>\n",
       "    </tr>\n",
       "    <tr>\n",
       "      <th>16494</th>\n",
       "      <td>fbi cia host job fair us citi  muslim populati...</td>\n",
       "      <td>better help root terror person whose religion ...</td>\n",
       "      <td>Government News</td>\n",
       "      <td>Jul 16, 2016</td>\n",
       "      <td>0</td>\n",
       "    </tr>\n",
       "  </tbody>\n",
       "</table>\n",
       "<p>100 rows × 5 columns</p>\n",
       "</div>"
      ],
      "text/plain": [
       "                                                   title  \\\n",
       "25307  factbox trump twitter septemb   sheikh sabah h...   \n",
       "17129  ultim disrespect va sent mail relat disabl cla...   \n",
       "26314  senat intel committe democrat want speak trump...   \n",
       "21003             unhing leftist apolog refuge gang rape   \n",
       "7661   fox news humili mitt romney flipflop donald tr...   \n",
       "...                                                  ...   \n",
       "40324  iraqi forc complet kirkuk provinc takeov clash...   \n",
       "10620  candid handel excel respons alexandria shooter...   \n",
       "42813    instant view uk may call twoyear transit brexit   \n",
       "10836  deputi attorney gener doubl comey memo wrote b...   \n",
       "16494  fbi cia host job fair us citi  muslim populati...   \n",
       "\n",
       "                                                    text          subject  \\\n",
       "25307  follow statement post verifi twitter account u...     politicsNews   \n",
       "17129  current govern bother resolv heinou act vetera...  Government News   \n",
       "26314  washington   senat intellig committe top democ...     politicsNews   \n",
       "21003  stop use liber logic  year old girl rape refug...        left-news   \n",
       "7661   mitt romney look like defeat man embarrass adm...             News   \n",
       "...                                                  ...              ...   \n",
       "40324  baghdaderbil iraq   iraqi forc friday took con...        worldnews   \n",
       "10620  allow polit differ escal violent attack must r...         politics   \n",
       "42813  london   prime minist theresa may call friday ...        worldnews   \n",
       "10836  deputi attorney gener rod rosenstein doubl tod...         politics   \n",
       "16494  better help root terror person whose religion ...  Government News   \n",
       "\n",
       "                      date  category  \n",
       "25307   September 8, 2017          1  \n",
       "17129         Aug 20, 2015         0  \n",
       "26314       July 10, 2017          1  \n",
       "21003         Feb 13, 2016         0  \n",
       "7661         March 6, 2016         0  \n",
       "...                    ...       ...  \n",
       "40324    October 20, 2017          1  \n",
       "10620         Jun 14, 2017         0  \n",
       "42813  September 22, 2017          1  \n",
       "10836         May 19, 2017         0  \n",
       "16494         Jul 16, 2016         0  \n",
       "\n",
       "[100 rows x 5 columns]"
      ]
     },
     "execution_count": 35,
     "metadata": {},
     "output_type": "execute_result"
    }
   ],
   "source": [
    "df_sample['text'] = df_sample['text'].apply(stopwords)\n",
    "df_sample['title'] = df_sample['title'].apply(stopwords)\n",
    "df_sample"
   ]
  },
  {
   "cell_type": "code",
   "execution_count": null,
   "id": "religious-assessment",
   "metadata": {},
   "outputs": [],
   "source": [
    "# there some rows that have another information but not date-info I will delete them\n",
    "df_sample = df_sample[df_sample['date'].str.len() < 22]"
   ]
  },
  {
   "cell_type": "code",
   "execution_count": null,
   "id": "vulnerable-following",
   "metadata": {},
   "outputs": [],
   "source": [
    "### <span style=\"color:#003049\">Now I goint to work on the date column</span> "
   ]
  },
  {
   "cell_type": "code",
   "execution_count": null,
   "id": "closing-relief",
   "metadata": {},
   "outputs": [],
   "source": [
    "# the date column is a object, I will change it to datetime and then to ordinal\n",
    "def date_time(dtime):\n",
    "    print(\"object type: \",dtime.dtype)\n",
    "    dtime =pd.to_datetime(dtime) # convert it to datetime\n",
    "    print(\"object type: \",dtime.dtype) # check datatype again\n",
    "    print(\"min time: \",dtime.min()) # check when data begin\n",
    "    print(\"max time: \",dtime.max()) # check when data end\n",
    "    dtime = dtime.apply(lambda x: x.toordinal()) # we will change the effective to date column to ordinal\n",
    "    return dtime\n",
    "df_sample['date'] = date_time(df_sample['date'])"
   ]
  },
  {
   "cell_type": "code",
   "execution_count": null,
   "id": "administrative-perry",
   "metadata": {},
   "outputs": [],
   "source": [
    "df_sample"
   ]
  },
  {
   "cell_type": "code",
   "execution_count": null,
   "id": "italian-currency",
   "metadata": {},
   "outputs": [],
   "source": [
    "# splitting text and title columns into list for better counting words"
   ]
  },
  {
   "cell_type": "code",
   "execution_count": null,
   "id": "differential-shopping",
   "metadata": {},
   "outputs": [],
   "source": [
    "def split_words(news):\n",
    "    news = news.split()\n",
    "    return news "
   ]
  },
  {
   "cell_type": "code",
   "execution_count": null,
   "id": "expired-decision",
   "metadata": {},
   "outputs": [],
   "source": [
    "df_sample['text'] = df_sample['text'].apply(split_words)\n",
    "df_sample['title'] = df_sample['title'].apply(split_words)\n",
    "df_sample"
   ]
  },
  {
   "cell_type": "code",
   "execution_count": null,
   "id": "similar-vault",
   "metadata": {},
   "outputs": [],
   "source": [
    "# to detect the most repeated keywords in df_sample'text'.\n",
    "words = [wrd for x in df_sample['text'] for wrd in x]\n",
    "# importing Counter to count repeated words\n",
    "from collections import Counter\n",
    "keywords_text = Counter(words)\n",
    "keywords_text = pd.DataFrame.from_dict(keywords_text, orient='index').reset_index()\n",
    "keywords_text = keywords_text.sort_values(by=[0], ascending=False)\n",
    "keywords_text.columns = ['word','count']\n",
    "keywords_text.head(7)"
   ]
  },
  {
   "cell_type": "code",
   "execution_count": null,
   "id": "outstanding-denver",
   "metadata": {},
   "outputs": [],
   "source": [
    "# to detect the most repeated keywords in df_sample'title'.\n",
    "words = [wrd for x in df_sample['title'] for wrd in x]\n",
    "# importing Counter to count repeated words\n",
    "from collections import Counter\n",
    "keywords_title = Counter(words)\n",
    "keywords_title = pd.DataFrame.from_dict(keywords_title, orient='index').reset_index()\n",
    "keywords_title = keywords_title.sort_values(by=[0], ascending=False)\n",
    "keywords_title.columns = ['word','count']\n",
    "keywords_title.head(7)"
   ]
  },
  {
   "cell_type": "code",
   "execution_count": null,
   "id": "verbal-romania",
   "metadata": {},
   "outputs": [],
   "source": [
    "df_sample.head(5)"
   ]
  },
  {
   "cell_type": "markdown",
   "id": "rural-still",
   "metadata": {},
   "source": [
    "----------"
   ]
  },
  {
   "cell_type": "markdown",
   "id": "animal-adapter",
   "metadata": {},
   "source": [
    "Before join the list I want to find the two words combinations"
   ]
  },
  {
   "cell_type": "code",
   "execution_count": null,
   "id": "opening-groove",
   "metadata": {},
   "outputs": [],
   "source": [
    "all_words = []\n",
    "for i in df_sample[\"text\"]:\n",
    "    all_words += i\n",
    "all_words2 = [Counter(bigrams(all_words))]\n",
    "bg_dict = dict(all_words2[0])\n",
    "bg_dict_sorted = sorted(bg_dict.items(), key=lambda kv: kv[1], reverse=True)\n",
    "bg, counts = list(zip(*bg_dict_sorted))\n",
    "bg_str = list(map(lambda x: ' '.join(x), bg))\n",
    "d = {'two_word':bg_str,'count':counts}\n",
    "bigrams_true_text = pd.DataFrame(d, columns=['two_word','count'])\n",
    "bigrams_true_text"
   ]
  },
  {
   "cell_type": "markdown",
   "id": "laughing-cholesterol",
   "metadata": {},
   "source": [
    "-------------"
   ]
  },
  {
   "cell_type": "code",
   "execution_count": null,
   "id": "affected-mathematics",
   "metadata": {},
   "outputs": [],
   "source": [
    "def joining_words(news):\n",
    "    newss = \" \".join(str(i) for i in news) # Convert to string\n",
    "    return newss"
   ]
  },
  {
   "cell_type": "code",
   "execution_count": null,
   "id": "fewer-democrat",
   "metadata": {},
   "outputs": [],
   "source": [
    "df_sample['text'] = df_sample['text'].apply(joining_words)\n",
    "df_sample['title'] = df_sample['title'].apply(joining_words)\n",
    "df_sample"
   ]
  },
  {
   "cell_type": "code",
   "execution_count": null,
   "id": "upset-parliament",
   "metadata": {},
   "outputs": [],
   "source": [
    "# counting the length of the texts and the titles\n",
    "df_sample[\"length_text\"] = [len(word.split()) for word in df_sample[\"text\"]]\n",
    "df_sample[\"length_title\"] = [len(word.split()) for word in df_sample[\"title\"]]\n",
    "df_sample"
   ]
  },
  {
   "cell_type": "markdown",
   "id": "varying-louisiana",
   "metadata": {},
   "source": [
    "now lets perform the cleaning in the whole data set. Link to [final project | cleaning complete data](final_project_cleaning_complete_data.ipynb)"
   ]
  },
  {
   "cell_type": "code",
   "execution_count": null,
   "id": "emerging-substance",
   "metadata": {},
   "outputs": [],
   "source": []
  }
 ],
 "metadata": {
  "kernelspec": {
   "display_name": "Python 3",
   "language": "python",
   "name": "python3"
  },
  "language_info": {
   "codemirror_mode": {
    "name": "ipython",
    "version": 3
   },
   "file_extension": ".py",
   "mimetype": "text/x-python",
   "name": "python",
   "nbconvert_exporter": "python",
   "pygments_lexer": "ipython3",
   "version": "3.9.2"
  }
 },
 "nbformat": 4,
 "nbformat_minor": 5
}
