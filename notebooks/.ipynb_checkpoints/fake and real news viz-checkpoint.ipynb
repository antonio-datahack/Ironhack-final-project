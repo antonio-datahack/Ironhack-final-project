{
 "cells": [
  {
   "cell_type": "code",
   "execution_count": 1,
   "id": "quantitative-technique",
   "metadata": {},
   "outputs": [],
   "source": [
    "import numpy as np\n",
    "import pandas as pd\n",
    "\n",
    "import matplotlib.pyplot as plt\n",
    "import seaborn as sns\n",
    "%matplotlib inline\n",
    "import warnings\n",
    "warnings.filterwarnings('ignore')\n",
    "from wordcloud import WordCloud, STOPWORDS, ImageColorGenerator\n",
    "\n",
    "from sklearn.model_selection import train_test_split\n",
    "from sklearn.feature_extraction.text import CountVectorizer, TfidfVectorizer"
   ]
  },
  {
   "cell_type": "code",
   "execution_count": 2,
   "id": "advised-jordan",
   "metadata": {},
   "outputs": [],
   "source": [
    "df = pd.read_csv('../data/df_fake_news.csv')"
   ]
  },
  {
   "cell_type": "code",
   "execution_count": 3,
   "id": "popular-broad",
   "metadata": {},
   "outputs": [
    {
     "data": {
      "text/html": [
       "<div>\n",
       "<style scoped>\n",
       "    .dataframe tbody tr th:only-of-type {\n",
       "        vertical-align: middle;\n",
       "    }\n",
       "\n",
       "    .dataframe tbody tr th {\n",
       "        vertical-align: top;\n",
       "    }\n",
       "\n",
       "    .dataframe thead th {\n",
       "        text-align: right;\n",
       "    }\n",
       "</style>\n",
       "<table border=\"1\" class=\"dataframe\">\n",
       "  <thead>\n",
       "    <tr style=\"text-align: right;\">\n",
       "      <th></th>\n",
       "      <th>index</th>\n",
       "      <th>title</th>\n",
       "      <th>text</th>\n",
       "      <th>subject</th>\n",
       "      <th>date</th>\n",
       "      <th>category</th>\n",
       "      <th>length_text</th>\n",
       "    </tr>\n",
       "  </thead>\n",
       "  <tbody>\n",
       "    <tr>\n",
       "      <th>0</th>\n",
       "      <td>0</td>\n",
       "      <td>donald trump send embarrass new year eve messa...</td>\n",
       "      <td>donald trump wish american happi new year leav...</td>\n",
       "      <td>News</td>\n",
       "      <td>736694</td>\n",
       "      <td>0</td>\n",
       "      <td>255</td>\n",
       "    </tr>\n",
       "    <tr>\n",
       "      <th>1</th>\n",
       "      <td>1</td>\n",
       "      <td>drunk brag trump staffer start russian collus ...</td>\n",
       "      <td>hous intellig committe chairman devin nune go ...</td>\n",
       "      <td>News</td>\n",
       "      <td>736694</td>\n",
       "      <td>0</td>\n",
       "      <td>178</td>\n",
       "    </tr>\n",
       "    <tr>\n",
       "      <th>2</th>\n",
       "      <td>2</td>\n",
       "      <td>sheriff david clark becom internet joke threat...</td>\n",
       "      <td>friday reveal former milwauke sheriff david cl...</td>\n",
       "      <td>News</td>\n",
       "      <td>736693</td>\n",
       "      <td>0</td>\n",
       "      <td>315</td>\n",
       "    </tr>\n",
       "    <tr>\n",
       "      <th>3</th>\n",
       "      <td>3</td>\n",
       "      <td>trump obsess even obama name code websit imag</td>\n",
       "      <td>christma day donald trump announc back work fo...</td>\n",
       "      <td>News</td>\n",
       "      <td>736692</td>\n",
       "      <td>0</td>\n",
       "      <td>238</td>\n",
       "    </tr>\n",
       "    <tr>\n",
       "      <th>4</th>\n",
       "      <td>4</td>\n",
       "      <td>pope franci call donald trump christma speech</td>\n",
       "      <td>pope franci use annual christma day messag reb...</td>\n",
       "      <td>News</td>\n",
       "      <td>736688</td>\n",
       "      <td>0</td>\n",
       "      <td>208</td>\n",
       "    </tr>\n",
       "    <tr>\n",
       "      <th>...</th>\n",
       "      <td>...</td>\n",
       "      <td>...</td>\n",
       "      <td>...</td>\n",
       "      <td>...</td>\n",
       "      <td>...</td>\n",
       "      <td>...</td>\n",
       "      <td>...</td>\n",
       "    </tr>\n",
       "    <tr>\n",
       "      <th>38208</th>\n",
       "      <td>38259</td>\n",
       "      <td>north korea shipment syria chemic arm agenc in...</td>\n",
       "      <td>unit nation two north korean shipment syrian g...</td>\n",
       "      <td>worldnews</td>\n",
       "      <td>736562</td>\n",
       "      <td>1</td>\n",
       "      <td>275</td>\n",
       "    </tr>\n",
       "    <tr>\n",
       "      <th>38209</th>\n",
       "      <td>38260</td>\n",
       "      <td>lexisnexi withdrew two product chines market</td>\n",
       "      <td>london lexisnexi provid legal regulatori busi ...</td>\n",
       "      <td>worldnews</td>\n",
       "      <td>736563</td>\n",
       "      <td>1</td>\n",
       "      <td>73</td>\n",
       "    </tr>\n",
       "    <tr>\n",
       "      <th>38210</th>\n",
       "      <td>38261</td>\n",
       "      <td>minsk cultur hub becom author</td>\n",
       "      <td>minsk shadow disus sovietera factori minsk str...</td>\n",
       "      <td>worldnews</td>\n",
       "      <td>736563</td>\n",
       "      <td>1</td>\n",
       "      <td>169</td>\n",
       "    </tr>\n",
       "    <tr>\n",
       "      <th>38211</th>\n",
       "      <td>38262</td>\n",
       "      <td>vatican upbeat possibl pope franci visit russia</td>\n",
       "      <td>moscow vatican secretari state cardin pietro p...</td>\n",
       "      <td>worldnews</td>\n",
       "      <td>736563</td>\n",
       "      <td>1</td>\n",
       "      <td>116</td>\n",
       "    </tr>\n",
       "    <tr>\n",
       "      <th>38212</th>\n",
       "      <td>38263</td>\n",
       "      <td>indonesia buy dollar billion worth russian jet</td>\n",
       "      <td>jakarta indonesia buy sukhoi fighter jet worth...</td>\n",
       "      <td>worldnews</td>\n",
       "      <td>736563</td>\n",
       "      <td>1</td>\n",
       "      <td>136</td>\n",
       "    </tr>\n",
       "  </tbody>\n",
       "</table>\n",
       "<p>38213 rows × 7 columns</p>\n",
       "</div>"
      ],
      "text/plain": [
       "       index                                              title  \\\n",
       "0          0  donald trump send embarrass new year eve messa...   \n",
       "1          1  drunk brag trump staffer start russian collus ...   \n",
       "2          2  sheriff david clark becom internet joke threat...   \n",
       "3          3      trump obsess even obama name code websit imag   \n",
       "4          4      pope franci call donald trump christma speech   \n",
       "...      ...                                                ...   \n",
       "38208  38259  north korea shipment syria chemic arm agenc in...   \n",
       "38209  38260       lexisnexi withdrew two product chines market   \n",
       "38210  38261                      minsk cultur hub becom author   \n",
       "38211  38262    vatican upbeat possibl pope franci visit russia   \n",
       "38212  38263     indonesia buy dollar billion worth russian jet   \n",
       "\n",
       "                                                    text    subject    date  \\\n",
       "0      donald trump wish american happi new year leav...       News  736694   \n",
       "1      hous intellig committe chairman devin nune go ...       News  736694   \n",
       "2      friday reveal former milwauke sheriff david cl...       News  736693   \n",
       "3      christma day donald trump announc back work fo...       News  736692   \n",
       "4      pope franci use annual christma day messag reb...       News  736688   \n",
       "...                                                  ...        ...     ...   \n",
       "38208  unit nation two north korean shipment syrian g...  worldnews  736562   \n",
       "38209  london lexisnexi provid legal regulatori busi ...  worldnews  736563   \n",
       "38210  minsk shadow disus sovietera factori minsk str...  worldnews  736563   \n",
       "38211  moscow vatican secretari state cardin pietro p...  worldnews  736563   \n",
       "38212  jakarta indonesia buy sukhoi fighter jet worth...  worldnews  736563   \n",
       "\n",
       "       category  length_text  \n",
       "0             0          255  \n",
       "1             0          178  \n",
       "2             0          315  \n",
       "3             0          238  \n",
       "4             0          208  \n",
       "...         ...          ...  \n",
       "38208         1          275  \n",
       "38209         1           73  \n",
       "38210         1          169  \n",
       "38211         1          116  \n",
       "38212         1          136  \n",
       "\n",
       "[38213 rows x 7 columns]"
      ]
     },
     "execution_count": 3,
     "metadata": {},
     "output_type": "execute_result"
    }
   ],
   "source": [
    "df = df[df['text'].notnull()]\n",
    "df = df.dropna()\n",
    "df.reset_index(inplace=True)\n",
    "#df = df.drop(axis=1, columns='level_0')\n",
    "df"
   ]
  },
  {
   "cell_type": "code",
   "execution_count": 4,
   "id": "orange-palestine",
   "metadata": {},
   "outputs": [],
   "source": [
    "df = df.drop(axis=1, columns='index')"
   ]
  },
  {
   "cell_type": "markdown",
   "id": "pending-behavior",
   "metadata": {},
   "source": [
    "comparando el largo de los textos en fake_news con real_news"
   ]
  },
  {
   "cell_type": "code",
   "execution_count": 5,
   "id": "overhead-postcard",
   "metadata": {},
   "outputs": [
    {
     "data": {
      "image/png": "[encoded data removed]",
      "text/plain": [
       "<Figure size 1152x648 with 1 Axes>"
      ]
     },
     "metadata": {
      "needs_background": "light"
     },
     "output_type": "display_data"
    }
   ],
   "source": [
    "plt.figure(figsize=(16,9))\n",
    "sns.histplot(x='length_text', data=df, hue='category', element=\"poly\")\n",
    "plt.title('Comparing length of text real news vs fake news', fontsize=14)\n",
    "plt.ylabel('Total', fontsize=14)\n",
    "plt.xlabel(\"\")\n",
    "plt.xticks(fontsize=14)\n",
    "sns.set_style(\"dark\")\n",
    "plt.legend(['Real news', 'Fake news'])\n",
    "plt.show()"
   ]
  },
  {
   "cell_type": "code",
   "execution_count": 6,
   "id": "digital-lighter",
   "metadata": {},
   "outputs": [],
   "source": [
    "df_real = df.loc[df[\"category\"] == 1]\n",
    "df_fake = df.loc[df[\"category\"] == 0] "
   ]
  },
  {
   "cell_type": "code",
   "execution_count": 7,
   "id": "challenging-allocation",
   "metadata": {},
   "outputs": [
    {
     "name": "stdout",
     "output_type": "stream",
     "text": [
      "Average length of real news:  222.58\n",
      "Average length of fake news:  229.29\n",
      "--------------------------------------\n",
      "diff real news vs fake news:    -7 2\n"
     ]
    }
   ],
   "source": [
    "print(\"Average length of real news: \", round(df_real[\"length_text\"].mean(),2))\n",
    "print(\"Average length of fake news: \", round(df_fake[\"length_text\"].mean(),2))\n",
    "print('-'*38)\n",
    "print(\"diff real news vs fake news:   \", round(df_real[\"length_text\"].mean() - df_fake[\"length_text\"].mean()),2)"
   ]
  },
  {
   "cell_type": "code",
   "execution_count": 8,
   "id": "exceptional-reggae",
   "metadata": {},
   "outputs": [],
   "source": [
    "def split_words(news):\n",
    "    news = news.split()\n",
    "    return news \n",
    "df_real['text'] = df_real['text'].apply(split_words)\n",
    "df_fake['text'] = df_fake['text'].apply(split_words)\n",
    "df_real['title'] = df_real['title'].apply(split_words)\n",
    "df_fake['title'] = df_fake['title'].apply(split_words)\n"
   ]
  },
  {
   "cell_type": "code",
   "execution_count": 9,
   "id": "excited-answer",
   "metadata": {},
   "outputs": [
    {
     "data": {
      "text/html": [
       "<div>\n",
       "<style scoped>\n",
       "    .dataframe tbody tr th:only-of-type {\n",
       "        vertical-align: middle;\n",
       "    }\n",
       "\n",
       "    .dataframe tbody tr th {\n",
       "        vertical-align: top;\n",
       "    }\n",
       "\n",
       "    .dataframe thead th {\n",
       "        text-align: right;\n",
       "    }\n",
       "</style>\n",
       "<table border=\"1\" class=\"dataframe\">\n",
       "  <thead>\n",
       "    <tr style=\"text-align: right;\">\n",
       "      <th></th>\n",
       "      <th>fake_word_text</th>\n",
       "      <th>count</th>\n",
       "    </tr>\n",
       "  </thead>\n",
       "  <tbody>\n",
       "    <tr>\n",
       "      <th>1</th>\n",
       "      <td>trump</td>\n",
       "      <td>64057</td>\n",
       "    </tr>\n",
       "    <tr>\n",
       "      <th>242</th>\n",
       "      <td>said</td>\n",
       "      <td>22884</td>\n",
       "    </tr>\n",
       "    <tr>\n",
       "      <th>33</th>\n",
       "      <td>presid</td>\n",
       "      <td>21077</td>\n",
       "    </tr>\n",
       "    <tr>\n",
       "      <th>80</th>\n",
       "      <td>peopl</td>\n",
       "      <td>20748</td>\n",
       "    </tr>\n",
       "    <tr>\n",
       "      <th>21</th>\n",
       "      <td>one</td>\n",
       "      <td>18254</td>\n",
       "    </tr>\n",
       "  </tbody>\n",
       "</table>\n",
       "</div>"
      ],
      "text/plain": [
       "    fake_word_text  count\n",
       "1            trump  64057\n",
       "242           said  22884\n",
       "33          presid  21077\n",
       "80           peopl  20748\n",
       "21             one  18254"
      ]
     },
     "execution_count": 9,
     "metadata": {},
     "output_type": "execute_result"
    }
   ],
   "source": [
    "# to detect the most repeated keywords in df_fake'text'\n",
    "words = [wrd for x in df_fake['text'] for wrd in x]\n",
    "# importing Counter to count repeated words\n",
    "from collections import Counter\n",
    "keywords_text_fake = Counter(words)\n",
    "keywords_text_fake = pd.DataFrame.from_dict(keywords_text_fake, orient='index').reset_index()\n",
    "keywords_text_fake = keywords_text_fake.sort_values(by=[0], ascending=False)\n",
    "keywords_text_fake.columns = ['fake_word_text','count']\n",
    "keywords_text_fake.head(5)"
   ]
  },
  {
   "cell_type": "code",
   "execution_count": 10,
   "id": "beginning-drunk",
   "metadata": {},
   "outputs": [
    {
     "data": {
      "text/html": [
       "<div>\n",
       "<style scoped>\n",
       "    .dataframe tbody tr th:only-of-type {\n",
       "        vertical-align: middle;\n",
       "    }\n",
       "\n",
       "    .dataframe tbody tr th {\n",
       "        vertical-align: top;\n",
       "    }\n",
       "\n",
       "    .dataframe thead th {\n",
       "        text-align: right;\n",
       "    }\n",
       "</style>\n",
       "<table border=\"1\" class=\"dataframe\">\n",
       "  <thead>\n",
       "    <tr style=\"text-align: right;\">\n",
       "      <th></th>\n",
       "      <th>real_word_text</th>\n",
       "      <th>count</th>\n",
       "    </tr>\n",
       "  </thead>\n",
       "  <tbody>\n",
       "    <tr>\n",
       "      <th>95</th>\n",
       "      <td>said</td>\n",
       "      <td>96024</td>\n",
       "    </tr>\n",
       "    <tr>\n",
       "      <th>64</th>\n",
       "      <td>trump</td>\n",
       "      <td>52049</td>\n",
       "    </tr>\n",
       "    <tr>\n",
       "      <th>5</th>\n",
       "      <td>us</td>\n",
       "      <td>37247</td>\n",
       "    </tr>\n",
       "    <tr>\n",
       "      <th>129</th>\n",
       "      <td>state</td>\n",
       "      <td>35190</td>\n",
       "    </tr>\n",
       "    <tr>\n",
       "      <th>62</th>\n",
       "      <td>presid</td>\n",
       "      <td>27269</td>\n",
       "    </tr>\n",
       "  </tbody>\n",
       "</table>\n",
       "</div>"
      ],
      "text/plain": [
       "    real_word_text  count\n",
       "95            said  96024\n",
       "64           trump  52049\n",
       "5               us  37247\n",
       "129          state  35190\n",
       "62          presid  27269"
      ]
     },
     "execution_count": 10,
     "metadata": {},
     "output_type": "execute_result"
    }
   ],
   "source": [
    "# to detect the most repeated keywords in df_real'text'\n",
    "words = [wrd for x in df_real['text'] for wrd in x]\n",
    "# importing Counter to count repeated words\n",
    "from collections import Counter\n",
    "keywords_text_real = Counter(words)\n",
    "keywords_text_real = pd.DataFrame.from_dict(keywords_text_real, orient='index').reset_index()\n",
    "keywords_text_real = keywords_text_real.sort_values(by=[0], ascending=False)\n",
    "keywords_text_real.columns = ['real_word_text','count']\n",
    "keywords_text_real.head(5)"
   ]
  },
  {
   "cell_type": "code",
   "execution_count": 11,
   "id": "tired-modeling",
   "metadata": {},
   "outputs": [
    {
     "data": {
      "text/html": [
       "<div>\n",
       "<style scoped>\n",
       "    .dataframe tbody tr th:only-of-type {\n",
       "        vertical-align: middle;\n",
       "    }\n",
       "\n",
       "    .dataframe tbody tr th {\n",
       "        vertical-align: top;\n",
       "    }\n",
       "\n",
       "    .dataframe thead th {\n",
       "        text-align: right;\n",
       "    }\n",
       "</style>\n",
       "<table border=\"1\" class=\"dataframe\">\n",
       "  <thead>\n",
       "    <tr style=\"text-align: right;\">\n",
       "      <th></th>\n",
       "      <th>real_word_title</th>\n",
       "      <th>count</th>\n",
       "    </tr>\n",
       "  </thead>\n",
       "  <tbody>\n",
       "    <tr>\n",
       "      <th>28</th>\n",
       "      <td>trump</td>\n",
       "      <td>5199</td>\n",
       "    </tr>\n",
       "    <tr>\n",
       "      <th>0</th>\n",
       "      <td>us</td>\n",
       "      <td>3843</td>\n",
       "    </tr>\n",
       "    <tr>\n",
       "      <th>43</th>\n",
       "      <td>say</td>\n",
       "      <td>3137</td>\n",
       "    </tr>\n",
       "    <tr>\n",
       "      <th>37</th>\n",
       "      <td>hous</td>\n",
       "      <td>1446</td>\n",
       "    </tr>\n",
       "    <tr>\n",
       "      <th>15</th>\n",
       "      <td>senat</td>\n",
       "      <td>1179</td>\n",
       "    </tr>\n",
       "  </tbody>\n",
       "</table>\n",
       "</div>"
      ],
      "text/plain": [
       "   real_word_title  count\n",
       "28           trump   5199\n",
       "0               us   3843\n",
       "43             say   3137\n",
       "37            hous   1446\n",
       "15           senat   1179"
      ]
     },
     "execution_count": 11,
     "metadata": {},
     "output_type": "execute_result"
    }
   ],
   "source": [
    "# to detect the most repeated keywords in df_real'title'.\n",
    "words = [wrd for x in df_real['title'] for wrd in x]\n",
    "# importing Counter to count repeated words\n",
    "from collections import Counter\n",
    "keywords_titles_real = Counter(words)\n",
    "keywords_titles_real = pd.DataFrame.from_dict(keywords_titles_real, orient='index').reset_index()\n",
    "keywords_titles_real = keywords_titles_real.sort_values(by=[0], ascending=False)\n",
    "keywords_titles_real.columns = ['real_word_title','count']\n",
    "keywords_titles_real.head(5)"
   ]
  },
  {
   "cell_type": "code",
   "execution_count": 12,
   "id": "english-nudist",
   "metadata": {},
   "outputs": [
    {
     "data": {
      "text/html": [
       "<div>\n",
       "<style scoped>\n",
       "    .dataframe tbody tr th:only-of-type {\n",
       "        vertical-align: middle;\n",
       "    }\n",
       "\n",
       "    .dataframe tbody tr th {\n",
       "        vertical-align: top;\n",
       "    }\n",
       "\n",
       "    .dataframe thead th {\n",
       "        text-align: right;\n",
       "    }\n",
       "</style>\n",
       "<table border=\"1\" class=\"dataframe\">\n",
       "  <thead>\n",
       "    <tr style=\"text-align: right;\">\n",
       "      <th></th>\n",
       "      <th>fake_word_title</th>\n",
       "      <th>count</th>\n",
       "    </tr>\n",
       "  </thead>\n",
       "  <tbody>\n",
       "    <tr>\n",
       "      <th>1</th>\n",
       "      <td>trump</td>\n",
       "      <td>7185</td>\n",
       "    </tr>\n",
       "    <tr>\n",
       "      <th>150</th>\n",
       "      <td>video</td>\n",
       "      <td>5878</td>\n",
       "    </tr>\n",
       "    <tr>\n",
       "      <th>28</th>\n",
       "      <td>obama</td>\n",
       "      <td>1645</td>\n",
       "    </tr>\n",
       "    <tr>\n",
       "      <th>74</th>\n",
       "      <td>watch</td>\n",
       "      <td>1538</td>\n",
       "    </tr>\n",
       "    <tr>\n",
       "      <th>792</th>\n",
       "      <td>hillari</td>\n",
       "      <td>1407</td>\n",
       "    </tr>\n",
       "  </tbody>\n",
       "</table>\n",
       "</div>"
      ],
      "text/plain": [
       "    fake_word_title  count\n",
       "1             trump   7185\n",
       "150           video   5878\n",
       "28            obama   1645\n",
       "74            watch   1538\n",
       "792         hillari   1407"
      ]
     },
     "execution_count": 12,
     "metadata": {},
     "output_type": "execute_result"
    }
   ],
   "source": [
    "# to detect the most repeated keywords in df_fake'title'.\n",
    "words = [wrd for x in df_fake['title'] for wrd in x]\n",
    "# importing Counter to count repeated words\n",
    "from collections import Counter\n",
    "keywords_titles_fake = Counter(words)\n",
    "keywords_titles_fake = pd.DataFrame.from_dict(keywords_titles_fake, orient='index').reset_index()\n",
    "keywords_titles_fake = keywords_titles_fake.sort_values(by=[0], ascending=False)\n",
    "keywords_titles_fake.columns = ['fake_word_title','count']\n",
    "keywords_titles_fake.head(5)"
   ]
  },
  {
   "cell_type": "code",
   "execution_count": 13,
   "id": "athletic-decision",
   "metadata": {},
   "outputs": [
    {
     "name": "stdout",
     "output_type": "stream",
     "text": [
      "Real news, total title words:  165614\n",
      "Fake news ,total title words:  177142\n",
      "--------------------------------------\n",
      "Diff real news vs fake news:   -11528\n"
     ]
    }
   ],
   "source": [
    "print(\"Real news, total title words: \",  keywords_titles_real[\"count\"].sum())\n",
    "print(\"Fake news ,total title words: \",  keywords_titles_fake[\"count\"].sum())\n",
    "print('-'*38)\n",
    "print(\"Diff real news vs fake news:  \", keywords_titles_real[\"count\"].sum() - keywords_titles_fake[\"count\"].sum())"
   ]
  },
  {
   "cell_type": "code",
   "execution_count": 14,
   "id": "incident-reality",
   "metadata": {},
   "outputs": [
    {
     "name": "stdout",
     "output_type": "stream",
     "text": [
      "Real news, average title words:  16.94\n",
      "Fake news, average title words:  13.47\n",
      "--------------------------------------\n",
      "Diff real news vs fake news:      3.46\n"
     ]
    }
   ],
   "source": [
    "print(\"Real news, average title words: \",  round(keywords_titles_real[\"count\"].mean(),2))\n",
    "print(\"Fake news, average title words: \",  round(keywords_titles_fake[\"count\"].mean(),2))\n",
    "print('-'*38)\n",
    "print(\"Diff real news vs fake news:     \", round(keywords_titles_real[\"count\"].mean() -keywords_titles_fake[\"count\"].mean(),2))"
   ]
  },
  {
   "cell_type": "code",
   "execution_count": 15,
   "id": "interim-weapon",
   "metadata": {},
   "outputs": [
    {
     "name": "stdout",
     "output_type": "stream",
     "text": [
      "Real news, total text words:  4634155\n",
      "Fake news, total text words:  3988051\n",
      "--------------------------------------\n",
      "Diff real news vs fake news:   646104\n"
     ]
    }
   ],
   "source": [
    "print(\"Real news, total text words: \",  keywords_text_real[\"count\"].sum())\n",
    "print(\"Fake news, total text words: \",  keywords_text_fake[\"count\"].sum())\n",
    "print('-'*38)\n",
    "print(\"Diff real news vs fake news:  \", keywords_text_real[\"count\"].sum()-keywords_text_fake[\"count\"].sum())"
   ]
  },
  {
   "cell_type": "code",
   "execution_count": 16,
   "id": "consecutive-continent",
   "metadata": {},
   "outputs": [
    {
     "name": "stdout",
     "output_type": "stream",
     "text": [
      "Real news, average text words:  79.79\n",
      "Fake news, average text words:  26.45\n",
      "--------------------------------------\n",
      "Diff real news vs fake news:    53.34\n"
     ]
    }
   ],
   "source": [
    "print(\"Real news, average text words: \",  round(keywords_text_real[\"count\"].mean(),2))\n",
    "print(\"Fake news, average text words: \",  round(keywords_text_fake[\"count\"].mean(),2))\n",
    "print('-'*38)\n",
    "print(\"Diff real news vs fake news:   \", round(keywords_text_real[\"count\"].mean()- keywords_text_fake[\"count\"].mean(),2))"
   ]
  },
  {
   "cell_type": "code",
   "execution_count": 17,
   "id": "secret-longer",
   "metadata": {},
   "outputs": [
    {
     "name": "stdout",
     "output_type": "stream",
     "text": [
      "Number of uniques words in all real news titles:   9777\n",
      "Number of uniques words in all fake news titles:  13146\n",
      "------------------------------------------------------------\n",
      "Diff real news vs fake news:                      -3369\n"
     ]
    }
   ],
   "source": [
    "vocabulary_title_real= set()\n",
    "for title in df_real[\"title\"]:\n",
    "    for word in title:\n",
    "        if word not in vocabulary_title_real:\n",
    "            vocabulary_title_real.add(word)\n",
    "print(\"Number of uniques words in all real news titles:  \", len(vocabulary_title_real))\n",
    "####################################\n",
    "vocabulary_title_fake= set()\n",
    "for title in df_fake[\"title\"]:\n",
    "    for word in title:\n",
    "        if word not in vocabulary_title_fake:\n",
    "            vocabulary_title_fake.add(word)\n",
    "print(\"Number of uniques words in all fake news titles: \", len(vocabulary_title_fake))\n",
    "print('-'*60)\n",
    "print(\"Diff real news vs fake news:                     \",len(vocabulary_title_real)- len(vocabulary_title_fake))"
   ]
  },
  {
   "cell_type": "code",
   "execution_count": 18,
   "id": "conservative-wireless",
   "metadata": {},
   "outputs": [
    {
     "name": "stdout",
     "output_type": "stream",
     "text": [
      "Number of uniques words in all real news texts:   58078\n",
      "Number of uniques words in all fake news texts:  150761\n",
      "------------------------------------------------------------\n",
      "Diff real news vs fake news:                     -92683\n"
     ]
    }
   ],
   "source": [
    "vocabulary_text_real= set()\n",
    "for text in df_real[\"text\"]:\n",
    "    for word in text:\n",
    "        if word not in vocabulary_text_real:\n",
    "            vocabulary_text_real.add(word)\n",
    "print(\"Number of uniques words in all real news texts:  \", len(vocabulary_text_real))\n",
    "####################################\n",
    "vocabulary_text_fake= set()\n",
    "for text in df_fake[\"text\"]:\n",
    "    for word in text:\n",
    "        if word not in vocabulary_text_fake:\n",
    "            vocabulary_text_fake.add(word)\n",
    "print(\"Number of uniques words in all fake news texts: \", len(vocabulary_text_fake))\n",
    "print('-'*60)\n",
    "print(\"Diff real news vs fake news:                    \", len(vocabulary_text_real) - len(vocabulary_text_fake))"
   ]
  },
  {
   "cell_type": "markdown",
   "id": "caring-albania",
   "metadata": {},
   "source": [
    "#### Splitting the dataframe"
   ]
  },
  {
   "cell_type": "code",
   "execution_count": 19,
   "id": "outstanding-heather",
   "metadata": {},
   "outputs": [],
   "source": [
    "Y = df[\"category\"]"
   ]
  },
  {
   "cell_type": "markdown",
   "id": "anonymous-pharmacology",
   "metadata": {},
   "source": [
    "#### Making train and test data"
   ]
  },
  {
   "cell_type": "code",
   "execution_count": 20,
   "id": "dutch-thermal",
   "metadata": {},
   "outputs": [],
   "source": [
    "# Splitting the data into 70 percent train and 30 percent test\n",
    "X_train, X_test, Y_train, Y_test = train_test_split(df[\"text\"], Y, test_size=0.30, random_state=40)"
   ]
  },
  {
   "cell_type": "markdown",
   "id": "automated-audit",
   "metadata": {},
   "source": [
    "### <span style=\"color:#306998\">Tfidf vectorizer</span>\n",
    "<span style=\"color:#356F9F\"> TF-IDF is an abbreviation for Term Frequency Inverse Document Frequency. This is very common algorithm to transform text into a meaningful representation of numbers which is used to fit machine algorithm for prediction.  </span> "
   ]
  },
  {
   "cell_type": "code",
   "execution_count": 21,
   "id": "whole-colon",
   "metadata": {},
   "outputs": [],
   "source": [
    "# Applying tfidf\n",
    "tfidf_vect = TfidfVectorizer(max_df=0.7)\n",
    "tfidf_train = tfidf_vect.fit_transform(X_train)\n",
    "tfidf_test = tfidf_vect.transform(X_test)"
   ]
  },
  {
   "cell_type": "code",
   "execution_count": 22,
   "id": "hungarian-payment",
   "metadata": {},
   "outputs": [
    {
     "name": "stdout",
     "output_type": "stream",
     "text": [
      "  (0, 141211)\t0.09440054519568006\n",
      "  (0, 139123)\t0.4666664771609954\n",
      "  (0, 139069)\t0.044152959363686385\n",
      "  (0, 138713)\t0.1149081668945718\n",
      "  (0, 138213)\t0.027241312188272172\n",
      "  (0, 136667)\t0.06381630143595325\n",
      "  (0, 134405)\t0.029051880799046477\n",
      "  (0, 134232)\t0.04507223089232721\n",
      "  (0, 131939)\t0.06442766883977837\n",
      "  (0, 129143)\t0.23504623161521807\n",
      "  (0, 128677)\t0.023921123939448154\n",
      "  (0, 128010)\t0.14539296413100106\n",
      "  (0, 127403)\t0.019150582657493913\n",
      "  (0, 127286)\t0.11265228107529975\n",
      "  (0, 126417)\t0.018784957904135303\n",
      "  (0, 126283)\t0.03321559141168778\n",
      "  (0, 125022)\t0.0483052552493117\n",
      "  (0, 122794)\t0.05011429325340952\n",
      "  (0, 121014)\t0.031357983956307844\n",
      "  (0, 119681)\t0.07420809241434706\n",
      "  (0, 118490)\t0.02803427275254568\n",
      "  (0, 115577)\t0.0662341208994039\n",
      "  (0, 114369)\t0.040840990243144096\n",
      "  (0, 112678)\t0.03191497938451975\n",
      "  (0, 111726)\t0.02386813656653379\n",
      "  :\t:\n",
      "  (11463, 81780)\t0.07655523135488976\n",
      "  (11463, 79082)\t0.16964771319542882\n",
      "  (11463, 76529)\t0.07900442845045798\n",
      "  (11463, 76106)\t0.08397925015136835\n",
      "  (11463, 67650)\t0.10302565217127335\n",
      "  (11463, 57813)\t0.059014213308383474\n",
      "  (11463, 56747)\t0.22037062659319484\n",
      "  (11463, 53472)\t0.09432033617827025\n",
      "  (11463, 52223)\t0.18521907288153014\n",
      "  (11463, 51346)\t0.17504157998387265\n",
      "  (11463, 45141)\t0.1518745832152779\n",
      "  (11463, 44194)\t0.06578880318483138\n",
      "  (11463, 42523)\t0.1125105204076337\n",
      "  (11463, 35243)\t0.09518646970344553\n",
      "  (11463, 31895)\t0.12789495715252958\n",
      "  (11463, 31341)\t0.08923707135731677\n",
      "  (11463, 30816)\t0.184842893401793\n",
      "  (11463, 27153)\t0.16342964912249827\n",
      "  (11463, 26504)\t0.11339998669919074\n",
      "  (11463, 21619)\t0.6742170138544824\n",
      "  (11463, 20064)\t0.10354290729618221\n",
      "  (11463, 10654)\t0.10691415626810043\n",
      "  (11463, 10287)\t0.16161132767175923\n",
      "  (11463, 3973)\t0.09208157626572236\n",
      "  (11463, 1030)\t0.08269064021097455\n"
     ]
    }
   ],
   "source": [
    "print(tfidf_test)"
   ]
  },
  {
   "cell_type": "code",
   "execution_count": 23,
   "id": "combined-championship",
   "metadata": {},
   "outputs": [
    {
     "name": "stdout",
     "output_type": "stream",
     "text": [
      "['zyklon', 'zynga', 'zypri', 'zyuganov', 'zyuseragentifzxzbreak', 'zzzzaaaacccchhh', 'zzzzzzzz', 'zzzzzzzzzzzzz', 'émigré', 'ツ_']\n"
     ]
    }
   ],
   "source": [
    "print(tfidf_vect.get_feature_names()[-10:])"
   ]
  },
  {
   "cell_type": "code",
   "execution_count": 24,
   "id": "ordered-arizona",
   "metadata": {},
   "outputs": [],
   "source": [
    "count_vect = CountVectorizer()\n",
    "count_train = count_vect.fit_transform(X_train.values)\n",
    "count_test = count_vect.transform(X_test.values)"
   ]
  },
  {
   "cell_type": "code",
   "execution_count": 25,
   "id": "taken-turning",
   "metadata": {},
   "outputs": [
    {
     "name": "stdout",
     "output_type": "stream",
     "text": [
      "  (0, 697)\t1\n",
      "  (0, 1030)\t3\n",
      "  (0, 1290)\t2\n",
      "  (0, 2500)\t1\n",
      "  (0, 5395)\t1\n",
      "  (0, 6043)\t1\n",
      "  (0, 6736)\t1\n",
      "  (0, 7026)\t1\n",
      "  (0, 8253)\t2\n",
      "  (0, 9516)\t1\n",
      "  (0, 9919)\t1\n",
      "  (0, 11807)\t1\n",
      "  (0, 18073)\t1\n",
      "  (0, 18390)\t1\n",
      "  (0, 20184)\t1\n",
      "  (0, 21865)\t1\n",
      "  (0, 22383)\t1\n",
      "  (0, 22482)\t9\n",
      "  (0, 22667)\t2\n",
      "  (0, 24624)\t1\n",
      "  (0, 25224)\t3\n",
      "  (0, 25422)\t1\n",
      "  (0, 25560)\t1\n",
      "  (0, 27109)\t1\n",
      "  (0, 27153)\t1\n",
      "  :\t:\n",
      "  (11463, 44194)\t1\n",
      "  (11463, 45141)\t2\n",
      "  (11463, 51346)\t1\n",
      "  (11463, 52223)\t2\n",
      "  (11463, 53472)\t1\n",
      "  (11463, 56747)\t1\n",
      "  (11463, 57813)\t1\n",
      "  (11463, 67650)\t1\n",
      "  (11463, 76106)\t1\n",
      "  (11463, 76529)\t1\n",
      "  (11463, 79082)\t1\n",
      "  (11463, 81780)\t1\n",
      "  (11463, 97094)\t1\n",
      "  (11463, 97884)\t1\n",
      "  (11463, 101494)\t1\n",
      "  (11463, 104440)\t1\n",
      "  (11463, 105144)\t1\n",
      "  (11463, 106957)\t1\n",
      "  (11463, 110219)\t1\n",
      "  (11463, 115173)\t1\n",
      "  (11463, 118553)\t1\n",
      "  (11463, 128678)\t1\n",
      "  (11463, 128684)\t1\n",
      "  (11463, 129908)\t1\n",
      "  (11463, 142663)\t1\n"
     ]
    }
   ],
   "source": [
    "print(count_test)"
   ]
  },
  {
   "cell_type": "code",
   "execution_count": 26,
   "id": "assigned-canberra",
   "metadata": {},
   "outputs": [
    {
     "name": "stdout",
     "output_type": "stream",
     "text": [
      "['10', '100th', '104', '109year', '10yearold', '11', '11pro', '12', '126', '12yearold']\n"
     ]
    }
   ],
   "source": [
    "print(count_vect.get_feature_names()[0:10])"
   ]
  },
  {
   "cell_type": "markdown",
   "id": "timely-bacon",
   "metadata": {},
   "source": [
    "## Machine learning"
   ]
  },
  {
   "cell_type": "code",
   "execution_count": 27,
   "id": "exempt-digest",
   "metadata": {},
   "outputs": [],
   "source": [
    "from sklearn.naive_bayes import MultinomialNB\n",
    "from sklearn import metrics\n",
    "from sklearn.metrics import accuracy_score"
   ]
  },
  {
   "cell_type": "code",
   "execution_count": 28,
   "id": "incorporated-promise",
   "metadata": {},
   "outputs": [
    {
     "name": "stdout",
     "output_type": "stream",
     "text": [
      "accuracy:   0.920\n",
      "[[4437  776]\n",
      " [ 141 6110]]\n"
     ]
    }
   ],
   "source": [
    "#Applying Naive Bayes\n",
    "clf = MultinomialNB() \n",
    "clf.fit(tfidf_train, Y_train)                       \n",
    "pred = clf.predict(tfidf_test)                     \n",
    "score = metrics.accuracy_score(Y_test, pred)\n",
    "print(\"accuracy:   %0.3f\" % score)\n",
    "cm = metrics.confusion_matrix(Y_test, pred)\n",
    "print(cm)"
   ]
  },
  {
   "cell_type": "code",
   "execution_count": 29,
   "id": "herbal-arthritis",
   "metadata": {},
   "outputs": [
    {
     "name": "stdout",
     "output_type": "stream",
     "text": [
      "Wrong predictions out of total\n",
      "917 / 11464\n",
      "Percentage accuracy:  92.0010467550593\n"
     ]
    }
   ],
   "source": [
    "print('Wrong predictions out of total')\n",
    "print((Y_test !=pred).sum(),'/',((Y_test == pred).sum()+(Y_test != pred).sum()))\n",
    "print('Percentage accuracy: ',100*accuracy_score(Y_test,pred))"
   ]
  },
  {
   "cell_type": "code",
   "execution_count": 30,
   "id": "statistical-presentation",
   "metadata": {},
   "outputs": [],
   "source": [
    "## Plotting confusion matrix for TF-Idf vectorizer"
   ]
  },
  {
   "cell_type": "code",
   "execution_count": 31,
   "id": "returning-modification",
   "metadata": {},
   "outputs": [
    {
     "data": {
      "image/png": "[encoded data removed]",
      "text/plain": [
       "<Figure size 432x288 with 2 Axes>"
      ]
     },
     "metadata": {},
     "output_type": "display_data"
    }
   ],
   "source": [
    "sns.heatmap(cm, cmap=\"plasma\", annot=True);"
   ]
  },
  {
   "cell_type": "markdown",
   "id": "infrared-lawyer",
   "metadata": {},
   "source": [
    "### Count Vectorized"
   ]
  },
  {
   "cell_type": "code",
   "execution_count": 32,
   "id": "acute-survivor",
   "metadata": {},
   "outputs": [
    {
     "name": "stdout",
     "output_type": "stream",
     "text": [
      "accuracy:   0.948\n",
      "[[4891  322]\n",
      " [ 273 5978]]\n"
     ]
    }
   ],
   "source": [
    "#Applying Naive Bayes\n",
    "clf = MultinomialNB() \n",
    "clf.fit(count_train, Y_train)                       \n",
    "pred1 = clf.predict(count_test)                    \n",
    "score = metrics.accuracy_score(Y_test, pred1)\n",
    "print(\"accuracy:   %0.3f\" % score)\n",
    "cm2 = metrics.confusion_matrix(Y_test, pred1)\n",
    "print(cm2)"
   ]
  },
  {
   "cell_type": "code",
   "execution_count": 33,
   "id": "seeing-container",
   "metadata": {},
   "outputs": [
    {
     "name": "stdout",
     "output_type": "stream",
     "text": [
      "Wrong predictions out of total\n",
      "595 / 11464\n",
      "Percentage accuracy:  94.80983949755756\n"
     ]
    }
   ],
   "source": [
    "print('Wrong predictions out of total')\n",
    "print((Y_test !=pred1).sum(),'/',((Y_test == pred1).sum()+(Y_test != pred1).sum()))\n",
    "print('Percentage accuracy: ',100*accuracy_score(Y_test,pred1))"
   ]
  },
  {
   "cell_type": "code",
   "execution_count": 34,
   "id": "prepared-arabic",
   "metadata": {},
   "outputs": [],
   "source": [
    "## Plotting confusion matrix for Count vectorizer."
   ]
  },
  {
   "cell_type": "code",
   "execution_count": 46,
   "id": "stainless-uncertainty",
   "metadata": {},
   "outputs": [
    {
     "data": {
      "image/png": "[encoded data removed]",
      "text/plain": [
       "<Figure size 432x288 with 2 Axes>"
      ]
     },
     "metadata": {},
     "output_type": "display_data"
    }
   ],
   "source": [
    "sns.heatmap(cm2, cmap=\"plasma\", annot=True);"
   ]
  },
  {
   "cell_type": "markdown",
   "id": "violent-prerequisite",
   "metadata": {},
   "source": [
    "## 2. Random Forest Model"
   ]
  },
  {
   "cell_type": "code",
   "execution_count": 36,
   "id": "nervous-humanity",
   "metadata": {},
   "outputs": [],
   "source": [
    "from sklearn.ensemble import RandomForestClassifier"
   ]
  },
  {
   "cell_type": "markdown",
   "id": "absolute-nigeria",
   "metadata": {},
   "source": [
    "### TF-Idf Vectorized"
   ]
  },
  {
   "cell_type": "code",
   "execution_count": 37,
   "id": "controlled-eclipse",
   "metadata": {},
   "outputs": [
    {
     "name": "stdout",
     "output_type": "stream",
     "text": [
      "Model accuracy on train is:  1.0\n",
      "Model accuracy on test is:  0.9569958129797628\n",
      "--------------------------------------------------\n",
      "confusion_matrix train is:  [[12180     0]\n",
      " [    0 14569]]\n",
      "confusion_matrix test is:  [[4872  341]\n",
      " [ 152 6099]]\n",
      "Wrong predictions out of total\n",
      "--------------------------------------------------\n",
      "493 / 11464\n",
      "--------------------------------------------------\n"
     ]
    }
   ],
   "source": [
    "RF=RandomForestClassifier().fit(tfidf_train,Y_train)\n",
    "#predict on train \n",
    "train_preds2 = RF.predict(tfidf_train)\n",
    "#accuracy on train\n",
    "print(\"Model accuracy on train is: \", accuracy_score(Y_train, train_preds2))\n",
    "\n",
    "#predict on test\n",
    "test_preds2 = RF.predict(tfidf_test)\n",
    "#accuracy on test\n",
    "print(\"Model accuracy on test is: \", accuracy_score(Y_test, test_preds2))\n",
    "print('-'*50)\n",
    "\n",
    "\n",
    "\n",
    "#Confusion matrix\n",
    "print(\"confusion_matrix train is: \", metrics.confusion_matrix(Y_train, train_preds2))\n",
    "print(\"confusion_matrix test is: \", metrics.confusion_matrix(Y_test, test_preds2))\n",
    "print('Wrong predictions out of total')\n",
    "print('-'*50)\n",
    "\n",
    "# Wrong Predictions made.\n",
    "print((Y_test !=test_preds2).sum(),'/',((Y_test == test_preds2).sum()+(Y_test != test_preds2).sum()))\n",
    "print('-'*50)"
   ]
  },
  {
   "cell_type": "markdown",
   "id": "recovered-passion",
   "metadata": {},
   "source": [
    "### Count Vectorized"
   ]
  },
  {
   "cell_type": "code",
   "execution_count": 39,
   "id": "passing-munich",
   "metadata": {},
   "outputs": [
    {
     "name": "stdout",
     "output_type": "stream",
     "text": [
      "Model accuracy on train is:  1.0\n",
      "Model accuracy on test is:  0.9602233077459874\n",
      "--------------------------------------------------\n",
      "confusion_matrix train is:  [[12180     0]\n",
      " [    0 14569]]\n",
      "confusion_matrix test is:  [[4856  357]\n",
      " [  99 6152]]\n",
      "Wrong predictions out of total\n",
      "--------------------------------------------------\n",
      "456 / 11464\n",
      "--------------------------------------------------\n"
     ]
    }
   ],
   "source": [
    "RF=RandomForestClassifier().fit(count_train,Y_train)\n",
    "#predict on train \n",
    "train_preds3 = RF.predict(count_train)\n",
    "#accuracy on train\n",
    "print(\"Model accuracy on train is: \", accuracy_score(Y_train, train_preds3))\n",
    "\n",
    "#predict on test\n",
    "test_preds3 = RF.predict(count_test)\n",
    "#accuracy on test\n",
    "print(\"Model accuracy on test is: \", accuracy_score(Y_test, test_preds3))\n",
    "print('-'*50)\n",
    "\n",
    "\n",
    "\n",
    "#Confusion matrix\n",
    "print(\"confusion_matrix train is: \", metrics.confusion_matrix(Y_train, train_preds3))\n",
    "print(\"confusion_matrix test is: \", metrics.confusion_matrix(Y_test, test_preds3))\n",
    "print('Wrong predictions out of total')\n",
    "print('-'*50)\n",
    "\n",
    "# Wrong Predictions made.\n",
    "print((Y_test !=test_preds3).sum(),'/',((Y_test == test_preds3).sum()+(Y_test != test_preds3).sum()))\n",
    "print('-'*50)"
   ]
  },
  {
   "cell_type": "markdown",
   "id": "headed-phone",
   "metadata": {},
   "source": [
    "## K-Nearest Neighbour"
   ]
  },
  {
   "cell_type": "code",
   "execution_count": 41,
   "id": "veterinary-handle",
   "metadata": {},
   "outputs": [],
   "source": [
    "from sklearn.neighbors import KNeighborsClassifier"
   ]
  },
  {
   "cell_type": "code",
   "execution_count": 42,
   "id": "authorized-sperm",
   "metadata": {},
   "outputs": [
    {
     "name": "stdout",
     "output_type": "stream",
     "text": [
      "Model accuracy on train is:  0.8815656660062059\n",
      "Model accuracy on test is:   0.8319085833914864\n",
      "--------------------------------------------------\n"
     ]
    }
   ],
   "source": [
    "#fit the model on train data \n",
    "KNN = KNeighborsClassifier().fit(tfidf_train,Y_train)\n",
    "#predict on train \n",
    "train_preds4 = KNN.predict(tfidf_train)\n",
    "#accuracy on train\n",
    "print(\"Model accuracy on train is: \", accuracy_score(Y_train, train_preds4))\n",
    "\n",
    "#predict on test\n",
    "test_preds4 = KNN.predict(tfidf_test)\n",
    "#accuracy on test\n",
    "print(\"Model accuracy on test is:  \", accuracy_score(Y_test, test_preds4))\n",
    "print('-'*50)"
   ]
  },
  {
   "cell_type": "code",
   "execution_count": 43,
   "id": "smart-virgin",
   "metadata": {},
   "outputs": [
    {
     "name": "stdout",
     "output_type": "stream",
     "text": [
      "confusion_matrix train is:  [[ 9374  2806]\n",
      " [  362 14207]]\n",
      "confusion_matrix test is:   [[3547 1666]\n",
      " [ 261 5990]]\n",
      "Wrong predictions out of total\n",
      "--------------------------------------------------\n",
      "1927 / 11464\n",
      "--------------------------------------------------\n"
     ]
    }
   ],
   "source": [
    "#Confusion matrix\n",
    "print(\"confusion_matrix train is: \", metrics.confusion_matrix(Y_train, train_preds4))\n",
    "print(\"confusion_matrix test is:  \", metrics.confusion_matrix(Y_test, test_preds4))\n",
    "print('Wrong predictions out of total')\n",
    "print('-'*50)\n",
    "\n",
    "# Wrong Predictions made.\n",
    "print((Y_test !=test_preds4).sum(),'/',((Y_test == test_preds4).sum()+(Y_test != test_preds4).sum()))\n",
    "\n",
    "print('-'*50)"
   ]
  },
  {
   "cell_type": "code",
   "execution_count": 44,
   "id": "reported-solution",
   "metadata": {},
   "outputs": [
    {
     "name": "stdout",
     "output_type": "stream",
     "text": [
      "Model accuracy on train is:  0.8059740551048638\n",
      "Model accuracy on test is:   0.7512212142358689\n",
      "--------------------------------------------------\n"
     ]
    }
   ],
   "source": [
    "#fit the model on train data \n",
    "KNN = KNeighborsClassifier().fit(count_train,Y_train)\n",
    "#predict on train \n",
    "train_preds5 = KNN.predict(count_train)\n",
    "#accuracy on train\n",
    "print(\"Model accuracy on train is: \", accuracy_score(Y_train, train_preds5))\n",
    "\n",
    "#predict on test\n",
    "test_preds5 = KNN.predict(count_test)\n",
    "#accuracy on test\n",
    "print(\"Model accuracy on test is:  \", accuracy_score(Y_test, test_preds5))\n",
    "print('-'*50)"
   ]
  },
  {
   "cell_type": "code",
   "execution_count": 45,
   "id": "neural-centre",
   "metadata": {},
   "outputs": [
    {
     "name": "stdout",
     "output_type": "stream",
     "text": [
      "confusion_matrix train is:  [[ 9025  3155]\n",
      " [ 2035 12534]]\n",
      "confusion_matrix test is:   [[3529 1684]\n",
      " [1168 5083]]\n",
      "Wrong predictions out of total\n",
      "--------------------------------------------------\n",
      "2852 / 11464\n",
      "--------------------------------------------------\n"
     ]
    }
   ],
   "source": [
    "#Confusion matrix\n",
    "print(\"confusion_matrix train is: \", metrics.confusion_matrix(Y_train, train_preds5))\n",
    "print(\"confusion_matrix test is:  \", metrics.confusion_matrix(Y_test, test_preds5))\n",
    "print('Wrong predictions out of total')\n",
    "print('-'*50)\n",
    "\n",
    "# Wrong Predictions made.\n",
    "print((Y_test !=test_preds5).sum(),'/',((Y_test == test_preds5).sum()+(Y_test != test_preds5).sum()))\n",
    "\n",
    "print('-'*50)"
   ]
  }
 ],
 "metadata": {
  "kernelspec": {
   "display_name": "Python 3",
   "language": "python",
   "name": "python3"
  },
  "language_info": {
   "codemirror_mode": {
    "name": "ipython",
    "version": 3
   },
   "file_extension": ".py",
   "mimetype": "text/x-python",
   "name": "python",
   "nbconvert_exporter": "python",
   "pygments_lexer": "ipython3",
   "version": "3.9.2"
  }
 },
 "nbformat": 4,
 "nbformat_minor": 5
}
