{
 "cells": [
  {
   "cell_type": "code",
   "execution_count": 1,
   "id": "quantitative-technique",
   "metadata": {},
   "outputs": [],
   "source": [
    "# Load EDA pkgs\n",
    "import numpy as np\n",
    "import pandas as pd\n",
    "\n",
    "# Load Data Viz\n",
    "import matplotlib.pyplot as plt\n",
    "import seaborn as sns\n",
    "%matplotlib inline\n",
    "\n",
    "# Load ML tools\n",
    "from sklearn.model_selection import train_test_split\n",
    "from sklearn.feature_extraction.text import CountVectorizer, TfidfVectorizer\n",
    "\n",
    "import warnings\n",
    "warnings.filterwarnings('ignore')\n",
    "from wordcloud import WordCloud, STOPWORDS, ImageColorGenerator"
   ]
  },
  {
   "cell_type": "code",
   "execution_count": 2,
   "id": "advised-jordan",
   "metadata": {},
   "outputs": [],
   "source": [
    "df = pd.read_csv('../data/df_fake_real_news.csv')"
   ]
  },
  {
   "cell_type": "code",
   "execution_count": 3,
   "id": "popular-broad",
   "metadata": {},
   "outputs": [
    {
     "data": {
      "text/html": [
       "<div>\n",
       "<style scoped>\n",
       "    .dataframe tbody tr th:only-of-type {\n",
       "        vertical-align: middle;\n",
       "    }\n",
       "\n",
       "    .dataframe tbody tr th {\n",
       "        vertical-align: top;\n",
       "    }\n",
       "\n",
       "    .dataframe thead th {\n",
       "        text-align: right;\n",
       "    }\n",
       "</style>\n",
       "<table border=\"1\" class=\"dataframe\">\n",
       "  <thead>\n",
       "    <tr style=\"text-align: right;\">\n",
       "      <th></th>\n",
       "      <th>index</th>\n",
       "      <th>title</th>\n",
       "      <th>text</th>\n",
       "      <th>subject</th>\n",
       "      <th>date</th>\n",
       "      <th>category</th>\n",
       "      <th>length_text</th>\n",
       "      <th>length_title</th>\n",
       "    </tr>\n",
       "  </thead>\n",
       "  <tbody>\n",
       "    <tr>\n",
       "      <th>0</th>\n",
       "      <td>0</td>\n",
       "      <td>donald trump send embarrass new year eve messa...</td>\n",
       "      <td>donald trump wish american happi new year leav...</td>\n",
       "      <td>News</td>\n",
       "      <td>736694</td>\n",
       "      <td>0</td>\n",
       "      <td>245</td>\n",
       "      <td>9</td>\n",
       "    </tr>\n",
       "    <tr>\n",
       "      <th>1</th>\n",
       "      <td>1</td>\n",
       "      <td>drunk brag trump staffer start russian collus ...</td>\n",
       "      <td>hous intellig committe chairman devin nune go ...</td>\n",
       "      <td>News</td>\n",
       "      <td>736694</td>\n",
       "      <td>0</td>\n",
       "      <td>178</td>\n",
       "      <td>8</td>\n",
       "    </tr>\n",
       "    <tr>\n",
       "      <th>2</th>\n",
       "      <td>2</td>\n",
       "      <td>sheriff david clark becom internet joke threat...</td>\n",
       "      <td>friday reveal former milwauke sheriff david cl...</td>\n",
       "      <td>News</td>\n",
       "      <td>736693</td>\n",
       "      <td>0</td>\n",
       "      <td>302</td>\n",
       "      <td>10</td>\n",
       "    </tr>\n",
       "    <tr>\n",
       "      <th>3</th>\n",
       "      <td>3</td>\n",
       "      <td>trump obsess even obama name code websit imag</td>\n",
       "      <td>christma day donald trump announc back work fo...</td>\n",
       "      <td>News</td>\n",
       "      <td>736692</td>\n",
       "      <td>0</td>\n",
       "      <td>230</td>\n",
       "      <td>8</td>\n",
       "    </tr>\n",
       "    <tr>\n",
       "      <th>4</th>\n",
       "      <td>4</td>\n",
       "      <td>pope franci call donald trump christma speech</td>\n",
       "      <td>pope franci use annual christma day messag reb...</td>\n",
       "      <td>News</td>\n",
       "      <td>736688</td>\n",
       "      <td>0</td>\n",
       "      <td>208</td>\n",
       "      <td>7</td>\n",
       "    </tr>\n",
       "  </tbody>\n",
       "</table>\n",
       "</div>"
      ],
      "text/plain": [
       "   index                                              title  \\\n",
       "0      0  donald trump send embarrass new year eve messa...   \n",
       "1      1  drunk brag trump staffer start russian collus ...   \n",
       "2      2  sheriff david clark becom internet joke threat...   \n",
       "3      3      trump obsess even obama name code websit imag   \n",
       "4      4      pope franci call donald trump christma speech   \n",
       "\n",
       "                                                text subject    date  \\\n",
       "0  donald trump wish american happi new year leav...    News  736694   \n",
       "1  hous intellig committe chairman devin nune go ...    News  736694   \n",
       "2  friday reveal former milwauke sheriff david cl...    News  736693   \n",
       "3  christma day donald trump announc back work fo...    News  736692   \n",
       "4  pope franci use annual christma day messag reb...    News  736688   \n",
       "\n",
       "   category  length_text  length_title  \n",
       "0         0          245             9  \n",
       "1         0          178             8  \n",
       "2         0          302            10  \n",
       "3         0          230             8  \n",
       "4         0          208             7  "
      ]
     },
     "execution_count": 3,
     "metadata": {},
     "output_type": "execute_result"
    }
   ],
   "source": [
    "df = df[df['text'].notnull()]\n",
    "df = df.dropna()\n",
    "df.reset_index(inplace=True)\n",
    "#df = df.drop(axis=1, columns='level_0')\n",
    "df.head(5)"
   ]
  },
  {
   "cell_type": "code",
   "execution_count": 4,
   "id": "orange-palestine",
   "metadata": {},
   "outputs": [
    {
     "data": {
      "text/html": [
       "<div>\n",
       "<style scoped>\n",
       "    .dataframe tbody tr th:only-of-type {\n",
       "        vertical-align: middle;\n",
       "    }\n",
       "\n",
       "    .dataframe tbody tr th {\n",
       "        vertical-align: top;\n",
       "    }\n",
       "\n",
       "    .dataframe thead th {\n",
       "        text-align: right;\n",
       "    }\n",
       "</style>\n",
       "<table border=\"1\" class=\"dataframe\">\n",
       "  <thead>\n",
       "    <tr style=\"text-align: right;\">\n",
       "      <th></th>\n",
       "      <th>title</th>\n",
       "      <th>text</th>\n",
       "      <th>subject</th>\n",
       "      <th>date</th>\n",
       "      <th>category</th>\n",
       "      <th>length_text</th>\n",
       "      <th>length_title</th>\n",
       "    </tr>\n",
       "  </thead>\n",
       "  <tbody>\n",
       "    <tr>\n",
       "      <th>0</th>\n",
       "      <td>donald trump send embarrass new year eve messa...</td>\n",
       "      <td>donald trump wish american happi new year leav...</td>\n",
       "      <td>News</td>\n",
       "      <td>736694</td>\n",
       "      <td>0</td>\n",
       "      <td>245</td>\n",
       "      <td>9</td>\n",
       "    </tr>\n",
       "    <tr>\n",
       "      <th>1</th>\n",
       "      <td>drunk brag trump staffer start russian collus ...</td>\n",
       "      <td>hous intellig committe chairman devin nune go ...</td>\n",
       "      <td>News</td>\n",
       "      <td>736694</td>\n",
       "      <td>0</td>\n",
       "      <td>178</td>\n",
       "      <td>8</td>\n",
       "    </tr>\n",
       "    <tr>\n",
       "      <th>2</th>\n",
       "      <td>sheriff david clark becom internet joke threat...</td>\n",
       "      <td>friday reveal former milwauke sheriff david cl...</td>\n",
       "      <td>News</td>\n",
       "      <td>736693</td>\n",
       "      <td>0</td>\n",
       "      <td>302</td>\n",
       "      <td>10</td>\n",
       "    </tr>\n",
       "    <tr>\n",
       "      <th>3</th>\n",
       "      <td>trump obsess even obama name code websit imag</td>\n",
       "      <td>christma day donald trump announc back work fo...</td>\n",
       "      <td>News</td>\n",
       "      <td>736692</td>\n",
       "      <td>0</td>\n",
       "      <td>230</td>\n",
       "      <td>8</td>\n",
       "    </tr>\n",
       "    <tr>\n",
       "      <th>4</th>\n",
       "      <td>pope franci call donald trump christma speech</td>\n",
       "      <td>pope franci use annual christma day messag reb...</td>\n",
       "      <td>News</td>\n",
       "      <td>736688</td>\n",
       "      <td>0</td>\n",
       "      <td>208</td>\n",
       "      <td>7</td>\n",
       "    </tr>\n",
       "    <tr>\n",
       "      <th>...</th>\n",
       "      <td>...</td>\n",
       "      <td>...</td>\n",
       "      <td>...</td>\n",
       "      <td>...</td>\n",
       "      <td>...</td>\n",
       "      <td>...</td>\n",
       "      <td>...</td>\n",
       "    </tr>\n",
       "    <tr>\n",
       "      <th>38208</th>\n",
       "      <td>north korea shipment syria chemic arm agenc in...</td>\n",
       "      <td>unit nation   two north korean shipment syrian...</td>\n",
       "      <td>worldnews</td>\n",
       "      <td>736562</td>\n",
       "      <td>1</td>\n",
       "      <td>274</td>\n",
       "      <td>10</td>\n",
       "    </tr>\n",
       "    <tr>\n",
       "      <th>38209</th>\n",
       "      <td>lexisnexi withdrew two product chines market</td>\n",
       "      <td>london   lexisnexi provid legal regulatori bus...</td>\n",
       "      <td>worldnews</td>\n",
       "      <td>736563</td>\n",
       "      <td>1</td>\n",
       "      <td>73</td>\n",
       "      <td>6</td>\n",
       "    </tr>\n",
       "    <tr>\n",
       "      <th>38210</th>\n",
       "      <td>minsk cultur hub becom author</td>\n",
       "      <td>minsk   shadow disus sovietera factori minsk s...</td>\n",
       "      <td>worldnews</td>\n",
       "      <td>736563</td>\n",
       "      <td>1</td>\n",
       "      <td>169</td>\n",
       "      <td>5</td>\n",
       "    </tr>\n",
       "    <tr>\n",
       "      <th>38211</th>\n",
       "      <td>vatican upbeat possibl pope franci visit russia</td>\n",
       "      <td>moscow   vatican secretari state cardin pietro...</td>\n",
       "      <td>worldnews</td>\n",
       "      <td>736563</td>\n",
       "      <td>1</td>\n",
       "      <td>116</td>\n",
       "      <td>7</td>\n",
       "    </tr>\n",
       "    <tr>\n",
       "      <th>38212</th>\n",
       "      <td>indonesia buy dollar billion worth russian jet</td>\n",
       "      <td>jakarta   indonesia buy  sukhoi fighter jet wo...</td>\n",
       "      <td>worldnews</td>\n",
       "      <td>736563</td>\n",
       "      <td>1</td>\n",
       "      <td>135</td>\n",
       "      <td>7</td>\n",
       "    </tr>\n",
       "  </tbody>\n",
       "</table>\n",
       "<p>38213 rows × 7 columns</p>\n",
       "</div>"
      ],
      "text/plain": [
       "                                                   title  \\\n",
       "0      donald trump send embarrass new year eve messa...   \n",
       "1      drunk brag trump staffer start russian collus ...   \n",
       "2      sheriff david clark becom internet joke threat...   \n",
       "3          trump obsess even obama name code websit imag   \n",
       "4          pope franci call donald trump christma speech   \n",
       "...                                                  ...   \n",
       "38208  north korea shipment syria chemic arm agenc in...   \n",
       "38209       lexisnexi withdrew two product chines market   \n",
       "38210                      minsk cultur hub becom author   \n",
       "38211    vatican upbeat possibl pope franci visit russia   \n",
       "38212     indonesia buy dollar billion worth russian jet   \n",
       "\n",
       "                                                    text    subject    date  \\\n",
       "0      donald trump wish american happi new year leav...       News  736694   \n",
       "1      hous intellig committe chairman devin nune go ...       News  736694   \n",
       "2      friday reveal former milwauke sheriff david cl...       News  736693   \n",
       "3      christma day donald trump announc back work fo...       News  736692   \n",
       "4      pope franci use annual christma day messag reb...       News  736688   \n",
       "...                                                  ...        ...     ...   \n",
       "38208  unit nation   two north korean shipment syrian...  worldnews  736562   \n",
       "38209  london   lexisnexi provid legal regulatori bus...  worldnews  736563   \n",
       "38210  minsk   shadow disus sovietera factori minsk s...  worldnews  736563   \n",
       "38211  moscow   vatican secretari state cardin pietro...  worldnews  736563   \n",
       "38212  jakarta   indonesia buy  sukhoi fighter jet wo...  worldnews  736563   \n",
       "\n",
       "       category  length_text  length_title  \n",
       "0             0          245             9  \n",
       "1             0          178             8  \n",
       "2             0          302            10  \n",
       "3             0          230             8  \n",
       "4             0          208             7  \n",
       "...         ...          ...           ...  \n",
       "38208         1          274            10  \n",
       "38209         1           73             6  \n",
       "38210         1          169             5  \n",
       "38211         1          116             7  \n",
       "38212         1          135             7  \n",
       "\n",
       "[38213 rows x 7 columns]"
      ]
     },
     "execution_count": 4,
     "metadata": {},
     "output_type": "execute_result"
    }
   ],
   "source": [
    "df = df.drop(axis=1, columns='index')\n",
    "df"
   ]
  },
  {
   "cell_type": "markdown",
   "id": "pending-behavior",
   "metadata": {},
   "source": [
    "Comparing the length of the texts in fake_news and real_news"
   ]
  },
  {
   "cell_type": "markdown",
   "id": "caring-albania",
   "metadata": {},
   "source": [
    "#### <span style=\"color:#003049\">Splitting the dataframe</span>"
   ]
  },
  {
   "cell_type": "code",
   "execution_count": 5,
   "id": "outstanding-heather",
   "metadata": {},
   "outputs": [],
   "source": [
    "Y = df[\"category\"]"
   ]
  },
  {
   "cell_type": "markdown",
   "id": "anonymous-pharmacology",
   "metadata": {},
   "source": [
    "#### <span style=\"color:#003049\">Making train and test data</span>"
   ]
  },
  {
   "cell_type": "code",
   "execution_count": 30,
   "id": "dutch-thermal",
   "metadata": {},
   "outputs": [],
   "source": [
    "# Splitting the data into 70 percent train and 30 percent test\n",
    "X_train, X_test, Y_train, Y_test = train_test_split(df[\"text\"], Y, test_size=0.30, random_state=40)"
   ]
  },
  {
   "cell_type": "markdown",
   "id": "automated-audit",
   "metadata": {},
   "source": [
    "### <span style=\"color:#306998\">TF-IDF vectorizer</span>\n",
    "<span style=\"color:#356F9F\"> TF-IDF is an abbreviation for Term Frequency Inverse Document Frequency. This is very common algorithm to transform text into a meaningful representation of numbers which is used to fit machine algorithm for prediction.  </span> "
   ]
  },
  {
   "cell_type": "code",
   "execution_count": 7,
   "id": "whole-colon",
   "metadata": {},
   "outputs": [],
   "source": [
    "# Applying tfidf\n",
    "tfidf_vect = TfidfVectorizer(max_df=0.7)\n",
    "tfidf_train = tfidf_vect.fit_transform(X_train)\n",
    "tfidf_test = tfidf_vect.transform(X_test)"
   ]
  },
  {
   "cell_type": "code",
   "execution_count": 8,
   "id": "hungarian-payment",
   "metadata": {},
   "outputs": [
    {
     "name": "stdout",
     "output_type": "stream",
     "text": [
      "  (0, 134129)\t0.09453348921160656\n",
      "  (0, 132138)\t0.4673236822167867\n",
      "  (0, 132095)\t0.04509458511849182\n",
      "  (0, 131742)\t0.11506999173507512\n",
      "  (0, 131267)\t0.02729154242932437\n",
      "  (0, 129743)\t0.06390617374947524\n",
      "  (0, 127535)\t0.029092794479106666\n",
      "  (0, 127363)\t0.04526520912087752\n",
      "  (0, 125111)\t0.06451840214025442\n",
      "  (0, 122389)\t0.23537724654627112\n",
      "  (0, 121942)\t0.023956475031558455\n",
      "  (0, 121288)\t0.14559772062365656\n",
      "  (0, 120690)\t0.019177552367896984\n",
      "  (0, 120575)\t0.11281092895830072\n",
      "  (0, 119937)\t0.01881813574997406\n",
      "  (0, 119806)\t0.033262368833412305\n",
      "  (0, 118594)\t0.048373283401160684\n",
      "  (0, 116426)\t0.05018486906826967\n",
      "  (0, 114696)\t0.03140582965828987\n",
      "  (0, 113395)\t0.07431259945717567\n",
      "  (0, 112251)\t0.028073753338124684\n",
      "  (0, 109407)\t0.06632739822111297\n",
      "  (0, 108226)\t0.0408985064920819\n",
      "  (0, 106560)\t0.031963835685943354\n",
      "  (0, 105620)\t0.023901749994520462\n",
      "  :\t:\n",
      "  (11463, 79353)\t0.07657969226987908\n",
      "  (11463, 76734)\t0.1696453530638957\n",
      "  (11463, 74227)\t0.07900332934432015\n",
      "  (11463, 73811)\t0.08397808183572958\n",
      "  (11463, 65614)\t0.10304130107049145\n",
      "  (11463, 56125)\t0.05901671375365114\n",
      "  (11463, 55084)\t0.22036756080671885\n",
      "  (11463, 51899)\t0.09431902399789696\n",
      "  (11463, 50676)\t0.18521649612192514\n",
      "  (11463, 49815)\t0.17503914481310173\n",
      "  (11463, 43777)\t0.15187247034274826\n",
      "  (11463, 42874)\t0.06580498642125508\n",
      "  (11463, 41248)\t0.11250895516621652\n",
      "  (11463, 34158)\t0.0951851454734607\n",
      "  (11463, 30901)\t0.12789317788350427\n",
      "  (11463, 30353)\t0.08923582989510037\n",
      "  (11463, 29832)\t0.18484032187558042\n",
      "  (11463, 26310)\t0.16344283420030398\n",
      "  (11463, 25666)\t0.1133984090835576\n",
      "  (11463, 20878)\t0.6742076341770049\n",
      "  (11463, 19338)\t0.10354146681180469\n",
      "  (11463, 10256)\t0.10691266888305531\n",
      "  (11463, 9895)\t0.16160907934206847\n",
      "  (11463, 3722)\t0.09208029523087863\n",
      "  (11463, 844)\t0.08268948982242065\n"
     ]
    }
   ],
   "source": [
    "print(tfidf_test)"
   ]
  },
  {
   "cell_type": "code",
   "execution_count": 9,
   "id": "combined-championship",
   "metadata": {},
   "outputs": [
    {
     "name": "stdout",
     "output_type": "stream",
     "text": [
      "['zvizdic', 'zvizic', 'zwak', 'zweig', 'zweli', 'zwillich', 'zwillig', 'zwolinski', 'zxmgklb', 'zych', 'zygot', 'zyklon', 'zynga', 'zypri', 'zyuganov', 'zyuseragentifzxzbreak', 'zzzzaaaacccchhh', 'zzzzzzzz', 'zzzzzzzzzzzzz', 'émigré']\n"
     ]
    }
   ],
   "source": [
    "print(tfidf_vect.get_feature_names()[-20:])"
   ]
  },
  {
   "cell_type": "code",
   "execution_count": 10,
   "id": "ordered-arizona",
   "metadata": {},
   "outputs": [],
   "source": [
    "count_vect = CountVectorizer()\n",
    "count_train = count_vect.fit_transform(X_train.values)\n",
    "count_test = count_vect.transform(X_test.values)"
   ]
  },
  {
   "cell_type": "code",
   "execution_count": 11,
   "id": "taken-turning",
   "metadata": {},
   "outputs": [
    {
     "name": "stdout",
     "output_type": "stream",
     "text": [
      "  (0, 520)\t1\n",
      "  (0, 844)\t3\n",
      "  (0, 1097)\t2\n",
      "  (0, 2284)\t1\n",
      "  (0, 5120)\t1\n",
      "  (0, 5743)\t1\n",
      "  (0, 6430)\t1\n",
      "  (0, 6714)\t1\n",
      "  (0, 7918)\t2\n",
      "  (0, 9165)\t1\n",
      "  (0, 9535)\t1\n",
      "  (0, 11377)\t1\n",
      "  (0, 17405)\t1\n",
      "  (0, 17718)\t1\n",
      "  (0, 19457)\t1\n",
      "  (0, 21111)\t1\n",
      "  (0, 21623)\t1\n",
      "  (0, 21722)\t9\n",
      "  (0, 21903)\t2\n",
      "  (0, 23817)\t1\n",
      "  (0, 24412)\t3\n",
      "  (0, 24599)\t1\n",
      "  (0, 24736)\t1\n",
      "  (0, 26266)\t1\n",
      "  (0, 26310)\t1\n",
      "  :\t:\n",
      "  (11463, 42874)\t1\n",
      "  (11463, 43777)\t2\n",
      "  (11463, 49815)\t1\n",
      "  (11463, 50676)\t2\n",
      "  (11463, 51899)\t1\n",
      "  (11463, 55084)\t1\n",
      "  (11463, 56125)\t1\n",
      "  (11463, 65614)\t1\n",
      "  (11463, 73811)\t1\n",
      "  (11463, 74227)\t1\n",
      "  (11463, 76734)\t1\n",
      "  (11463, 79353)\t1\n",
      "  (11463, 91401)\t1\n",
      "  (11463, 92176)\t1\n",
      "  (11463, 95706)\t1\n",
      "  (11463, 98590)\t1\n",
      "  (11463, 99290)\t1\n",
      "  (11463, 100978)\t1\n",
      "  (11463, 104150)\t1\n",
      "  (11463, 109017)\t1\n",
      "  (11463, 112314)\t1\n",
      "  (11463, 121943)\t1\n",
      "  (11463, 121949)\t1\n",
      "  (11463, 123127)\t1\n",
      "  (11463, 135540)\t1\n"
     ]
    }
   ],
   "source": [
    "print(count_test)"
   ]
  },
  {
   "cell_type": "code",
   "execution_count": 12,
   "id": "assigned-canberra",
   "metadata": {},
   "outputs": [
    {
     "name": "stdout",
     "output_type": "stream",
     "text": [
      "['aa', 'aaa', 'aaaahhhh', 'aaainnertextreplacernrngquotnquotelsevar', 'aab', 'aaba', 'aabo', 'aaccord', 'aachen', 'aadhaar']\n"
     ]
    }
   ],
   "source": [
    "print(count_vect.get_feature_names()[0:10])"
   ]
  },
  {
   "cell_type": "markdown",
   "id": "timely-bacon",
   "metadata": {},
   "source": [
    "## <span style=\"color:#003049\">Machine learning</span>"
   ]
  },
  {
   "cell_type": "code",
   "execution_count": 13,
   "id": "exempt-digest",
   "metadata": {},
   "outputs": [],
   "source": [
    "from sklearn.naive_bayes import MultinomialNB\n",
    "from sklearn import metrics\n",
    "from sklearn.metrics import accuracy_score"
   ]
  },
  {
   "cell_type": "code",
   "execution_count": 14,
   "id": "incorporated-promise",
   "metadata": {},
   "outputs": [
    {
     "name": "stdout",
     "output_type": "stream",
     "text": [
      "accuracy:   0.920\n",
      "[[4445  768]\n",
      " [ 150 6101]]\n"
     ]
    }
   ],
   "source": [
    "#Applying Naive Bayes\n",
    "clf = MultinomialNB() \n",
    "clf.fit(tfidf_train, Y_train)                       \n",
    "pred = clf.predict(tfidf_test)                     \n",
    "score = metrics.accuracy_score(Y_test, pred)\n",
    "print(\"accuracy:   %0.3f\" % score)\n",
    "cm = metrics.confusion_matrix(Y_test, pred)\n",
    "print(cm)"
   ]
  },
  {
   "cell_type": "code",
   "execution_count": 15,
   "id": "herbal-arthritis",
   "metadata": {},
   "outputs": [
    {
     "name": "stdout",
     "output_type": "stream",
     "text": [
      "Wrong predictions out of total\n",
      "918 / 11464\n",
      "Percentage accuracy:  91.99232379623167\n"
     ]
    }
   ],
   "source": [
    "print('Wrong predictions out of total')\n",
    "print((Y_test !=pred).sum(),'/',((Y_test == pred).sum()+(Y_test != pred).sum()))\n",
    "print('Percentage accuracy: ',100*accuracy_score(Y_test,pred))"
   ]
  },
  {
   "cell_type": "code",
   "execution_count": 16,
   "id": "statistical-presentation",
   "metadata": {},
   "outputs": [],
   "source": [
    "## Plotting confusion matrix for TF-Idf vectorizer"
   ]
  },
  {
   "cell_type": "code",
   "execution_count": 17,
   "id": "returning-modification",
   "metadata": {},
   "outputs": [
    {
     "data": {
      "image/png": "[encoded data removed]",
      "text/plain": [
       "<Figure size 432x288 with 2 Axes>"
      ]
     },
     "metadata": {
      "needs_background": "light"
     },
     "output_type": "display_data"
    }
   ],
   "source": [
    "sns.heatmap(cm, cmap=\"YlGnBu\", annot=True);"
   ]
  },
  {
   "cell_type": "markdown",
   "id": "infrared-lawyer",
   "metadata": {},
   "source": [
    "### <span style=\"color:#003049\">Count Vectorized</span>"
   ]
  },
  {
   "cell_type": "code",
   "execution_count": 18,
   "id": "acute-survivor",
   "metadata": {},
   "outputs": [
    {
     "name": "stdout",
     "output_type": "stream",
     "text": [
      "accuracy:   0.947\n",
      "[[4888  325]\n",
      " [ 283 5968]]\n"
     ]
    }
   ],
   "source": [
    "#Applying Naive Bayes\n",
    "clf = MultinomialNB() \n",
    "clf.fit(count_train, Y_train)                       \n",
    "pred1 = clf.predict(count_test)                    \n",
    "score = metrics.accuracy_score(Y_test, pred1)\n",
    "print(\"accuracy:   %0.3f\" % score)\n",
    "cm2 = metrics.confusion_matrix(Y_test, pred1)\n",
    "print(cm2)"
   ]
  },
  {
   "cell_type": "code",
   "execution_count": 19,
   "id": "seeing-container",
   "metadata": {},
   "outputs": [
    {
     "name": "stdout",
     "output_type": "stream",
     "text": [
      "Wrong predictions out of total\n",
      "608 / 11464\n",
      "Percentage accuracy:  94.69644103279833\n"
     ]
    }
   ],
   "source": [
    "print('Wrong predictions out of total')\n",
    "print((Y_test !=pred1).sum(),'/',((Y_test == pred1).sum()+(Y_test != pred1).sum()))\n",
    "print('Percentage accuracy: ',100*accuracy_score(Y_test,pred1))"
   ]
  },
  {
   "cell_type": "code",
   "execution_count": 20,
   "id": "prepared-arabic",
   "metadata": {},
   "outputs": [],
   "source": [
    "## Plotting confusion matrix for Count vectorizer."
   ]
  },
  {
   "cell_type": "code",
   "execution_count": 21,
   "id": "stainless-uncertainty",
   "metadata": {},
   "outputs": [
    {
     "data": {
      "image/png": "[encoded data removed]",
      "text/plain": [
       "<Figure size 432x288 with 2 Axes>"
      ]
     },
     "metadata": {
      "needs_background": "light"
     },
     "output_type": "display_data"
    }
   ],
   "source": [
    "sns.heatmap(cm2, cmap=\"YlGnBu\", annot=True);"
   ]
  },
  {
   "cell_type": "markdown",
   "id": "violent-prerequisite",
   "metadata": {},
   "source": [
    "## <span style=\"color:#003049\">2. Random Forest Model</span>"
   ]
  },
  {
   "cell_type": "code",
   "execution_count": 22,
   "id": "nervous-humanity",
   "metadata": {},
   "outputs": [],
   "source": [
    "from sklearn.ensemble import RandomForestClassifier"
   ]
  },
  {
   "cell_type": "markdown",
   "id": "absolute-nigeria",
   "metadata": {},
   "source": [
    "### <span style=\"color:#003049\">TF-IDF Vectorized</span>"
   ]
  },
  {
   "cell_type": "code",
   "execution_count": 23,
   "id": "controlled-eclipse",
   "metadata": {},
   "outputs": [
    {
     "name": "stdout",
     "output_type": "stream",
     "text": [
      "Model accuracy on train is:  1.0\n",
      "Model accuracy on test is:  0.9572575017445918\n",
      "--------------------------------------------------\n",
      "confusion_matrix train is:  [[12180     0]\n",
      " [    0 14569]]\n",
      "confusion_matrix test is:  [[4874  339]\n",
      " [ 151 6100]]\n",
      "Wrong predictions out of total\n",
      "--------------------------------------------------\n",
      "490 / 11464\n",
      "--------------------------------------------------\n"
     ]
    }
   ],
   "source": [
    "RF=RandomForestClassifier().fit(tfidf_train,Y_train)\n",
    "#predict on train \n",
    "train_preds2 = RF.predict(tfidf_train)\n",
    "#accuracy on train\n",
    "print(\"Model accuracy on train is: \", accuracy_score(Y_train, train_preds2))\n",
    "\n",
    "#predict on test\n",
    "test_preds2 = RF.predict(tfidf_test)\n",
    "#accuracy on test\n",
    "print(\"Model accuracy on test is: \", accuracy_score(Y_test, test_preds2))\n",
    "print('-'*50)\n",
    "\n",
    "\n",
    "\n",
    "#Confusion matrix\n",
    "print(\"confusion_matrix train is: \", metrics.confusion_matrix(Y_train, train_preds2))\n",
    "print(\"confusion_matrix test is: \", metrics.confusion_matrix(Y_test, test_preds2))\n",
    "print('Wrong predictions out of total')\n",
    "print('-'*50)\n",
    "\n",
    "# Wrong Predictions made.\n",
    "print((Y_test !=test_preds2).sum(),'/',((Y_test == test_preds2).sum()+(Y_test != test_preds2).sum()))\n",
    "print('-'*50)"
   ]
  },
  {
   "cell_type": "markdown",
   "id": "second-michigan",
   "metadata": {},
   "source": [
    "### <span style=\"color:#003049\">Count Vectorized</span>"
   ]
  },
  {
   "cell_type": "code",
   "execution_count": 24,
   "id": "passing-munich",
   "metadata": {},
   "outputs": [
    {
     "name": "stdout",
     "output_type": "stream",
     "text": [
      "Model accuracy on train is:  1.0\n",
      "Model accuracy on test is:  0.9613572923935799\n",
      "--------------------------------------------------\n",
      "confusion_matrix train is:  [[12180     0]\n",
      " [    0 14569]]\n",
      "confusion_matrix test is:  [[4869  344]\n",
      " [  99 6152]]\n",
      "Wrong predictions out of total\n",
      "--------------------------------------------------\n",
      "443 / 11464\n",
      "--------------------------------------------------\n"
     ]
    }
   ],
   "source": [
    "RF=RandomForestClassifier().fit(count_train,Y_train)\n",
    "#predict on train \n",
    "train_preds3 = RF.predict(count_train)\n",
    "#accuracy on train\n",
    "print(\"Model accuracy on train is: \", accuracy_score(Y_train, train_preds3))\n",
    "\n",
    "#predict on test\n",
    "test_preds3 = RF.predict(count_test)\n",
    "#accuracy on test\n",
    "print(\"Model accuracy on test is: \", accuracy_score(Y_test, test_preds3))\n",
    "print('-'*50)\n",
    "\n",
    "\n",
    "\n",
    "#Confusion matrix\n",
    "print(\"confusion_matrix train is: \", metrics.confusion_matrix(Y_train, train_preds3))\n",
    "print(\"confusion_matrix test is: \", metrics.confusion_matrix(Y_test, test_preds3))\n",
    "print('Wrong predictions out of total')\n",
    "print('-'*50)\n",
    "\n",
    "# Wrong Predictions made.\n",
    "print((Y_test !=test_preds3).sum(),'/',((Y_test == test_preds3).sum()+(Y_test != test_preds3).sum()))\n",
    "print('-'*50)"
   ]
  },
  {
   "cell_type": "markdown",
   "id": "urban-spiritual",
   "metadata": {},
   "source": [
    "## <span style=\"color:#003049\">K-Nearest Neighbour</span>"
   ]
  },
  {
   "cell_type": "code",
   "execution_count": 25,
   "id": "veterinary-handle",
   "metadata": {},
   "outputs": [],
   "source": [
    "from sklearn.neighbors import KNeighborsClassifier"
   ]
  },
  {
   "cell_type": "code",
   "execution_count": 26,
   "id": "authorized-sperm",
   "metadata": {},
   "outputs": [
    {
     "name": "stdout",
     "output_type": "stream",
     "text": [
      "Model accuracy on train is:  0.8817899734569516\n",
      "Model accuracy on test is:   0.8320830425680391\n",
      "--------------------------------------------------\n"
     ]
    }
   ],
   "source": [
    "#fit the model on train data \n",
    "KNN = KNeighborsClassifier().fit(tfidf_train,Y_train)\n",
    "#predict on train \n",
    "train_preds4 = KNN.predict(tfidf_train)\n",
    "#accuracy on train\n",
    "print(\"Model accuracy on train is: \", accuracy_score(Y_train, train_preds4))\n",
    "\n",
    "#predict on test\n",
    "test_preds4 = KNN.predict(tfidf_test)\n",
    "#accuracy on test\n",
    "print(\"Model accuracy on test is:  \", accuracy_score(Y_test, test_preds4))\n",
    "print('-'*50)"
   ]
  },
  {
   "cell_type": "code",
   "execution_count": 27,
   "id": "smart-virgin",
   "metadata": {},
   "outputs": [
    {
     "name": "stdout",
     "output_type": "stream",
     "text": [
      "confusion_matrix train is:  [[ 9377  2803]\n",
      " [  359 14210]]\n",
      "confusion_matrix test is:   [[3549 1664]\n",
      " [ 261 5990]]\n",
      "Wrong predictions out of total\n",
      "--------------------------------------------------\n",
      "1925 / 11464\n",
      "--------------------------------------------------\n"
     ]
    }
   ],
   "source": [
    "#Confusion matrix\n",
    "print(\"confusion_matrix train is: \", metrics.confusion_matrix(Y_train, train_preds4))\n",
    "print(\"confusion_matrix test is:  \", metrics.confusion_matrix(Y_test, test_preds4))\n",
    "print('Wrong predictions out of total')\n",
    "print('-'*50)\n",
    "\n",
    "# Wrong Predictions made.\n",
    "print((Y_test !=test_preds4).sum(),'/',((Y_test == test_preds4).sum()+(Y_test != test_preds4).sum()))\n",
    "\n",
    "print('-'*50)"
   ]
  },
  {
   "cell_type": "code",
   "execution_count": 28,
   "id": "reported-solution",
   "metadata": {},
   "outputs": [
    {
     "name": "stdout",
     "output_type": "stream",
     "text": [
      "Model accuracy on train is:  0.8088900519645594\n",
      "Model accuracy on test is:   0.7526168876482903\n",
      "--------------------------------------------------\n"
     ]
    }
   ],
   "source": [
    "#fit the model on train data \n",
    "KNN = KNeighborsClassifier().fit(count_train,Y_train)\n",
    "#predict on train \n",
    "train_preds5 = KNN.predict(count_train)\n",
    "#accuracy on train\n",
    "print(\"Model accuracy on train is: \", accuracy_score(Y_train, train_preds5))\n",
    "\n",
    "#predict on test\n",
    "test_preds5 = KNN.predict(count_test)\n",
    "#accuracy on test\n",
    "print(\"Model accuracy on test is:  \", accuracy_score(Y_test, test_preds5))\n",
    "print('-'*50)"
   ]
  },
  {
   "cell_type": "code",
   "execution_count": 29,
   "id": "neural-centre",
   "metadata": {},
   "outputs": [
    {
     "name": "stdout",
     "output_type": "stream",
     "text": [
      "confusion_matrix train is:  [[ 9109  3071]\n",
      " [ 2041 12528]]\n",
      "confusion_matrix test is:   [[3550 1663]\n",
      " [1173 5078]]\n",
      "Wrong predictions out of total\n",
      "--------------------------------------------------\n",
      "2836 / 11464\n",
      "--------------------------------------------------\n"
     ]
    }
   ],
   "source": [
    "#Confusion matrix\n",
    "print(\"confusion_matrix train is: \", metrics.confusion_matrix(Y_train, train_preds5))\n",
    "print(\"confusion_matrix test is:  \", metrics.confusion_matrix(Y_test, test_preds5))\n",
    "print('Wrong predictions out of total')\n",
    "print('-'*50)\n",
    "\n",
    "# Wrong Predictions made.\n",
    "print((Y_test !=test_preds5).sum(),'/',((Y_test == test_preds5).sum()+(Y_test != test_preds5).sum()))\n",
    "\n",
    "print('-'*50)"
   ]
  },
  {
   "cell_type": "markdown",
   "id": "japanese-desert",
   "metadata": {},
   "source": [
    "<span style=\"color:#003049\">All models worked quite well. The best model performance was the Random Forest on Count Vectorized model with the following results:\n",
    "    model accuracy on train:  1.0\n",
    "    model accuracy on test:  0.96\n",
    "    wrong prediction: 443 over 11464</span> "
   ]
  },
  {
   "cell_type": "code",
   "execution_count": null,
   "id": "behind-brisbane",
   "metadata": {},
   "outputs": [],
   "source": []
  }
 ],
 "metadata": {
  "kernelspec": {
   "display_name": "Python 3",
   "language": "python",
   "name": "python3"
  },
  "language_info": {
   "codemirror_mode": {
    "name": "ipython",
    "version": 3
   },
   "file_extension": ".py",
   "mimetype": "text/x-python",
   "name": "python",
   "nbconvert_exporter": "python",
   "pygments_lexer": "ipython3",
   "version": "3.9.2"
  }
 },
 "nbformat": 4,
 "nbformat_minor": 5
}
