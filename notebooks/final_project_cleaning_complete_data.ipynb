{
 "cells": [
  {
   "cell_type": "code",
   "execution_count": 1,
   "id": "apparent-explosion",
   "metadata": {},
   "outputs": [
    {
     "name": "stderr",
     "output_type": "stream",
     "text": [
      "[nltk_data] Downloading package stopwords to /Users/kilo/nltk_data...\n",
      "[nltk_data]   Package stopwords is already up-to-date!\n"
     ]
    }
   ],
   "source": [
    "import numpy as np\n",
    "import pandas as pd\n",
    "\n",
    "import matplotlib.pyplot as plt\n",
    "import seaborn as sns\n",
    "%matplotlib inline\n",
    "import warnings\n",
    "warnings.filterwarnings('ignore')\n",
    "\n",
    "import nltk\n",
    "nltk.download('stopwords')\n",
    "from nltk.corpus import stopwords\n",
    "from nltk.util import bigrams\n",
    "from nltk.stem import PorterStemmer\n",
    "\n",
    "import re\n",
    "import datetime\n",
    "\n"
   ]
  },
  {
   "cell_type": "markdown",
   "id": "secure-citizenship",
   "metadata": {},
   "source": [
    "### <span style=\"color:#003049\">1. Get data </span>\n",
    "[data source](https://www.kaggle.com/clmentbisaillon/fake-and-real-news-dataset) "
   ]
  },
  {
   "cell_type": "code",
   "execution_count": 2,
   "id": "collected-router",
   "metadata": {},
   "outputs": [],
   "source": [
    "df_0 = pd.read_csv(\"../data/Fake.csv\")\n",
    "df_1 = pd.read_csv(\"../data/True.csv\")"
   ]
  },
  {
   "cell_type": "markdown",
   "id": "american-nigeria",
   "metadata": {},
   "source": [
    "### <span style=\"color:#003049\">2. EDA</span> "
   ]
  },
  {
   "cell_type": "markdown",
   "id": "meaning-highway",
   "metadata": {},
   "source": [
    "<img src=\"../images/Screenshot 2021-05-17 at 16.24.54.png\n",
    "\" width=\"300\" height=\"50\" />"
   ]
  },
  {
   "cell_type": "code",
   "execution_count": 3,
   "id": "developed-investing",
   "metadata": {},
   "outputs": [
    {
     "data": {
      "text/html": [
       "<div>\n",
       "<style scoped>\n",
       "    .dataframe tbody tr th:only-of-type {\n",
       "        vertical-align: middle;\n",
       "    }\n",
       "\n",
       "    .dataframe tbody tr th {\n",
       "        vertical-align: top;\n",
       "    }\n",
       "\n",
       "    .dataframe thead th {\n",
       "        text-align: right;\n",
       "    }\n",
       "</style>\n",
       "<table border=\"1\" class=\"dataframe\">\n",
       "  <thead>\n",
       "    <tr style=\"text-align: right;\">\n",
       "      <th></th>\n",
       "      <th>title</th>\n",
       "      <th>text</th>\n",
       "      <th>subject</th>\n",
       "      <th>date</th>\n",
       "    </tr>\n",
       "  </thead>\n",
       "  <tbody>\n",
       "    <tr>\n",
       "      <th>0</th>\n",
       "      <td>Donald Trump Sends Out Embarrassing New Year’...</td>\n",
       "      <td>Donald Trump just couldn t wish all Americans ...</td>\n",
       "      <td>News</td>\n",
       "      <td>December 31, 2017</td>\n",
       "    </tr>\n",
       "    <tr>\n",
       "      <th>1</th>\n",
       "      <td>Drunk Bragging Trump Staffer Started Russian ...</td>\n",
       "      <td>House Intelligence Committee Chairman Devin Nu...</td>\n",
       "      <td>News</td>\n",
       "      <td>December 31, 2017</td>\n",
       "    </tr>\n",
       "    <tr>\n",
       "      <th>2</th>\n",
       "      <td>Sheriff David Clarke Becomes An Internet Joke...</td>\n",
       "      <td>On Friday, it was revealed that former Milwauk...</td>\n",
       "      <td>News</td>\n",
       "      <td>December 30, 2017</td>\n",
       "    </tr>\n",
       "    <tr>\n",
       "      <th>3</th>\n",
       "      <td>Trump Is So Obsessed He Even Has Obama’s Name...</td>\n",
       "      <td>On Christmas day, Donald Trump announced that ...</td>\n",
       "      <td>News</td>\n",
       "      <td>December 29, 2017</td>\n",
       "    </tr>\n",
       "    <tr>\n",
       "      <th>4</th>\n",
       "      <td>Pope Francis Just Called Out Donald Trump Dur...</td>\n",
       "      <td>Pope Francis used his annual Christmas Day mes...</td>\n",
       "      <td>News</td>\n",
       "      <td>December 25, 2017</td>\n",
       "    </tr>\n",
       "    <tr>\n",
       "      <th>...</th>\n",
       "      <td>...</td>\n",
       "      <td>...</td>\n",
       "      <td>...</td>\n",
       "      <td>...</td>\n",
       "    </tr>\n",
       "    <tr>\n",
       "      <th>23476</th>\n",
       "      <td>McPain: John McCain Furious That Iran Treated ...</td>\n",
       "      <td>21st Century Wire says As 21WIRE reported earl...</td>\n",
       "      <td>Middle-east</td>\n",
       "      <td>January 16, 2016</td>\n",
       "    </tr>\n",
       "    <tr>\n",
       "      <th>23477</th>\n",
       "      <td>JUSTICE? Yahoo Settles E-mail Privacy Class-ac...</td>\n",
       "      <td>21st Century Wire says It s a familiar theme. ...</td>\n",
       "      <td>Middle-east</td>\n",
       "      <td>January 16, 2016</td>\n",
       "    </tr>\n",
       "    <tr>\n",
       "      <th>23478</th>\n",
       "      <td>Sunnistan: US and Allied ‘Safe Zone’ Plan to T...</td>\n",
       "      <td>Patrick Henningsen  21st Century WireRemember ...</td>\n",
       "      <td>Middle-east</td>\n",
       "      <td>January 15, 2016</td>\n",
       "    </tr>\n",
       "    <tr>\n",
       "      <th>23479</th>\n",
       "      <td>How to Blow $700 Million: Al Jazeera America F...</td>\n",
       "      <td>21st Century Wire says Al Jazeera America will...</td>\n",
       "      <td>Middle-east</td>\n",
       "      <td>January 14, 2016</td>\n",
       "    </tr>\n",
       "    <tr>\n",
       "      <th>23480</th>\n",
       "      <td>10 U.S. Navy Sailors Held by Iranian Military ...</td>\n",
       "      <td>21st Century Wire says As 21WIRE predicted in ...</td>\n",
       "      <td>Middle-east</td>\n",
       "      <td>January 12, 2016</td>\n",
       "    </tr>\n",
       "  </tbody>\n",
       "</table>\n",
       "<p>23481 rows × 4 columns</p>\n",
       "</div>"
      ],
      "text/plain": [
       "                                                   title  \\\n",
       "0       Donald Trump Sends Out Embarrassing New Year’...   \n",
       "1       Drunk Bragging Trump Staffer Started Russian ...   \n",
       "2       Sheriff David Clarke Becomes An Internet Joke...   \n",
       "3       Trump Is So Obsessed He Even Has Obama’s Name...   \n",
       "4       Pope Francis Just Called Out Donald Trump Dur...   \n",
       "...                                                  ...   \n",
       "23476  McPain: John McCain Furious That Iran Treated ...   \n",
       "23477  JUSTICE? Yahoo Settles E-mail Privacy Class-ac...   \n",
       "23478  Sunnistan: US and Allied ‘Safe Zone’ Plan to T...   \n",
       "23479  How to Blow $700 Million: Al Jazeera America F...   \n",
       "23480  10 U.S. Navy Sailors Held by Iranian Military ...   \n",
       "\n",
       "                                                    text      subject  \\\n",
       "0      Donald Trump just couldn t wish all Americans ...         News   \n",
       "1      House Intelligence Committee Chairman Devin Nu...         News   \n",
       "2      On Friday, it was revealed that former Milwauk...         News   \n",
       "3      On Christmas day, Donald Trump announced that ...         News   \n",
       "4      Pope Francis used his annual Christmas Day mes...         News   \n",
       "...                                                  ...          ...   \n",
       "23476  21st Century Wire says As 21WIRE reported earl...  Middle-east   \n",
       "23477  21st Century Wire says It s a familiar theme. ...  Middle-east   \n",
       "23478  Patrick Henningsen  21st Century WireRemember ...  Middle-east   \n",
       "23479  21st Century Wire says Al Jazeera America will...  Middle-east   \n",
       "23480  21st Century Wire says As 21WIRE predicted in ...  Middle-east   \n",
       "\n",
       "                    date  \n",
       "0      December 31, 2017  \n",
       "1      December 31, 2017  \n",
       "2      December 30, 2017  \n",
       "3      December 29, 2017  \n",
       "4      December 25, 2017  \n",
       "...                  ...  \n",
       "23476   January 16, 2016  \n",
       "23477   January 16, 2016  \n",
       "23478   January 15, 2016  \n",
       "23479   January 14, 2016  \n",
       "23480   January 12, 2016  \n",
       "\n",
       "[23481 rows x 4 columns]"
      ]
     },
     "execution_count": 3,
     "metadata": {},
     "output_type": "execute_result"
    }
   ],
   "source": [
    "df_0"
   ]
  },
  {
   "cell_type": "code",
   "execution_count": 4,
   "id": "separate-baseline",
   "metadata": {},
   "outputs": [
    {
     "data": {
      "text/html": [
       "<div>\n",
       "<style scoped>\n",
       "    .dataframe tbody tr th:only-of-type {\n",
       "        vertical-align: middle;\n",
       "    }\n",
       "\n",
       "    .dataframe tbody tr th {\n",
       "        vertical-align: top;\n",
       "    }\n",
       "\n",
       "    .dataframe thead th {\n",
       "        text-align: right;\n",
       "    }\n",
       "</style>\n",
       "<table border=\"1\" class=\"dataframe\">\n",
       "  <thead>\n",
       "    <tr style=\"text-align: right;\">\n",
       "      <th></th>\n",
       "      <th>title</th>\n",
       "      <th>text</th>\n",
       "      <th>subject</th>\n",
       "      <th>date</th>\n",
       "    </tr>\n",
       "  </thead>\n",
       "  <tbody>\n",
       "    <tr>\n",
       "      <th>21412</th>\n",
       "      <td>'Fully committed' NATO backs new U.S. approach...</td>\n",
       "      <td>BRUSSELS (Reuters) - NATO allies on Tuesday we...</td>\n",
       "      <td>worldnews</td>\n",
       "      <td>August 22, 2017</td>\n",
       "    </tr>\n",
       "    <tr>\n",
       "      <th>21413</th>\n",
       "      <td>LexisNexis withdrew two products from Chinese ...</td>\n",
       "      <td>LONDON (Reuters) - LexisNexis, a provider of l...</td>\n",
       "      <td>worldnews</td>\n",
       "      <td>August 22, 2017</td>\n",
       "    </tr>\n",
       "    <tr>\n",
       "      <th>21414</th>\n",
       "      <td>Minsk cultural hub becomes haven from authorities</td>\n",
       "      <td>MINSK (Reuters) - In the shadow of disused Sov...</td>\n",
       "      <td>worldnews</td>\n",
       "      <td>August 22, 2017</td>\n",
       "    </tr>\n",
       "    <tr>\n",
       "      <th>21415</th>\n",
       "      <td>Vatican upbeat on possibility of Pope Francis ...</td>\n",
       "      <td>MOSCOW (Reuters) - Vatican Secretary of State ...</td>\n",
       "      <td>worldnews</td>\n",
       "      <td>August 22, 2017</td>\n",
       "    </tr>\n",
       "    <tr>\n",
       "      <th>21416</th>\n",
       "      <td>Indonesia to buy $1.14 billion worth of Russia...</td>\n",
       "      <td>JAKARTA (Reuters) - Indonesia will buy 11 Sukh...</td>\n",
       "      <td>worldnews</td>\n",
       "      <td>August 22, 2017</td>\n",
       "    </tr>\n",
       "  </tbody>\n",
       "</table>\n",
       "</div>"
      ],
      "text/plain": [
       "                                                   title  \\\n",
       "21412  'Fully committed' NATO backs new U.S. approach...   \n",
       "21413  LexisNexis withdrew two products from Chinese ...   \n",
       "21414  Minsk cultural hub becomes haven from authorities   \n",
       "21415  Vatican upbeat on possibility of Pope Francis ...   \n",
       "21416  Indonesia to buy $1.14 billion worth of Russia...   \n",
       "\n",
       "                                                    text    subject  \\\n",
       "21412  BRUSSELS (Reuters) - NATO allies on Tuesday we...  worldnews   \n",
       "21413  LONDON (Reuters) - LexisNexis, a provider of l...  worldnews   \n",
       "21414  MINSK (Reuters) - In the shadow of disused Sov...  worldnews   \n",
       "21415  MOSCOW (Reuters) - Vatican Secretary of State ...  worldnews   \n",
       "21416  JAKARTA (Reuters) - Indonesia will buy 11 Sukh...  worldnews   \n",
       "\n",
       "                   date  \n",
       "21412  August 22, 2017   \n",
       "21413  August 22, 2017   \n",
       "21414  August 22, 2017   \n",
       "21415  August 22, 2017   \n",
       "21416  August 22, 2017   "
      ]
     },
     "execution_count": 4,
     "metadata": {},
     "output_type": "execute_result"
    }
   ],
   "source": [
    "df_1.tail()"
   ]
  },
  {
   "cell_type": "code",
   "execution_count": 5,
   "id": "assigned-disco",
   "metadata": {},
   "outputs": [],
   "source": [
    "# Adding category 0 to fake news and category 1 to true news\n",
    "df_0[\"category\"] = 0\n",
    "df_1[\"category\"] = 1"
   ]
  },
  {
   "cell_type": "code",
   "execution_count": 6,
   "id": "loving-history",
   "metadata": {},
   "outputs": [
    {
     "data": {
      "text/html": [
       "<div>\n",
       "<style scoped>\n",
       "    .dataframe tbody tr th:only-of-type {\n",
       "        vertical-align: middle;\n",
       "    }\n",
       "\n",
       "    .dataframe tbody tr th {\n",
       "        vertical-align: top;\n",
       "    }\n",
       "\n",
       "    .dataframe thead th {\n",
       "        text-align: right;\n",
       "    }\n",
       "</style>\n",
       "<table border=\"1\" class=\"dataframe\">\n",
       "  <thead>\n",
       "    <tr style=\"text-align: right;\">\n",
       "      <th></th>\n",
       "      <th>title</th>\n",
       "      <th>text</th>\n",
       "      <th>subject</th>\n",
       "      <th>date</th>\n",
       "      <th>category</th>\n",
       "    </tr>\n",
       "  </thead>\n",
       "  <tbody>\n",
       "    <tr>\n",
       "      <th>0</th>\n",
       "      <td>Donald Trump Sends Out Embarrassing New Year’...</td>\n",
       "      <td>Donald Trump just couldn t wish all Americans ...</td>\n",
       "      <td>News</td>\n",
       "      <td>December 31, 2017</td>\n",
       "      <td>0</td>\n",
       "    </tr>\n",
       "    <tr>\n",
       "      <th>1</th>\n",
       "      <td>Drunk Bragging Trump Staffer Started Russian ...</td>\n",
       "      <td>House Intelligence Committee Chairman Devin Nu...</td>\n",
       "      <td>News</td>\n",
       "      <td>December 31, 2017</td>\n",
       "      <td>0</td>\n",
       "    </tr>\n",
       "    <tr>\n",
       "      <th>2</th>\n",
       "      <td>Sheriff David Clarke Becomes An Internet Joke...</td>\n",
       "      <td>On Friday, it was revealed that former Milwauk...</td>\n",
       "      <td>News</td>\n",
       "      <td>December 30, 2017</td>\n",
       "      <td>0</td>\n",
       "    </tr>\n",
       "    <tr>\n",
       "      <th>3</th>\n",
       "      <td>Trump Is So Obsessed He Even Has Obama’s Name...</td>\n",
       "      <td>On Christmas day, Donald Trump announced that ...</td>\n",
       "      <td>News</td>\n",
       "      <td>December 29, 2017</td>\n",
       "      <td>0</td>\n",
       "    </tr>\n",
       "    <tr>\n",
       "      <th>4</th>\n",
       "      <td>Pope Francis Just Called Out Donald Trump Dur...</td>\n",
       "      <td>Pope Francis used his annual Christmas Day mes...</td>\n",
       "      <td>News</td>\n",
       "      <td>December 25, 2017</td>\n",
       "      <td>0</td>\n",
       "    </tr>\n",
       "    <tr>\n",
       "      <th>...</th>\n",
       "      <td>...</td>\n",
       "      <td>...</td>\n",
       "      <td>...</td>\n",
       "      <td>...</td>\n",
       "      <td>...</td>\n",
       "    </tr>\n",
       "    <tr>\n",
       "      <th>44893</th>\n",
       "      <td>'Fully committed' NATO backs new U.S. approach...</td>\n",
       "      <td>BRUSSELS (Reuters) - NATO allies on Tuesday we...</td>\n",
       "      <td>worldnews</td>\n",
       "      <td>August 22, 2017</td>\n",
       "      <td>1</td>\n",
       "    </tr>\n",
       "    <tr>\n",
       "      <th>44894</th>\n",
       "      <td>LexisNexis withdrew two products from Chinese ...</td>\n",
       "      <td>LONDON (Reuters) - LexisNexis, a provider of l...</td>\n",
       "      <td>worldnews</td>\n",
       "      <td>August 22, 2017</td>\n",
       "      <td>1</td>\n",
       "    </tr>\n",
       "    <tr>\n",
       "      <th>44895</th>\n",
       "      <td>Minsk cultural hub becomes haven from authorities</td>\n",
       "      <td>MINSK (Reuters) - In the shadow of disused Sov...</td>\n",
       "      <td>worldnews</td>\n",
       "      <td>August 22, 2017</td>\n",
       "      <td>1</td>\n",
       "    </tr>\n",
       "    <tr>\n",
       "      <th>44896</th>\n",
       "      <td>Vatican upbeat on possibility of Pope Francis ...</td>\n",
       "      <td>MOSCOW (Reuters) - Vatican Secretary of State ...</td>\n",
       "      <td>worldnews</td>\n",
       "      <td>August 22, 2017</td>\n",
       "      <td>1</td>\n",
       "    </tr>\n",
       "    <tr>\n",
       "      <th>44897</th>\n",
       "      <td>Indonesia to buy $1.14 billion worth of Russia...</td>\n",
       "      <td>JAKARTA (Reuters) - Indonesia will buy 11 Sukh...</td>\n",
       "      <td>worldnews</td>\n",
       "      <td>August 22, 2017</td>\n",
       "      <td>1</td>\n",
       "    </tr>\n",
       "  </tbody>\n",
       "</table>\n",
       "<p>44898 rows × 5 columns</p>\n",
       "</div>"
      ],
      "text/plain": [
       "                                                   title  \\\n",
       "0       Donald Trump Sends Out Embarrassing New Year’...   \n",
       "1       Drunk Bragging Trump Staffer Started Russian ...   \n",
       "2       Sheriff David Clarke Becomes An Internet Joke...   \n",
       "3       Trump Is So Obsessed He Even Has Obama’s Name...   \n",
       "4       Pope Francis Just Called Out Donald Trump Dur...   \n",
       "...                                                  ...   \n",
       "44893  'Fully committed' NATO backs new U.S. approach...   \n",
       "44894  LexisNexis withdrew two products from Chinese ...   \n",
       "44895  Minsk cultural hub becomes haven from authorities   \n",
       "44896  Vatican upbeat on possibility of Pope Francis ...   \n",
       "44897  Indonesia to buy $1.14 billion worth of Russia...   \n",
       "\n",
       "                                                    text    subject  \\\n",
       "0      Donald Trump just couldn t wish all Americans ...       News   \n",
       "1      House Intelligence Committee Chairman Devin Nu...       News   \n",
       "2      On Friday, it was revealed that former Milwauk...       News   \n",
       "3      On Christmas day, Donald Trump announced that ...       News   \n",
       "4      Pope Francis used his annual Christmas Day mes...       News   \n",
       "...                                                  ...        ...   \n",
       "44893  BRUSSELS (Reuters) - NATO allies on Tuesday we...  worldnews   \n",
       "44894  LONDON (Reuters) - LexisNexis, a provider of l...  worldnews   \n",
       "44895  MINSK (Reuters) - In the shadow of disused Sov...  worldnews   \n",
       "44896  MOSCOW (Reuters) - Vatican Secretary of State ...  worldnews   \n",
       "44897  JAKARTA (Reuters) - Indonesia will buy 11 Sukh...  worldnews   \n",
       "\n",
       "                    date  category  \n",
       "0      December 31, 2017         0  \n",
       "1      December 31, 2017         0  \n",
       "2      December 30, 2017         0  \n",
       "3      December 29, 2017         0  \n",
       "4      December 25, 2017         0  \n",
       "...                  ...       ...  \n",
       "44893   August 22, 2017          1  \n",
       "44894   August 22, 2017          1  \n",
       "44895   August 22, 2017          1  \n",
       "44896   August 22, 2017          1  \n",
       "44897   August 22, 2017          1  \n",
       "\n",
       "[44898 rows x 5 columns]"
      ]
     },
     "execution_count": 6,
     "metadata": {},
     "output_type": "execute_result"
    }
   ],
   "source": [
    "# Concatenating dataframes\n",
    "df = pd.concat([df_0, df_1],axis=0)\n",
    "df = df.reset_index()\n",
    "df = df.drop(['index'], axis=1)\n",
    "df"
   ]
  },
  {
   "cell_type": "code",
   "execution_count": 7,
   "id": "western-corps",
   "metadata": {},
   "outputs": [],
   "source": [
    "# Saving dataframe as CSV\n",
    "df.to_csv(f'../data/df_fakenews_merge.csv', index=False)"
   ]
  },
  {
   "cell_type": "code",
   "execution_count": 8,
   "id": "seven-absence",
   "metadata": {},
   "outputs": [
    {
     "name": "stdout",
     "output_type": "stream",
     "text": [
      "<class 'pandas.core.frame.DataFrame'>\n",
      "RangeIndex: 44898 entries, 0 to 44897\n",
      "Data columns (total 5 columns):\n",
      " #   Column    Non-Null Count  Dtype \n",
      "---  ------    --------------  ----- \n",
      " 0   title     44898 non-null  object\n",
      " 1   text      44898 non-null  object\n",
      " 2   subject   44898 non-null  object\n",
      " 3   date      44898 non-null  object\n",
      " 4   category  44898 non-null  int64 \n",
      "dtypes: int64(1), object(4)\n",
      "memory usage: 1.7+ MB\n"
     ]
    }
   ],
   "source": [
    "# Quick overview of the new dataset\n",
    "df.info()"
   ]
  },
  {
   "cell_type": "code",
   "execution_count": 9,
   "id": "surgical-serum",
   "metadata": {},
   "outputs": [
    {
     "data": {
      "text/plain": [
       "title       0\n",
       "text        0\n",
       "subject     0\n",
       "date        0\n",
       "category    0\n",
       "dtype: int64"
      ]
     },
     "execution_count": 9,
     "metadata": {},
     "output_type": "execute_result"
    }
   ],
   "source": [
    "# Returning the number of missing values in each column\n",
    "df.isnull( ).sum( )"
   ]
  },
  {
   "cell_type": "code",
   "execution_count": 10,
   "id": "backed-parcel",
   "metadata": {},
   "outputs": [
    {
     "data": {
      "text/plain": [
       "array(['News', 'politics', 'Government News', 'left-news', 'US_News',\n",
       "       'Middle-east', 'politicsNews', 'worldnews'], dtype=object)"
      ]
     },
     "execution_count": 10,
     "metadata": {},
     "output_type": "execute_result"
    }
   ],
   "source": [
    "# Number of unique elements in \"subject\" column\n",
    "df[\"subject\"].unique()"
   ]
  },
  {
   "cell_type": "code",
   "execution_count": 11,
   "id": "descending-costa",
   "metadata": {},
   "outputs": [
    {
     "data": {
      "text/html": [
       "<div>\n",
       "<style scoped>\n",
       "    .dataframe tbody tr th:only-of-type {\n",
       "        vertical-align: middle;\n",
       "    }\n",
       "\n",
       "    .dataframe tbody tr th {\n",
       "        vertical-align: top;\n",
       "    }\n",
       "\n",
       "    .dataframe thead th {\n",
       "        text-align: right;\n",
       "    }\n",
       "</style>\n",
       "<table border=\"1\" class=\"dataframe\">\n",
       "  <thead>\n",
       "    <tr style=\"text-align: right;\">\n",
       "      <th></th>\n",
       "      <th>category</th>\n",
       "    </tr>\n",
       "  </thead>\n",
       "  <tbody>\n",
       "    <tr>\n",
       "      <th>count</th>\n",
       "      <td>44898.000000</td>\n",
       "    </tr>\n",
       "    <tr>\n",
       "      <th>mean</th>\n",
       "      <td>0.477015</td>\n",
       "    </tr>\n",
       "    <tr>\n",
       "      <th>std</th>\n",
       "      <td>0.499477</td>\n",
       "    </tr>\n",
       "    <tr>\n",
       "      <th>min</th>\n",
       "      <td>0.000000</td>\n",
       "    </tr>\n",
       "    <tr>\n",
       "      <th>25%</th>\n",
       "      <td>0.000000</td>\n",
       "    </tr>\n",
       "    <tr>\n",
       "      <th>50%</th>\n",
       "      <td>0.000000</td>\n",
       "    </tr>\n",
       "    <tr>\n",
       "      <th>75%</th>\n",
       "      <td>1.000000</td>\n",
       "    </tr>\n",
       "    <tr>\n",
       "      <th>max</th>\n",
       "      <td>1.000000</td>\n",
       "    </tr>\n",
       "  </tbody>\n",
       "</table>\n",
       "</div>"
      ],
      "text/plain": [
       "           category\n",
       "count  44898.000000\n",
       "mean       0.477015\n",
       "std        0.499477\n",
       "min        0.000000\n",
       "25%        0.000000\n",
       "50%        0.000000\n",
       "75%        1.000000\n",
       "max        1.000000"
      ]
     },
     "execution_count": 11,
     "metadata": {},
     "output_type": "execute_result"
    }
   ],
   "source": [
    "# Statistical summary for numerical columns present in the dataset. \n",
    "# This step does not make much sense on this dataframe\n",
    "df.describe()"
   ]
  },
  {
   "cell_type": "code",
   "execution_count": 12,
   "id": "quality-creator",
   "metadata": {},
   "outputs": [
    {
     "data": {
      "text/plain": [
       "(44898, 5)"
      ]
     },
     "execution_count": 12,
     "metadata": {},
     "output_type": "execute_result"
    }
   ],
   "source": [
    "# Getting number of dimensions as well as the size in each dimension\n",
    "df.shape"
   ]
  },
  {
   "cell_type": "markdown",
   "id": "republican-rabbit",
   "metadata": {},
   "source": [
    "### <span style=\"color:#003049\">3. Data Cleaning</span> "
   ]
  },
  {
   "cell_type": "markdown",
   "id": "weighted-seafood",
   "metadata": {},
   "source": [
    "<img src=\"../images/data_cleaning.jpeg\" width=\"300\" height=\"50\" />"
   ]
  },
  {
   "cell_type": "code",
   "execution_count": 13,
   "id": "handy-action",
   "metadata": {},
   "outputs": [
    {
     "data": {
      "text/plain": [
       "title       0\n",
       "text        0\n",
       "subject     0\n",
       "date        0\n",
       "category    0\n",
       "dtype: int64"
      ]
     },
     "execution_count": 13,
     "metadata": {},
     "output_type": "execute_result"
    }
   ],
   "source": [
    "# Detecting missing values for an array-like object.\n",
    "df.isnull().sum()"
   ]
  },
  {
   "cell_type": "code",
   "execution_count": 14,
   "id": "mental-impact",
   "metadata": {},
   "outputs": [],
   "source": [
    "# Removing rows containing NaN or missing values\n",
    "df.dropna(inplace=True)"
   ]
  },
  {
   "cell_type": "code",
   "execution_count": 15,
   "id": "involved-artwork",
   "metadata": {},
   "outputs": [
    {
     "data": {
      "text/plain": [
       "209"
      ]
     },
     "execution_count": 15,
     "metadata": {},
     "output_type": "execute_result"
    }
   ],
   "source": [
    "# Analyzing duplicated values\n",
    "df.duplicated().sum()"
   ]
  },
  {
   "cell_type": "code",
   "execution_count": 16,
   "id": "blank-applicant",
   "metadata": {},
   "outputs": [],
   "source": [
    "# Dropping duplicates\n",
    "df = df.drop_duplicates()"
   ]
  },
  {
   "cell_type": "code",
   "execution_count": 17,
   "id": "logical-geneva",
   "metadata": {},
   "outputs": [
    {
     "data": {
      "text/plain": [
       "5960"
      ]
     },
     "execution_count": 17,
     "metadata": {},
     "output_type": "execute_result"
    }
   ],
   "source": [
    "# Counting duplicated rows in \"title\" column\n",
    "df[\"title\"].duplicated().sum()"
   ]
  },
  {
   "cell_type": "code",
   "execution_count": 18,
   "id": "preceding-compensation",
   "metadata": {},
   "outputs": [
    {
     "data": {
      "text/plain": [
       "6043"
      ]
     },
     "execution_count": 18,
     "metadata": {},
     "output_type": "execute_result"
    }
   ],
   "source": [
    "df[\"text\"].duplicated().sum()"
   ]
  },
  {
   "cell_type": "markdown",
   "id": "floppy-gambling",
   "metadata": {},
   "source": [
    "---------------"
   ]
  },
  {
   "cell_type": "markdown",
   "id": "human-flavor",
   "metadata": {},
   "source": [
    " ##### <span style=\"color:#003049\">I would like to find out how many duplicated \"titles\" and \"texts\" are to be found in fake_news</span> "
   ]
  },
  {
   "cell_type": "code",
   "execution_count": 19,
   "id": "marked-fields",
   "metadata": {},
   "outputs": [
    {
     "data": {
      "text/plain": [
       "5578"
      ]
     },
     "execution_count": 19,
     "metadata": {},
     "output_type": "execute_result"
    }
   ],
   "source": [
    "df_0[\"title\"].duplicated().sum()"
   ]
  },
  {
   "cell_type": "code",
   "execution_count": 20,
   "id": "local-connectivity",
   "metadata": {},
   "outputs": [
    {
     "data": {
      "text/plain": [
       "6026"
      ]
     },
     "execution_count": 20,
     "metadata": {},
     "output_type": "execute_result"
    }
   ],
   "source": [
    "df_0[\"text\"].duplicated().sum()"
   ]
  },
  {
   "cell_type": "markdown",
   "id": "concerned-basket",
   "metadata": {},
   "source": [
    "###### <span style=\"color:#003049\">Most of the duplicated rows are part of fake_news. Maybe this is due to the need to repeat a message to reaffirm it or probably as well to the little imagination of the inventors of lies. </span>\n"
   ]
  },
  {
   "cell_type": "markdown",
   "id": "loose-gambling",
   "metadata": {},
   "source": [
    "-------"
   ]
  },
  {
   "cell_type": "code",
   "execution_count": 21,
   "id": "adopted-destruction",
   "metadata": {},
   "outputs": [],
   "source": [
    "# Dropping duplicated rows in \"text\" column\n",
    "df = df.drop_duplicates(subset=['text'])"
   ]
  },
  {
   "cell_type": "code",
   "execution_count": 22,
   "id": "great-blowing",
   "metadata": {},
   "outputs": [],
   "source": [
    "# Dropping duplicated rows in \"title\" column\n",
    "df = df.drop_duplicates(subset=['title'])"
   ]
  },
  {
   "cell_type": "code",
   "execution_count": 23,
   "id": "convertible-monkey",
   "metadata": {},
   "outputs": [
    {
     "name": "stdout",
     "output_type": "stream",
     "text": [
      "<class 'pandas.core.frame.DataFrame'>\n",
      "Int64Index: 38270 entries, 0 to 44897\n",
      "Data columns (total 5 columns):\n",
      " #   Column    Non-Null Count  Dtype \n",
      "---  ------    --------------  ----- \n",
      " 0   title     38270 non-null  object\n",
      " 1   text      38270 non-null  object\n",
      " 2   subject   38270 non-null  object\n",
      " 3   date      38270 non-null  object\n",
      " 4   category  38270 non-null  int64 \n",
      "dtypes: int64(1), object(4)\n",
      "memory usage: 1.8+ MB\n"
     ]
    }
   ],
   "source": [
    "df.info()"
   ]
  },
  {
   "cell_type": "markdown",
   "id": "popular-flexibility",
   "metadata": {},
   "source": [
    "### <span style=\"color:#003049\">3. Preprocessing </span> "
   ]
  },
  {
   "cell_type": "markdown",
   "id": "joint-tulsa",
   "metadata": {},
   "source": [
    "<img src=\"../images/Python-data-preprocessing.png\" width=\"300\" height=\"50\" />"
   ]
  },
  {
   "cell_type": "markdown",
   "id": "faced-pencil",
   "metadata": {},
   "source": [
    "#### <span style=\"color:#003049\">Next steps: </span> \n",
    "<span style=\"color:#003049\">\n",
    "    <ul>\n",
    "        <li><b>Removing stopwords before removing characters. I will add the word \"us\" to the list of stopwords so that after the removal of characters the only \"us\" that remains comes from the abbreviation U.S. (United States).</b></li>\n",
    "        <li><b>Changing the $ symbol to the word \"Dollar\"</b></li>\n",
    "        <li><b>Removing characters</b></li>\n",
    "        <li><b>Removing digits</b></li>\n",
    "        <li><b>Removing single letters</b></li>\n",
    "        <li><b>Removing the word \"reuter\"</b></li>\n",
    "        <li><b>Removing stopwords again, maintaining the word \"us\" this time </b></li>\n",
    "        <li><b>Change date column to ordinal format</b></li>\n",
    "        <li><b>Add columns length_title and length_text</b></li>       \n",
    "    </ul>\n",
    "</span> "
   ]
  },
  {
   "cell_type": "code",
   "execution_count": 24,
   "id": "arctic-kitchen",
   "metadata": {},
   "outputs": [],
   "source": [
    "# Setting up the function to work on the sample and later work with the whole dataframe.\n",
    "from nltk.corpus import stopwords\n",
    "ps = PorterStemmer()\n",
    "en_stops = stopwords.words('english')\n",
    "us_stops = stopwords.words('english')\n",
    "us_stops.append(\"us\")\n",
    "us_stops.append(\"would\")\n",
    "pattern = '[0-9]'\n",
    "pattern2 = \"[_]\"\n",
    "    \n",
    "def stopwords(news):\n",
    "    new_news = []\n",
    "    news = news.lower().split()\n",
    "    news = [word for word in news if not word in us_stops]\n",
    "    news = \" \".join(str(i) for i in news)\n",
    "    news = re.sub(r'\\$[^\\s]+', 'dollar', news) # Changing $ symbol to the word \"dollar\"\n",
    "    news = re.sub('https?://\\S+|www\\.\\S+', '', news) # Removing link of web page from string\n",
    "    news = re.sub(r'[^\\w\\s]+',\"\",news) # Removing characters\n",
    "    news = re.sub('\\w*\\d\\w*', '', news) # Removes digits and words that have digits\n",
    "    news = re.sub(\" \\d+\", \" \", news) # Removing digits\n",
    "    news = re.sub(r'(?:^| )\\w(?:$| )', ' ', news) # Removing any single letter on a string \n",
    "    news = re.sub(\"reuters\",\"\", news) \n",
    "    news = news.split((\" \"))\n",
    "    #news = [re.sub(pattern, '', i) for i in news]\n",
    "    news = [re.sub(pattern2, '', i) for i in news]\n",
    "    news = list(map(lambda x: ps.stem(x),news)) # Using PorterStemmer to get the standard version of some words (example: working= work, worked= work)\n",
    "    news = [word for word in news if not word in en_stops]\n",
    "    news = \" \".join(str(i) for i in news)\n",
    "    return news"
   ]
  },
  {
   "cell_type": "code",
   "execution_count": 25,
   "id": "extended-friendship",
   "metadata": {
    "scrolled": true
   },
   "outputs": [
    {
     "data": {
      "text/html": [
       "<div>\n",
       "<style scoped>\n",
       "    .dataframe tbody tr th:only-of-type {\n",
       "        vertical-align: middle;\n",
       "    }\n",
       "\n",
       "    .dataframe tbody tr th {\n",
       "        vertical-align: top;\n",
       "    }\n",
       "\n",
       "    .dataframe thead th {\n",
       "        text-align: right;\n",
       "    }\n",
       "</style>\n",
       "<table border=\"1\" class=\"dataframe\">\n",
       "  <thead>\n",
       "    <tr style=\"text-align: right;\">\n",
       "      <th></th>\n",
       "      <th>title</th>\n",
       "      <th>text</th>\n",
       "      <th>subject</th>\n",
       "      <th>date</th>\n",
       "      <th>category</th>\n",
       "    </tr>\n",
       "  </thead>\n",
       "  <tbody>\n",
       "    <tr>\n",
       "      <th>0</th>\n",
       "      <td>donald trump send embarrass new year eve messa...</td>\n",
       "      <td>donald trump wish american happi new year leav...</td>\n",
       "      <td>News</td>\n",
       "      <td>December 31, 2017</td>\n",
       "      <td>0</td>\n",
       "    </tr>\n",
       "    <tr>\n",
       "      <th>1</th>\n",
       "      <td>drunk brag trump staffer start russian collus ...</td>\n",
       "      <td>hous intellig committe chairman devin nune go ...</td>\n",
       "      <td>News</td>\n",
       "      <td>December 31, 2017</td>\n",
       "      <td>0</td>\n",
       "    </tr>\n",
       "    <tr>\n",
       "      <th>2</th>\n",
       "      <td>sheriff david clark becom internet joke threat...</td>\n",
       "      <td>friday reveal former milwauke sheriff david cl...</td>\n",
       "      <td>News</td>\n",
       "      <td>December 30, 2017</td>\n",
       "      <td>0</td>\n",
       "    </tr>\n",
       "    <tr>\n",
       "      <th>3</th>\n",
       "      <td>trump obsess even obama name code websit imag</td>\n",
       "      <td>christma day donald trump announc back work fo...</td>\n",
       "      <td>News</td>\n",
       "      <td>December 29, 2017</td>\n",
       "      <td>0</td>\n",
       "    </tr>\n",
       "    <tr>\n",
       "      <th>4</th>\n",
       "      <td>pope franci call donald trump christma speech</td>\n",
       "      <td>pope franci use annual christma day messag reb...</td>\n",
       "      <td>News</td>\n",
       "      <td>December 25, 2017</td>\n",
       "      <td>0</td>\n",
       "    </tr>\n",
       "    <tr>\n",
       "      <th>...</th>\n",
       "      <td>...</td>\n",
       "      <td>...</td>\n",
       "      <td>...</td>\n",
       "      <td>...</td>\n",
       "      <td>...</td>\n",
       "    </tr>\n",
       "    <tr>\n",
       "      <th>44892</th>\n",
       "      <td>north korea shipment syria chemic arm agenc in...</td>\n",
       "      <td>unit nation   two north korean shipment syrian...</td>\n",
       "      <td>worldnews</td>\n",
       "      <td>August 21, 2017</td>\n",
       "      <td>1</td>\n",
       "    </tr>\n",
       "    <tr>\n",
       "      <th>44894</th>\n",
       "      <td>lexisnexi withdrew two product chines market</td>\n",
       "      <td>london   lexisnexi provid legal regulatori bus...</td>\n",
       "      <td>worldnews</td>\n",
       "      <td>August 22, 2017</td>\n",
       "      <td>1</td>\n",
       "    </tr>\n",
       "    <tr>\n",
       "      <th>44895</th>\n",
       "      <td>minsk cultur hub becom author</td>\n",
       "      <td>minsk   shadow disus sovietera factori minsk s...</td>\n",
       "      <td>worldnews</td>\n",
       "      <td>August 22, 2017</td>\n",
       "      <td>1</td>\n",
       "    </tr>\n",
       "    <tr>\n",
       "      <th>44896</th>\n",
       "      <td>vatican upbeat possibl pope franci visit russia</td>\n",
       "      <td>moscow   vatican secretari state cardin pietro...</td>\n",
       "      <td>worldnews</td>\n",
       "      <td>August 22, 2017</td>\n",
       "      <td>1</td>\n",
       "    </tr>\n",
       "    <tr>\n",
       "      <th>44897</th>\n",
       "      <td>indonesia buy dollar billion worth russian jet</td>\n",
       "      <td>jakarta   indonesia buy  sukhoi fighter jet wo...</td>\n",
       "      <td>worldnews</td>\n",
       "      <td>August 22, 2017</td>\n",
       "      <td>1</td>\n",
       "    </tr>\n",
       "  </tbody>\n",
       "</table>\n",
       "<p>38270 rows × 5 columns</p>\n",
       "</div>"
      ],
      "text/plain": [
       "                                                   title  \\\n",
       "0      donald trump send embarrass new year eve messa...   \n",
       "1      drunk brag trump staffer start russian collus ...   \n",
       "2      sheriff david clark becom internet joke threat...   \n",
       "3          trump obsess even obama name code websit imag   \n",
       "4          pope franci call donald trump christma speech   \n",
       "...                                                  ...   \n",
       "44892  north korea shipment syria chemic arm agenc in...   \n",
       "44894       lexisnexi withdrew two product chines market   \n",
       "44895                      minsk cultur hub becom author   \n",
       "44896    vatican upbeat possibl pope franci visit russia   \n",
       "44897     indonesia buy dollar billion worth russian jet   \n",
       "\n",
       "                                                    text    subject  \\\n",
       "0      donald trump wish american happi new year leav...       News   \n",
       "1      hous intellig committe chairman devin nune go ...       News   \n",
       "2      friday reveal former milwauke sheriff david cl...       News   \n",
       "3      christma day donald trump announc back work fo...       News   \n",
       "4      pope franci use annual christma day messag reb...       News   \n",
       "...                                                  ...        ...   \n",
       "44892  unit nation   two north korean shipment syrian...  worldnews   \n",
       "44894  london   lexisnexi provid legal regulatori bus...  worldnews   \n",
       "44895  minsk   shadow disus sovietera factori minsk s...  worldnews   \n",
       "44896  moscow   vatican secretari state cardin pietro...  worldnews   \n",
       "44897  jakarta   indonesia buy  sukhoi fighter jet wo...  worldnews   \n",
       "\n",
       "                    date  category  \n",
       "0      December 31, 2017         0  \n",
       "1      December 31, 2017         0  \n",
       "2      December 30, 2017         0  \n",
       "3      December 29, 2017         0  \n",
       "4      December 25, 2017         0  \n",
       "...                  ...       ...  \n",
       "44892   August 21, 2017          1  \n",
       "44894   August 22, 2017          1  \n",
       "44895   August 22, 2017          1  \n",
       "44896   August 22, 2017          1  \n",
       "44897   August 22, 2017          1  \n",
       "\n",
       "[38270 rows x 5 columns]"
      ]
     },
     "execution_count": 25,
     "metadata": {},
     "output_type": "execute_result"
    }
   ],
   "source": [
    "df['text'] = df['text'].apply(stopwords)\n",
    "df['title'] = df['title'].apply(stopwords)\n",
    "df"
   ]
  },
  {
   "cell_type": "markdown",
   "id": "sunset-turner",
   "metadata": {},
   "source": [
    "#### <span style=\"color:#003049\">Now I will work on the date column</span> "
   ]
  },
  {
   "cell_type": "code",
   "execution_count": 26,
   "id": "advance-premium",
   "metadata": {},
   "outputs": [],
   "source": [
    "# There some rows that have information but not date. I will delete them.\n",
    "df = df[df['date'].str.len() < 22]"
   ]
  },
  {
   "cell_type": "code",
   "execution_count": 27,
   "id": "closing-relief",
   "metadata": {},
   "outputs": [
    {
     "name": "stdout",
     "output_type": "stream",
     "text": [
      "object type:  object\n",
      "object type:  datetime64[ns]\n",
      "min time:  2015-03-31 00:00:00\n",
      "max time:  2018-02-19 00:00:00\n"
     ]
    }
   ],
   "source": [
    "def date_time(dtime):\n",
    "    print(\"object type: \",dtime.dtype)\n",
    "    dtime =pd.to_datetime(dtime) # Converting it to datetime\n",
    "    print(\"object type: \",dtime.dtype) # Checking datatype again\n",
    "    print(\"min time: \",dtime.min()) # Checking for earliest data\n",
    "    print(\"max time: \",dtime.max()) # Checking for latest data\n",
    "    dtime = dtime.apply(lambda x: x.toordinal()) # Changing the datatype to ordinal\n",
    "    return dtime\n",
    "df['date'] = date_time(df['date'])"
   ]
  },
  {
   "cell_type": "code",
   "execution_count": 28,
   "id": "bizarre-founder",
   "metadata": {},
   "outputs": [
    {
     "data": {
      "text/html": [
       "<div>\n",
       "<style scoped>\n",
       "    .dataframe tbody tr th:only-of-type {\n",
       "        vertical-align: middle;\n",
       "    }\n",
       "\n",
       "    .dataframe tbody tr th {\n",
       "        vertical-align: top;\n",
       "    }\n",
       "\n",
       "    .dataframe thead th {\n",
       "        text-align: right;\n",
       "    }\n",
       "</style>\n",
       "<table border=\"1\" class=\"dataframe\">\n",
       "  <thead>\n",
       "    <tr style=\"text-align: right;\">\n",
       "      <th></th>\n",
       "      <th>title</th>\n",
       "      <th>text</th>\n",
       "      <th>subject</th>\n",
       "      <th>date</th>\n",
       "      <th>category</th>\n",
       "      <th>length_text</th>\n",
       "      <th>length_title</th>\n",
       "    </tr>\n",
       "  </thead>\n",
       "  <tbody>\n",
       "    <tr>\n",
       "      <th>0</th>\n",
       "      <td>donald trump send embarrass new year eve messa...</td>\n",
       "      <td>donald trump wish american happi new year leav...</td>\n",
       "      <td>News</td>\n",
       "      <td>736694</td>\n",
       "      <td>0</td>\n",
       "      <td>245</td>\n",
       "      <td>9</td>\n",
       "    </tr>\n",
       "    <tr>\n",
       "      <th>1</th>\n",
       "      <td>drunk brag trump staffer start russian collus ...</td>\n",
       "      <td>hous intellig committe chairman devin nune go ...</td>\n",
       "      <td>News</td>\n",
       "      <td>736694</td>\n",
       "      <td>0</td>\n",
       "      <td>178</td>\n",
       "      <td>8</td>\n",
       "    </tr>\n",
       "    <tr>\n",
       "      <th>2</th>\n",
       "      <td>sheriff david clark becom internet joke threat...</td>\n",
       "      <td>friday reveal former milwauke sheriff david cl...</td>\n",
       "      <td>News</td>\n",
       "      <td>736693</td>\n",
       "      <td>0</td>\n",
       "      <td>302</td>\n",
       "      <td>10</td>\n",
       "    </tr>\n",
       "    <tr>\n",
       "      <th>3</th>\n",
       "      <td>trump obsess even obama name code websit imag</td>\n",
       "      <td>christma day donald trump announc back work fo...</td>\n",
       "      <td>News</td>\n",
       "      <td>736692</td>\n",
       "      <td>0</td>\n",
       "      <td>230</td>\n",
       "      <td>8</td>\n",
       "    </tr>\n",
       "    <tr>\n",
       "      <th>4</th>\n",
       "      <td>pope franci call donald trump christma speech</td>\n",
       "      <td>pope franci use annual christma day messag reb...</td>\n",
       "      <td>News</td>\n",
       "      <td>736688</td>\n",
       "      <td>0</td>\n",
       "      <td>208</td>\n",
       "      <td>7</td>\n",
       "    </tr>\n",
       "    <tr>\n",
       "      <th>...</th>\n",
       "      <td>...</td>\n",
       "      <td>...</td>\n",
       "      <td>...</td>\n",
       "      <td>...</td>\n",
       "      <td>...</td>\n",
       "      <td>...</td>\n",
       "      <td>...</td>\n",
       "    </tr>\n",
       "    <tr>\n",
       "      <th>44892</th>\n",
       "      <td>north korea shipment syria chemic arm agenc in...</td>\n",
       "      <td>unit nation   two north korean shipment syrian...</td>\n",
       "      <td>worldnews</td>\n",
       "      <td>736562</td>\n",
       "      <td>1</td>\n",
       "      <td>274</td>\n",
       "      <td>10</td>\n",
       "    </tr>\n",
       "    <tr>\n",
       "      <th>44894</th>\n",
       "      <td>lexisnexi withdrew two product chines market</td>\n",
       "      <td>london   lexisnexi provid legal regulatori bus...</td>\n",
       "      <td>worldnews</td>\n",
       "      <td>736563</td>\n",
       "      <td>1</td>\n",
       "      <td>73</td>\n",
       "      <td>6</td>\n",
       "    </tr>\n",
       "    <tr>\n",
       "      <th>44895</th>\n",
       "      <td>minsk cultur hub becom author</td>\n",
       "      <td>minsk   shadow disus sovietera factori minsk s...</td>\n",
       "      <td>worldnews</td>\n",
       "      <td>736563</td>\n",
       "      <td>1</td>\n",
       "      <td>169</td>\n",
       "      <td>5</td>\n",
       "    </tr>\n",
       "    <tr>\n",
       "      <th>44896</th>\n",
       "      <td>vatican upbeat possibl pope franci visit russia</td>\n",
       "      <td>moscow   vatican secretari state cardin pietro...</td>\n",
       "      <td>worldnews</td>\n",
       "      <td>736563</td>\n",
       "      <td>1</td>\n",
       "      <td>116</td>\n",
       "      <td>7</td>\n",
       "    </tr>\n",
       "    <tr>\n",
       "      <th>44897</th>\n",
       "      <td>indonesia buy dollar billion worth russian jet</td>\n",
       "      <td>jakarta   indonesia buy  sukhoi fighter jet wo...</td>\n",
       "      <td>worldnews</td>\n",
       "      <td>736563</td>\n",
       "      <td>1</td>\n",
       "      <td>135</td>\n",
       "      <td>7</td>\n",
       "    </tr>\n",
       "  </tbody>\n",
       "</table>\n",
       "<p>38264 rows × 7 columns</p>\n",
       "</div>"
      ],
      "text/plain": [
       "                                                   title  \\\n",
       "0      donald trump send embarrass new year eve messa...   \n",
       "1      drunk brag trump staffer start russian collus ...   \n",
       "2      sheriff david clark becom internet joke threat...   \n",
       "3          trump obsess even obama name code websit imag   \n",
       "4          pope franci call donald trump christma speech   \n",
       "...                                                  ...   \n",
       "44892  north korea shipment syria chemic arm agenc in...   \n",
       "44894       lexisnexi withdrew two product chines market   \n",
       "44895                      minsk cultur hub becom author   \n",
       "44896    vatican upbeat possibl pope franci visit russia   \n",
       "44897     indonesia buy dollar billion worth russian jet   \n",
       "\n",
       "                                                    text    subject    date  \\\n",
       "0      donald trump wish american happi new year leav...       News  736694   \n",
       "1      hous intellig committe chairman devin nune go ...       News  736694   \n",
       "2      friday reveal former milwauke sheriff david cl...       News  736693   \n",
       "3      christma day donald trump announc back work fo...       News  736692   \n",
       "4      pope franci use annual christma day messag reb...       News  736688   \n",
       "...                                                  ...        ...     ...   \n",
       "44892  unit nation   two north korean shipment syrian...  worldnews  736562   \n",
       "44894  london   lexisnexi provid legal regulatori bus...  worldnews  736563   \n",
       "44895  minsk   shadow disus sovietera factori minsk s...  worldnews  736563   \n",
       "44896  moscow   vatican secretari state cardin pietro...  worldnews  736563   \n",
       "44897  jakarta   indonesia buy  sukhoi fighter jet wo...  worldnews  736563   \n",
       "\n",
       "       category  length_text  length_title  \n",
       "0             0          245             9  \n",
       "1             0          178             8  \n",
       "2             0          302            10  \n",
       "3             0          230             8  \n",
       "4             0          208             7  \n",
       "...         ...          ...           ...  \n",
       "44892         1          274            10  \n",
       "44894         1           73             6  \n",
       "44895         1          169             5  \n",
       "44896         1          116             7  \n",
       "44897         1          135             7  \n",
       "\n",
       "[38264 rows x 7 columns]"
      ]
     },
     "execution_count": 28,
     "metadata": {},
     "output_type": "execute_result"
    }
   ],
   "source": [
    "df[\"length_text\"] = [len(word.split()) for word in df[\"text\"]]\n",
    "df[\"length_title\"] = [len(word.split()) for word in df[\"title\"]]\n",
    "df"
   ]
  },
  {
   "cell_type": "code",
   "execution_count": 29,
   "id": "thick-stations",
   "metadata": {},
   "outputs": [
    {
     "name": "stdout",
     "output_type": "stream",
     "text": [
      "donald trump spent good portion day golf club mark  day done sinc take oath offic must bad game trump lash fbi deputi director andrew mccabe twitter follow report say mccabe plan retir month report follow mccabe testimoni front congression committe week well mount critic republican regard russia probeso natur trump attack mccabe lie fbi deputi director andrew mccabe man charg along leakin jame comey phoni hillari clinton investig includ  illeg delet email given dollar wife campaign clinton puppet investig trump tweetedhow fbi deputi director andrew mccabe man charg along leakin jame comey phoni hillari clinton investig includ  illeg delet email given dollar wife campaign clinton puppet investig donald trump realdonaldtrump decemb   stop therefbi deputi director andrew mccabe race clock retir full benefit  day go donald trump realdonaldtrump decemb   fbi lawyer jame baker reassign accord foxnew donald trump realdonaldtrump decemb   intel trump dispos get inform fox news mccabe spent career fight terror attack socal presid trump factcheck claim wife receiv dollar campaignpolitifact note late juli trump tweet andrew mccabe signific distort fact implic mccabe got clinton polit favor make much sens look evid juli tweet rate mostli fals trump repeat lie know support believ without bother googl still lie thoughphoto zach gibson poolgetti imag\n"
     ]
    }
   ],
   "source": [
    "print(df.iloc[6,1])"
   ]
  },
  {
   "cell_type": "markdown",
   "id": "burning-holly",
   "metadata": {},
   "source": [
    "### <span style=\"color:#003049\">The data is ready to be processed.</span> "
   ]
  },
  {
   "cell_type": "code",
   "execution_count": 30,
   "id": "exclusive-value",
   "metadata": {},
   "outputs": [],
   "source": [
    "# Saving dataframe as CSV\n",
    "df.to_csv(f'../data/df_fake_real_news.csv', index=False)"
   ]
  },
  {
   "cell_type": "markdown",
   "id": "bearing-brazilian",
   "metadata": {},
   "source": [
    "Link to [fake and real news viz](fake_and_real_news_viz.ipynb)<br>\n",
    "\n",
    "Link to [machine learning notebook](fake_and_real_news_machine_learning.ipynb)"
   ]
  }
 ],
 "metadata": {
  "kernelspec": {
   "display_name": "Python 3",
   "language": "python",
   "name": "python3"
  },
  "language_info": {
   "codemirror_mode": {
    "name": "ipython",
    "version": 3
   },
   "file_extension": ".py",
   "mimetype": "text/x-python",
   "name": "python",
   "nbconvert_exporter": "python",
   "pygments_lexer": "ipython3",
   "version": "3.9.2"
  }
 },
 "nbformat": 4,
 "nbformat_minor": 5
}
