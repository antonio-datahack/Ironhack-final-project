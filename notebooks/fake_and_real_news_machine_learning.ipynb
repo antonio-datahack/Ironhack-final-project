{
 "cells": [
  {
   "cell_type": "code",
   "execution_count": 1,
   "id": "quantitative-technique",
   "metadata": {},
   "outputs": [],
   "source": [
    "# Load EDA pkgs\n",
    "import numpy as np\n",
    "import pandas as pd\n",
    "\n",
    "# Load Data Viz\n",
    "import matplotlib.pyplot as plt\n",
    "import seaborn as sns\n",
    "%matplotlib inline\n",
    "\n",
    "# Load ML tools\n",
    "from sklearn.model_selection import train_test_split\n",
    "from sklearn.feature_extraction.text import CountVectorizer, TfidfVectorizer\n",
    "\n",
    "import warnings\n",
    "warnings.filterwarnings('ignore')\n",
    "from wordcloud import WordCloud, STOPWORDS, ImageColorGenerator"
   ]
  },
  {
   "cell_type": "code",
   "execution_count": 2,
   "id": "advised-jordan",
   "metadata": {},
   "outputs": [],
   "source": [
    "df = pd.read_csv('../data/df_fake_real_news.csv')"
   ]
  },
  {
   "cell_type": "code",
   "execution_count": 3,
   "id": "popular-broad",
   "metadata": {},
   "outputs": [
    {
     "data": {
      "text/html": [
       "<div>\n",
       "<style scoped>\n",
       "    .dataframe tbody tr th:only-of-type {\n",
       "        vertical-align: middle;\n",
       "    }\n",
       "\n",
       "    .dataframe tbody tr th {\n",
       "        vertical-align: top;\n",
       "    }\n",
       "\n",
       "    .dataframe thead th {\n",
       "        text-align: right;\n",
       "    }\n",
       "</style>\n",
       "<table border=\"1\" class=\"dataframe\">\n",
       "  <thead>\n",
       "    <tr style=\"text-align: right;\">\n",
       "      <th></th>\n",
       "      <th>index</th>\n",
       "      <th>title</th>\n",
       "      <th>text</th>\n",
       "      <th>subject</th>\n",
       "      <th>date</th>\n",
       "      <th>category</th>\n",
       "      <th>length_text</th>\n",
       "      <th>length_title</th>\n",
       "    </tr>\n",
       "  </thead>\n",
       "  <tbody>\n",
       "    <tr>\n",
       "      <th>0</th>\n",
       "      <td>0</td>\n",
       "      <td>donald trump send embarrass new year eve messa...</td>\n",
       "      <td>donald trump wish american happi new year leav...</td>\n",
       "      <td>News</td>\n",
       "      <td>736694</td>\n",
       "      <td>0</td>\n",
       "      <td>255</td>\n",
       "      <td>9</td>\n",
       "    </tr>\n",
       "    <tr>\n",
       "      <th>1</th>\n",
       "      <td>1</td>\n",
       "      <td>drunk brag trump staffer start russian collus ...</td>\n",
       "      <td>hous intellig committe chairman devin nune go ...</td>\n",
       "      <td>News</td>\n",
       "      <td>736694</td>\n",
       "      <td>0</td>\n",
       "      <td>178</td>\n",
       "      <td>8</td>\n",
       "    </tr>\n",
       "    <tr>\n",
       "      <th>2</th>\n",
       "      <td>2</td>\n",
       "      <td>sheriff david clark becom internet joke threat...</td>\n",
       "      <td>friday reveal former milwauke sheriff david cl...</td>\n",
       "      <td>News</td>\n",
       "      <td>736693</td>\n",
       "      <td>0</td>\n",
       "      <td>315</td>\n",
       "      <td>10</td>\n",
       "    </tr>\n",
       "    <tr>\n",
       "      <th>3</th>\n",
       "      <td>3</td>\n",
       "      <td>trump obsess even obama name code websit imag</td>\n",
       "      <td>christma day donald trump announc back work fo...</td>\n",
       "      <td>News</td>\n",
       "      <td>736692</td>\n",
       "      <td>0</td>\n",
       "      <td>238</td>\n",
       "      <td>8</td>\n",
       "    </tr>\n",
       "    <tr>\n",
       "      <th>4</th>\n",
       "      <td>4</td>\n",
       "      <td>pope franci call donald trump christma speech</td>\n",
       "      <td>pope franci use annual christma day messag reb...</td>\n",
       "      <td>News</td>\n",
       "      <td>736688</td>\n",
       "      <td>0</td>\n",
       "      <td>208</td>\n",
       "      <td>7</td>\n",
       "    </tr>\n",
       "  </tbody>\n",
       "</table>\n",
       "</div>"
      ],
      "text/plain": [
       "   index                                              title  \\\n",
       "0      0  donald trump send embarrass new year eve messa...   \n",
       "1      1  drunk brag trump staffer start russian collus ...   \n",
       "2      2  sheriff david clark becom internet joke threat...   \n",
       "3      3      trump obsess even obama name code websit imag   \n",
       "4      4      pope franci call donald trump christma speech   \n",
       "\n",
       "                                                text subject    date  \\\n",
       "0  donald trump wish american happi new year leav...    News  736694   \n",
       "1  hous intellig committe chairman devin nune go ...    News  736694   \n",
       "2  friday reveal former milwauke sheriff david cl...    News  736693   \n",
       "3  christma day donald trump announc back work fo...    News  736692   \n",
       "4  pope franci use annual christma day messag reb...    News  736688   \n",
       "\n",
       "   category  length_text  length_title  \n",
       "0         0          255             9  \n",
       "1         0          178             8  \n",
       "2         0          315            10  \n",
       "3         0          238             8  \n",
       "4         0          208             7  "
      ]
     },
     "execution_count": 3,
     "metadata": {},
     "output_type": "execute_result"
    }
   ],
   "source": [
    "df = df[df['text'].notnull()]\n",
    "df = df.dropna()\n",
    "df.reset_index(inplace=True)\n",
    "#df = df.drop(axis=1, columns='level_0')\n",
    "df.head(5)"
   ]
  },
  {
   "cell_type": "code",
   "execution_count": 4,
   "id": "orange-palestine",
   "metadata": {},
   "outputs": [
    {
     "data": {
      "text/html": [
       "<div>\n",
       "<style scoped>\n",
       "    .dataframe tbody tr th:only-of-type {\n",
       "        vertical-align: middle;\n",
       "    }\n",
       "\n",
       "    .dataframe tbody tr th {\n",
       "        vertical-align: top;\n",
       "    }\n",
       "\n",
       "    .dataframe thead th {\n",
       "        text-align: right;\n",
       "    }\n",
       "</style>\n",
       "<table border=\"1\" class=\"dataframe\">\n",
       "  <thead>\n",
       "    <tr style=\"text-align: right;\">\n",
       "      <th></th>\n",
       "      <th>title</th>\n",
       "      <th>text</th>\n",
       "      <th>subject</th>\n",
       "      <th>date</th>\n",
       "      <th>category</th>\n",
       "      <th>length_text</th>\n",
       "      <th>length_title</th>\n",
       "    </tr>\n",
       "  </thead>\n",
       "  <tbody>\n",
       "    <tr>\n",
       "      <th>0</th>\n",
       "      <td>donald trump send embarrass new year eve messa...</td>\n",
       "      <td>donald trump wish american happi new year leav...</td>\n",
       "      <td>News</td>\n",
       "      <td>736694</td>\n",
       "      <td>0</td>\n",
       "      <td>255</td>\n",
       "      <td>9</td>\n",
       "    </tr>\n",
       "    <tr>\n",
       "      <th>1</th>\n",
       "      <td>drunk brag trump staffer start russian collus ...</td>\n",
       "      <td>hous intellig committe chairman devin nune go ...</td>\n",
       "      <td>News</td>\n",
       "      <td>736694</td>\n",
       "      <td>0</td>\n",
       "      <td>178</td>\n",
       "      <td>8</td>\n",
       "    </tr>\n",
       "    <tr>\n",
       "      <th>2</th>\n",
       "      <td>sheriff david clark becom internet joke threat...</td>\n",
       "      <td>friday reveal former milwauke sheriff david cl...</td>\n",
       "      <td>News</td>\n",
       "      <td>736693</td>\n",
       "      <td>0</td>\n",
       "      <td>315</td>\n",
       "      <td>10</td>\n",
       "    </tr>\n",
       "    <tr>\n",
       "      <th>3</th>\n",
       "      <td>trump obsess even obama name code websit imag</td>\n",
       "      <td>christma day donald trump announc back work fo...</td>\n",
       "      <td>News</td>\n",
       "      <td>736692</td>\n",
       "      <td>0</td>\n",
       "      <td>238</td>\n",
       "      <td>8</td>\n",
       "    </tr>\n",
       "    <tr>\n",
       "      <th>4</th>\n",
       "      <td>pope franci call donald trump christma speech</td>\n",
       "      <td>pope franci use annual christma day messag reb...</td>\n",
       "      <td>News</td>\n",
       "      <td>736688</td>\n",
       "      <td>0</td>\n",
       "      <td>208</td>\n",
       "      <td>7</td>\n",
       "    </tr>\n",
       "    <tr>\n",
       "      <th>...</th>\n",
       "      <td>...</td>\n",
       "      <td>...</td>\n",
       "      <td>...</td>\n",
       "      <td>...</td>\n",
       "      <td>...</td>\n",
       "      <td>...</td>\n",
       "      <td>...</td>\n",
       "    </tr>\n",
       "    <tr>\n",
       "      <th>38208</th>\n",
       "      <td>north korea shipment syria chemic arm agenc in...</td>\n",
       "      <td>unit nation   two north korean shipment syrian...</td>\n",
       "      <td>worldnews</td>\n",
       "      <td>736562</td>\n",
       "      <td>1</td>\n",
       "      <td>275</td>\n",
       "      <td>10</td>\n",
       "    </tr>\n",
       "    <tr>\n",
       "      <th>38209</th>\n",
       "      <td>lexisnexi withdrew two product chines market</td>\n",
       "      <td>london   lexisnexi provid legal regulatori bus...</td>\n",
       "      <td>worldnews</td>\n",
       "      <td>736563</td>\n",
       "      <td>1</td>\n",
       "      <td>73</td>\n",
       "      <td>6</td>\n",
       "    </tr>\n",
       "    <tr>\n",
       "      <th>38210</th>\n",
       "      <td>minsk cultur hub becom author</td>\n",
       "      <td>minsk   shadow disus sovietera factori minsk s...</td>\n",
       "      <td>worldnews</td>\n",
       "      <td>736563</td>\n",
       "      <td>1</td>\n",
       "      <td>169</td>\n",
       "      <td>5</td>\n",
       "    </tr>\n",
       "    <tr>\n",
       "      <th>38211</th>\n",
       "      <td>vatican upbeat possibl pope franci visit russia</td>\n",
       "      <td>moscow   vatican secretari state cardin pietro...</td>\n",
       "      <td>worldnews</td>\n",
       "      <td>736563</td>\n",
       "      <td>1</td>\n",
       "      <td>116</td>\n",
       "      <td>7</td>\n",
       "    </tr>\n",
       "    <tr>\n",
       "      <th>38212</th>\n",
       "      <td>indonesia buy dollar billion worth russian jet</td>\n",
       "      <td>jakarta   indonesia buy  sukhoi fighter jet wo...</td>\n",
       "      <td>worldnews</td>\n",
       "      <td>736563</td>\n",
       "      <td>1</td>\n",
       "      <td>136</td>\n",
       "      <td>7</td>\n",
       "    </tr>\n",
       "  </tbody>\n",
       "</table>\n",
       "<p>38213 rows × 7 columns</p>\n",
       "</div>"
      ],
      "text/plain": [
       "                                                   title  \\\n",
       "0      donald trump send embarrass new year eve messa...   \n",
       "1      drunk brag trump staffer start russian collus ...   \n",
       "2      sheriff david clark becom internet joke threat...   \n",
       "3          trump obsess even obama name code websit imag   \n",
       "4          pope franci call donald trump christma speech   \n",
       "...                                                  ...   \n",
       "38208  north korea shipment syria chemic arm agenc in...   \n",
       "38209       lexisnexi withdrew two product chines market   \n",
       "38210                      minsk cultur hub becom author   \n",
       "38211    vatican upbeat possibl pope franci visit russia   \n",
       "38212     indonesia buy dollar billion worth russian jet   \n",
       "\n",
       "                                                    text    subject    date  \\\n",
       "0      donald trump wish american happi new year leav...       News  736694   \n",
       "1      hous intellig committe chairman devin nune go ...       News  736694   \n",
       "2      friday reveal former milwauke sheriff david cl...       News  736693   \n",
       "3      christma day donald trump announc back work fo...       News  736692   \n",
       "4      pope franci use annual christma day messag reb...       News  736688   \n",
       "...                                                  ...        ...     ...   \n",
       "38208  unit nation   two north korean shipment syrian...  worldnews  736562   \n",
       "38209  london   lexisnexi provid legal regulatori bus...  worldnews  736563   \n",
       "38210  minsk   shadow disus sovietera factori minsk s...  worldnews  736563   \n",
       "38211  moscow   vatican secretari state cardin pietro...  worldnews  736563   \n",
       "38212  jakarta   indonesia buy  sukhoi fighter jet wo...  worldnews  736563   \n",
       "\n",
       "       category  length_text  length_title  \n",
       "0             0          255             9  \n",
       "1             0          178             8  \n",
       "2             0          315            10  \n",
       "3             0          238             8  \n",
       "4             0          208             7  \n",
       "...         ...          ...           ...  \n",
       "38208         1          275            10  \n",
       "38209         1           73             6  \n",
       "38210         1          169             5  \n",
       "38211         1          116             7  \n",
       "38212         1          136             7  \n",
       "\n",
       "[38213 rows x 7 columns]"
      ]
     },
     "execution_count": 4,
     "metadata": {},
     "output_type": "execute_result"
    }
   ],
   "source": [
    "df = df.drop(axis=1, columns='index')\n",
    "df"
   ]
  },
  {
   "cell_type": "markdown",
   "id": "pending-behavior",
   "metadata": {},
   "source": [
    "comparando el largo de los textos en fake_news con real_news"
   ]
  },
  {
   "cell_type": "markdown",
   "id": "caring-albania",
   "metadata": {},
   "source": [
    "#### Splitting the dataframe"
   ]
  },
  {
   "cell_type": "code",
   "execution_count": 5,
   "id": "outstanding-heather",
   "metadata": {},
   "outputs": [],
   "source": [
    "Y = df[\"category\"]"
   ]
  },
  {
   "cell_type": "markdown",
   "id": "anonymous-pharmacology",
   "metadata": {},
   "source": [
    "#### Making train and test data"
   ]
  },
  {
   "cell_type": "code",
   "execution_count": 6,
   "id": "dutch-thermal",
   "metadata": {},
   "outputs": [],
   "source": [
    "# Splitting the data into 70 percent train and 30 percent test\n",
    "X_train, X_test, Y_train, Y_test = train_test_split(df[\"text\"], Y, test_size=0.30, random_state=40)"
   ]
  },
  {
   "cell_type": "markdown",
   "id": "automated-audit",
   "metadata": {},
   "source": [
    "### <span style=\"color:#306998\">Tfidf vectorizer</span>\n",
    "<span style=\"color:#356F9F\"> TF-IDF is an abbreviation for Term Frequency Inverse Document Frequency. This is very common algorithm to transform text into a meaningful representation of numbers which is used to fit machine algorithm for prediction.  </span> "
   ]
  },
  {
   "cell_type": "code",
   "execution_count": 7,
   "id": "whole-colon",
   "metadata": {},
   "outputs": [],
   "source": [
    "# Applying tfidf\n",
    "tfidf_vect = TfidfVectorizer(max_df=0.7)\n",
    "tfidf_train = tfidf_vect.fit_transform(X_train)\n",
    "tfidf_test = tfidf_vect.transform(X_test)"
   ]
  },
  {
   "cell_type": "code",
   "execution_count": 8,
   "id": "hungarian-payment",
   "metadata": {},
   "outputs": [
    {
     "name": "stdout",
     "output_type": "stream",
     "text": [
      "  (0, 139489)\t0.09440276492498716\n",
      "  (0, 137465)\t0.4666774503312652\n",
      "  (0, 137411)\t0.044153997573981585\n",
      "  (0, 137054)\t0.11491086883898484\n",
      "  (0, 136560)\t0.027241952739011605\n",
      "  (0, 135025)\t0.063817802009009\n",
      "  (0, 132787)\t0.02904968984613222\n",
      "  (0, 132614)\t0.04507329071832335\n",
      "  (0, 130341)\t0.06442918378849413\n",
      "  (0, 127579)\t0.2350517584795784\n",
      "  (0, 127123)\t0.023921686419460922\n",
      "  (0, 126461)\t0.1453963828932853\n",
      "  (0, 125859)\t0.019151032963257344\n",
      "  (0, 125743)\t0.11265492997493583\n",
      "  (0, 124900)\t0.018784440899302934\n",
      "  (0, 124767)\t0.03321637244130531\n",
      "  (0, 123510)\t0.04830639109646747\n",
      "  (0, 121308)\t0.05011547163818694\n",
      "  (0, 119555)\t0.0313550435046979\n",
      "  (0, 118239)\t0.07420983733941305\n",
      "  (0, 117070)\t0.028034931948916878\n",
      "  (0, 114173)\t0.06623567832493556\n",
      "  (0, 112972)\t0.04084195057597677\n",
      "  (0, 111289)\t0.03191572983161652\n",
      "  (0, 110344)\t0.023868697800604344\n",
      "  :\t:\n",
      "  (11463, 80734)\t0.07655586127226295\n",
      "  (11463, 78065)\t0.16964910910319334\n",
      "  (11463, 75528)\t0.07900507852049447\n",
      "  (11463, 75106)\t0.08397994115559787\n",
      "  (11463, 66697)\t0.10302649989450584\n",
      "  (11463, 57037)\t0.059014698893464605\n",
      "  (11463, 55986)\t0.22037243986295804\n",
      "  (11463, 52757)\t0.09430876243635283\n",
      "  (11463, 51519)\t0.18519742000867917\n",
      "  (11463, 50649)\t0.17504302027384777\n",
      "  (11463, 44515)\t0.15187583288086992\n",
      "  (11463, 43590)\t0.06578934451309013\n",
      "  (11463, 41938)\t0.11251144617495511\n",
      "  (11463, 34749)\t0.0951872529237415\n",
      "  (11463, 31439)\t0.1278960095072025\n",
      "  (11463, 30886)\t0.08923780562433663\n",
      "  (11463, 30361)\t0.1848444143396545\n",
      "  (11463, 26746)\t0.16343099386633167\n",
      "  (11463, 26101)\t0.11340091978528397\n",
      "  (11463, 21263)\t0.674222561496398\n",
      "  (11463, 19711)\t0.10354375927553126\n",
      "  (11463, 10385)\t0.1069150359870077\n",
      "  (11463, 10019)\t0.16161265745394657\n",
      "  (11463, 3781)\t0.09208233393810626\n",
      "  (11463, 872)\t0.08269132061216918\n"
     ]
    }
   ],
   "source": [
    "print(tfidf_test)"
   ]
  },
  {
   "cell_type": "code",
   "execution_count": 30,
   "id": "combined-championship",
   "metadata": {},
   "outputs": [
    {
     "name": "stdout",
     "output_type": "stream",
     "text": [
      "['zvizdic', 'zvizic', 'zwak', 'zweig', 'zweli', 'zwillich', 'zwillig', 'zwolinski', 'zxmgklb', 'zych', 'zygot', 'zyklon', 'zynga', 'zypri', 'zyuganov', 'zyuseragentifzxzbreak', 'zzzzaaaacccchhh', 'zzzzzzzz', 'zzzzzzzzzzzzz', 'émigré']\n"
     ]
    }
   ],
   "source": [
    "print(tfidf_vect.get_feature_names()[-20:])"
   ]
  },
  {
   "cell_type": "code",
   "execution_count": 10,
   "id": "ordered-arizona",
   "metadata": {},
   "outputs": [],
   "source": [
    "count_vect = CountVectorizer()\n",
    "count_train = count_vect.fit_transform(X_train.values)\n",
    "count_test = count_vect.transform(X_test.values)"
   ]
  },
  {
   "cell_type": "code",
   "execution_count": 11,
   "id": "taken-turning",
   "metadata": {},
   "outputs": [
    {
     "name": "stdout",
     "output_type": "stream",
     "text": [
      "  (0, 543)\t1\n",
      "  (0, 872)\t3\n",
      "  (0, 1130)\t2\n",
      "  (0, 2323)\t1\n",
      "  (0, 5186)\t1\n",
      "  (0, 5827)\t1\n",
      "  (0, 6516)\t1\n",
      "  (0, 6804)\t1\n",
      "  (0, 8023)\t2\n",
      "  (0, 9277)\t1\n",
      "  (0, 9655)\t1\n",
      "  (0, 11528)\t1\n",
      "  (0, 17733)\t1\n",
      "  (0, 18050)\t1\n",
      "  (0, 19831)\t1\n",
      "  (0, 21502)\t1\n",
      "  (0, 22017)\t1\n",
      "  (0, 22116)\t9\n",
      "  (0, 22298)\t2\n",
      "  (0, 24237)\t1\n",
      "  (0, 24834)\t3\n",
      "  (0, 25029)\t1\n",
      "  (0, 25166)\t1\n",
      "  (0, 26702)\t1\n",
      "  (0, 26746)\t1\n",
      "  :\t:\n",
      "  (11463, 43590)\t1\n",
      "  (11463, 44515)\t2\n",
      "  (11463, 50649)\t1\n",
      "  (11463, 51519)\t2\n",
      "  (11463, 52757)\t1\n",
      "  (11463, 55986)\t1\n",
      "  (11463, 57037)\t1\n",
      "  (11463, 66697)\t1\n",
      "  (11463, 75106)\t1\n",
      "  (11463, 75528)\t1\n",
      "  (11463, 78065)\t1\n",
      "  (11463, 80734)\t1\n",
      "  (11463, 95896)\t1\n",
      "  (11463, 96674)\t1\n",
      "  (11463, 100242)\t1\n",
      "  (11463, 103158)\t1\n",
      "  (11463, 103861)\t1\n",
      "  (11463, 105646)\t1\n",
      "  (11463, 108855)\t1\n",
      "  (11463, 113774)\t1\n",
      "  (11463, 117133)\t1\n",
      "  (11463, 127124)\t1\n",
      "  (11463, 127130)\t1\n",
      "  (11463, 128329)\t1\n",
      "  (11463, 140928)\t1\n"
     ]
    }
   ],
   "source": [
    "print(count_test)"
   ]
  },
  {
   "cell_type": "code",
   "execution_count": 31,
   "id": "assigned-canberra",
   "metadata": {},
   "outputs": [
    {
     "name": "stdout",
     "output_type": "stream",
     "text": [
      "['aa', 'aaa', 'aaaahhhh', 'aaainnertextreplacernrngquotnquotelsevar', 'aab', 'aaba', 'aabo', 'aaccord', 'aachen', 'aadhaar', 'aadocumentmodevoid', 'aaf', 'aafunctionabforvar', 'aai', 'aaibfunctionabcifbbubampampybampampycampampkbforvar', 'aaja', 'aalberg', 'aalbert', 'aaldef', 'aalo']\n"
     ]
    }
   ],
   "source": [
    "print(count_vect.get_feature_names()[0:20])"
   ]
  },
  {
   "cell_type": "markdown",
   "id": "timely-bacon",
   "metadata": {},
   "source": [
    "## Machine learning"
   ]
  },
  {
   "cell_type": "code",
   "execution_count": 13,
   "id": "exempt-digest",
   "metadata": {},
   "outputs": [],
   "source": [
    "from sklearn.naive_bayes import MultinomialNB\n",
    "from sklearn import metrics\n",
    "from sklearn.metrics import accuracy_score"
   ]
  },
  {
   "cell_type": "code",
   "execution_count": 14,
   "id": "incorporated-promise",
   "metadata": {},
   "outputs": [
    {
     "name": "stdout",
     "output_type": "stream",
     "text": [
      "accuracy:   0.920\n",
      "[[4438  775]\n",
      " [ 142 6109]]\n"
     ]
    }
   ],
   "source": [
    "#Applying Naive Bayes\n",
    "clf = MultinomialNB() \n",
    "clf.fit(tfidf_train, Y_train)                       \n",
    "pred = clf.predict(tfidf_test)                     \n",
    "score = metrics.accuracy_score(Y_test, pred)\n",
    "print(\"accuracy:   %0.3f\" % score)\n",
    "cm = metrics.confusion_matrix(Y_test, pred)\n",
    "print(cm)"
   ]
  },
  {
   "cell_type": "code",
   "execution_count": 15,
   "id": "herbal-arthritis",
   "metadata": {},
   "outputs": [
    {
     "name": "stdout",
     "output_type": "stream",
     "text": [
      "Wrong predictions out of total\n",
      "917 / 11464\n",
      "Percentage accuracy:  92.0010467550593\n"
     ]
    }
   ],
   "source": [
    "print('Wrong predictions out of total')\n",
    "print((Y_test !=pred).sum(),'/',((Y_test == pred).sum()+(Y_test != pred).sum()))\n",
    "print('Percentage accuracy: ',100*accuracy_score(Y_test,pred))"
   ]
  },
  {
   "cell_type": "code",
   "execution_count": 16,
   "id": "statistical-presentation",
   "metadata": {},
   "outputs": [],
   "source": [
    "## Plotting confusion matrix for TF-Idf vectorizer"
   ]
  },
  {
   "cell_type": "code",
   "execution_count": 17,
   "id": "returning-modification",
   "metadata": {},
   "outputs": [
    {
     "data": {
      "image/png": "[encoded data removed]",
      "text/plain": [
       "<Figure size 432x288 with 2 Axes>"
      ]
     },
     "metadata": {
      "needs_background": "light"
     },
     "output_type": "display_data"
    }
   ],
   "source": [
    "sns.heatmap(cm, cmap=\"YlGnBu\", annot=True);"
   ]
  },
  {
   "cell_type": "markdown",
   "id": "infrared-lawyer",
   "metadata": {},
   "source": [
    "### Count Vectorized"
   ]
  },
  {
   "cell_type": "code",
   "execution_count": 18,
   "id": "acute-survivor",
   "metadata": {},
   "outputs": [
    {
     "name": "stdout",
     "output_type": "stream",
     "text": [
      "accuracy:   0.948\n",
      "[[4889  324]\n",
      " [ 275 5976]]\n"
     ]
    }
   ],
   "source": [
    "#Applying Naive Bayes\n",
    "clf = MultinomialNB() \n",
    "clf.fit(count_train, Y_train)                       \n",
    "pred1 = clf.predict(count_test)                    \n",
    "score = metrics.accuracy_score(Y_test, pred1)\n",
    "print(\"accuracy:   %0.3f\" % score)\n",
    "cm2 = metrics.confusion_matrix(Y_test, pred1)\n",
    "print(cm2)"
   ]
  },
  {
   "cell_type": "code",
   "execution_count": 19,
   "id": "seeing-container",
   "metadata": {},
   "outputs": [
    {
     "name": "stdout",
     "output_type": "stream",
     "text": [
      "Wrong predictions out of total\n",
      "599 / 11464\n",
      "Percentage accuracy:  94.77494766224703\n"
     ]
    }
   ],
   "source": [
    "print('Wrong predictions out of total')\n",
    "print((Y_test !=pred1).sum(),'/',((Y_test == pred1).sum()+(Y_test != pred1).sum()))\n",
    "print('Percentage accuracy: ',100*accuracy_score(Y_test,pred1))"
   ]
  },
  {
   "cell_type": "code",
   "execution_count": 20,
   "id": "prepared-arabic",
   "metadata": {},
   "outputs": [],
   "source": [
    "## Plotting confusion matrix for Count vectorizer."
   ]
  },
  {
   "cell_type": "code",
   "execution_count": 21,
   "id": "stainless-uncertainty",
   "metadata": {},
   "outputs": [
    {
     "data": {
      "image/png": "[encoded data removed]",
      "text/plain": [
       "<Figure size 432x288 with 2 Axes>"
      ]
     },
     "metadata": {
      "needs_background": "light"
     },
     "output_type": "display_data"
    }
   ],
   "source": [
    "sns.heatmap(cm2, cmap=\"YlGnBu\", annot=True);"
   ]
  },
  {
   "cell_type": "markdown",
   "id": "violent-prerequisite",
   "metadata": {},
   "source": [
    "## 2. Random Forest Model"
   ]
  },
  {
   "cell_type": "code",
   "execution_count": 22,
   "id": "nervous-humanity",
   "metadata": {},
   "outputs": [],
   "source": [
    "from sklearn.ensemble import RandomForestClassifier"
   ]
  },
  {
   "cell_type": "markdown",
   "id": "absolute-nigeria",
   "metadata": {},
   "source": [
    "### TF-Idf Vectorized"
   ]
  },
  {
   "cell_type": "code",
   "execution_count": 23,
   "id": "controlled-eclipse",
   "metadata": {},
   "outputs": [
    {
     "name": "stdout",
     "output_type": "stream",
     "text": [
      "Model accuracy on train is:  1.0\n",
      "Model accuracy on test is:  0.9576064200976971\n",
      "--------------------------------------------------\n",
      "confusion_matrix train is:  [[12180     0]\n",
      " [    0 14569]]\n",
      "confusion_matrix test is:  [[4867  346]\n",
      " [ 140 6111]]\n",
      "Wrong predictions out of total\n",
      "--------------------------------------------------\n",
      "486 / 11464\n",
      "--------------------------------------------------\n"
     ]
    }
   ],
   "source": [
    "RF=RandomForestClassifier().fit(tfidf_train,Y_train)\n",
    "#predict on train \n",
    "train_preds2 = RF.predict(tfidf_train)\n",
    "#accuracy on train\n",
    "print(\"Model accuracy on train is: \", accuracy_score(Y_train, train_preds2))\n",
    "\n",
    "#predict on test\n",
    "test_preds2 = RF.predict(tfidf_test)\n",
    "#accuracy on test\n",
    "print(\"Model accuracy on test is: \", accuracy_score(Y_test, test_preds2))\n",
    "print('-'*50)\n",
    "\n",
    "\n",
    "\n",
    "#Confusion matrix\n",
    "print(\"confusion_matrix train is: \", metrics.confusion_matrix(Y_train, train_preds2))\n",
    "print(\"confusion_matrix test is: \", metrics.confusion_matrix(Y_test, test_preds2))\n",
    "print('Wrong predictions out of total')\n",
    "print('-'*50)\n",
    "\n",
    "# Wrong Predictions made.\n",
    "print((Y_test !=test_preds2).sum(),'/',((Y_test == test_preds2).sum()+(Y_test != test_preds2).sum()))\n",
    "print('-'*50)"
   ]
  },
  {
   "cell_type": "markdown",
   "id": "second-michigan",
   "metadata": {},
   "source": [
    "### Count Vectorized"
   ]
  },
  {
   "cell_type": "code",
   "execution_count": 24,
   "id": "passing-munich",
   "metadata": {},
   "outputs": [
    {
     "name": "stdout",
     "output_type": "stream",
     "text": [
      "Model accuracy on train is:  1.0\n",
      "Model accuracy on test is:  0.9610083740404746\n",
      "--------------------------------------------------\n",
      "confusion_matrix train is:  [[12180     0]\n",
      " [    0 14569]]\n",
      "confusion_matrix test is:  [[4870  343]\n",
      " [ 104 6147]]\n",
      "Wrong predictions out of total\n",
      "--------------------------------------------------\n",
      "447 / 11464\n",
      "--------------------------------------------------\n"
     ]
    }
   ],
   "source": [
    "RF=RandomForestClassifier().fit(count_train,Y_train)\n",
    "#predict on train \n",
    "train_preds3 = RF.predict(count_train)\n",
    "#accuracy on train\n",
    "print(\"Model accuracy on train is: \", accuracy_score(Y_train, train_preds3))\n",
    "\n",
    "#predict on test\n",
    "test_preds3 = RF.predict(count_test)\n",
    "#accuracy on test\n",
    "print(\"Model accuracy on test is: \", accuracy_score(Y_test, test_preds3))\n",
    "print('-'*50)\n",
    "\n",
    "\n",
    "\n",
    "#Confusion matrix\n",
    "print(\"confusion_matrix train is: \", metrics.confusion_matrix(Y_train, train_preds3))\n",
    "print(\"confusion_matrix test is: \", metrics.confusion_matrix(Y_test, test_preds3))\n",
    "print('Wrong predictions out of total')\n",
    "print('-'*50)\n",
    "\n",
    "# Wrong Predictions made.\n",
    "print((Y_test !=test_preds3).sum(),'/',((Y_test == test_preds3).sum()+(Y_test != test_preds3).sum()))\n",
    "print('-'*50)"
   ]
  },
  {
   "cell_type": "markdown",
   "id": "urban-spiritual",
   "metadata": {},
   "source": [
    "## K-Nearest Neighbour"
   ]
  },
  {
   "cell_type": "code",
   "execution_count": 25,
   "id": "veterinary-handle",
   "metadata": {},
   "outputs": [],
   "source": [
    "from sklearn.neighbors import KNeighborsClassifier"
   ]
  },
  {
   "cell_type": "code",
   "execution_count": 26,
   "id": "authorized-sperm",
   "metadata": {},
   "outputs": [
    {
     "name": "stdout",
     "output_type": "stream",
     "text": [
      "Model accuracy on train is:  0.8817899734569516\n",
      "Model accuracy on test is:   0.8319958129797628\n",
      "--------------------------------------------------\n"
     ]
    }
   ],
   "source": [
    "#fit the model on train data \n",
    "KNN = KNeighborsClassifier().fit(tfidf_train,Y_train)\n",
    "#predict on train \n",
    "train_preds4 = KNN.predict(tfidf_train)\n",
    "#accuracy on train\n",
    "print(\"Model accuracy on train is: \", accuracy_score(Y_train, train_preds4))\n",
    "\n",
    "#predict on test\n",
    "test_preds4 = KNN.predict(tfidf_test)\n",
    "#accuracy on test\n",
    "print(\"Model accuracy on test is:  \", accuracy_score(Y_test, test_preds4))\n",
    "print('-'*50)"
   ]
  },
  {
   "cell_type": "code",
   "execution_count": 27,
   "id": "smart-virgin",
   "metadata": {},
   "outputs": [
    {
     "name": "stdout",
     "output_type": "stream",
     "text": [
      "confusion_matrix train is:  [[ 9381  2799]\n",
      " [  363 14206]]\n",
      "confusion_matrix test is:   [[3548 1665]\n",
      " [ 261 5990]]\n",
      "Wrong predictions out of total\n",
      "--------------------------------------------------\n",
      "1926 / 11464\n",
      "--------------------------------------------------\n"
     ]
    }
   ],
   "source": [
    "#Confusion matrix\n",
    "print(\"confusion_matrix train is: \", metrics.confusion_matrix(Y_train, train_preds4))\n",
    "print(\"confusion_matrix test is:  \", metrics.confusion_matrix(Y_test, test_preds4))\n",
    "print('Wrong predictions out of total')\n",
    "print('-'*50)\n",
    "\n",
    "# Wrong Predictions made.\n",
    "print((Y_test !=test_preds4).sum(),'/',((Y_test == test_preds4).sum()+(Y_test != test_preds4).sum()))\n",
    "\n",
    "print('-'*50)"
   ]
  },
  {
   "cell_type": "code",
   "execution_count": 28,
   "id": "reported-solution",
   "metadata": {},
   "outputs": [
    {
     "name": "stdout",
     "output_type": "stream",
     "text": [
      "Model accuracy on train is:  0.8066469774571012\n",
      "Model accuracy on test is:   0.7527041172365666\n",
      "--------------------------------------------------\n"
     ]
    }
   ],
   "source": [
    "#fit the model on train data \n",
    "KNN = KNeighborsClassifier().fit(count_train,Y_train)\n",
    "#predict on train \n",
    "train_preds5 = KNN.predict(count_train)\n",
    "#accuracy on train\n",
    "print(\"Model accuracy on train is: \", accuracy_score(Y_train, train_preds5))\n",
    "\n",
    "#predict on test\n",
    "test_preds5 = KNN.predict(count_test)\n",
    "#accuracy on test\n",
    "print(\"Model accuracy on test is:  \", accuracy_score(Y_test, test_preds5))\n",
    "print('-'*50)"
   ]
  },
  {
   "cell_type": "code",
   "execution_count": 29,
   "id": "neural-centre",
   "metadata": {},
   "outputs": [
    {
     "name": "stdout",
     "output_type": "stream",
     "text": [
      "confusion_matrix train is:  [[ 9049  3131]\n",
      " [ 2041 12528]]\n",
      "confusion_matrix test is:   [[3548 1665]\n",
      " [1170 5081]]\n",
      "Wrong predictions out of total\n",
      "--------------------------------------------------\n",
      "2835 / 11464\n",
      "--------------------------------------------------\n"
     ]
    }
   ],
   "source": [
    "#Confusion matrix\n",
    "print(\"confusion_matrix train is: \", metrics.confusion_matrix(Y_train, train_preds5))\n",
    "print(\"confusion_matrix test is:  \", metrics.confusion_matrix(Y_test, test_preds5))\n",
    "print('Wrong predictions out of total')\n",
    "print('-'*50)\n",
    "\n",
    "# Wrong Predictions made.\n",
    "print((Y_test !=test_preds5).sum(),'/',((Y_test == test_preds5).sum()+(Y_test != test_preds5).sum()))\n",
    "\n",
    "print('-'*50)"
   ]
  }
 ],
 "metadata": {
  "kernelspec": {
   "display_name": "Python 3",
   "language": "python",
   "name": "python3"
  },
  "language_info": {
   "codemirror_mode": {
    "name": "ipython",
    "version": 3
   },
   "file_extension": ".py",
   "mimetype": "text/x-python",
   "name": "python",
   "nbconvert_exporter": "python",
   "pygments_lexer": "ipython3",
   "version": "3.9.2"
  }
 },
 "nbformat": 4,
 "nbformat_minor": 5
}
